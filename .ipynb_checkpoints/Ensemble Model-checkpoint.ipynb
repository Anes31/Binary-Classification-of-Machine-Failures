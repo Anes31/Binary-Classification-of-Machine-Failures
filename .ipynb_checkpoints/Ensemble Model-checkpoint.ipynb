{
 "cells": [
  {
   "cell_type": "markdown",
   "id": "eebae837-9b77-4384-8c52-bb84c2496386",
   "metadata": {},
   "source": [
    "# Import Libraries"
   ]
  },
  {
   "cell_type": "code",
   "execution_count": 41,
   "id": "1446b426-43c1-47bb-899c-f32fe4a15be4",
   "metadata": {},
   "outputs": [],
   "source": [
    "import os\n",
    "import pandas as pd\n",
    "import numpy as np\n",
    "\n",
    "import scipy.stats\n",
    "\n",
    "import matplotlib.pyplot as plt\n",
    "import seaborn as sns\n",
    "\n",
    "from imblearn.over_sampling import SMOTE\n",
    "\n",
    "from sklearn.preprocessing import OneHotEncoder, MinMaxScaler\n",
    "from sklearn.ensemble import RandomForestClassifier, ExtraTreesClassifier, VotingClassifier\n",
    "from sklearn.neighbors import KNeighborsClassifier\n",
    "from sklearn.model_selection import cross_val_score, KFold\n",
    "from sklearn.metrics import roc_auc_score, roc_curve\n",
    "\n",
    "from lightgbm import LGBMClassifier\n",
    "from xgboost import XGBClassifier\n",
    "from catboost import CatBoostClassifier\n",
    "\n",
    "from pycaret.classification import setup, evaluate_model, compare_models, plot_model\n",
    "import optuna\n",
    "\n",
    "import sys\n",
    "sys.path.append(r'C:\\Users\\Anes3\\OneDrive\\Bureau\\python_utils')\n",
    "import classifier_utils"
   ]
  },
  {
   "cell_type": "markdown",
   "id": "f9d5b41b-40f5-420e-bf63-972bd1501930",
   "metadata": {},
   "source": [
    "# Import data"
   ]
  },
  {
   "cell_type": "code",
   "execution_count": 2,
   "id": "e1aef206-c94a-4a2b-b8b2-43c854b2c4a4",
   "metadata": {},
   "outputs": [],
   "source": [
    "train = pd.read_csv('train.csv')\n",
    "test = pd.read_csv('test.csv')\n",
    "sample_submission = pd.read_csv('sample_submission.csv')"
   ]
  },
  {
   "cell_type": "markdown",
   "id": "56fbeae4-0aba-47f2-81cf-6ab9343e46bf",
   "metadata": {},
   "source": [
    "# Split into X and target"
   ]
  },
  {
   "cell_type": "code",
   "execution_count": 3,
   "id": "237f6d75-fc1b-4fc1-9704-14003352cd4a",
   "metadata": {},
   "outputs": [],
   "source": [
    "train1 = train.drop('Machine failure', axis=1)\n",
    "y = train['Machine failure']"
   ]
  },
  {
   "cell_type": "markdown",
   "id": "f72d7ea8-1c28-4655-a1f5-0bb281e66d3c",
   "metadata": {},
   "source": [
    "# Combine train and test sets"
   ]
  },
  {
   "cell_type": "code",
   "execution_count": 4,
   "id": "17736fc3-b103-4a36-88d4-0a529e0c3446",
   "metadata": {},
   "outputs": [],
   "source": [
    "X0 = pd.concat([train1, test]).reset_index(drop=True)"
   ]
  },
  {
   "cell_type": "markdown",
   "id": "8746771a-9330-4149-9265-df816497c040",
   "metadata": {},
   "source": [
    "# Basic Data Exploration"
   ]
  },
  {
   "cell_type": "code",
   "execution_count": 5,
   "id": "6bf32200-0e76-44cc-b8ce-adf6b7fe49a7",
   "metadata": {},
   "outputs": [
    {
     "data": {
      "text/html": [
       "<div>\n",
       "<style scoped>\n",
       "    .dataframe tbody tr th:only-of-type {\n",
       "        vertical-align: middle;\n",
       "    }\n",
       "\n",
       "    .dataframe tbody tr th {\n",
       "        vertical-align: top;\n",
       "    }\n",
       "\n",
       "    .dataframe thead th {\n",
       "        text-align: right;\n",
       "    }\n",
       "</style>\n",
       "<table border=\"1\" class=\"dataframe\">\n",
       "  <thead>\n",
       "    <tr style=\"text-align: right;\">\n",
       "      <th></th>\n",
       "      <th>id</th>\n",
       "      <th>Product ID</th>\n",
       "      <th>Type</th>\n",
       "      <th>Air temperature [K]</th>\n",
       "      <th>Process temperature [K]</th>\n",
       "      <th>Rotational speed [rpm]</th>\n",
       "      <th>Torque [Nm]</th>\n",
       "      <th>Tool wear [min]</th>\n",
       "      <th>TWF</th>\n",
       "      <th>HDF</th>\n",
       "      <th>PWF</th>\n",
       "      <th>OSF</th>\n",
       "      <th>RNF</th>\n",
       "    </tr>\n",
       "  </thead>\n",
       "  <tbody>\n",
       "    <tr>\n",
       "      <th>0</th>\n",
       "      <td>0</td>\n",
       "      <td>L50096</td>\n",
       "      <td>L</td>\n",
       "      <td>300.6</td>\n",
       "      <td>309.6</td>\n",
       "      <td>1596</td>\n",
       "      <td>36.1</td>\n",
       "      <td>140</td>\n",
       "      <td>0</td>\n",
       "      <td>0</td>\n",
       "      <td>0</td>\n",
       "      <td>0</td>\n",
       "      <td>0</td>\n",
       "    </tr>\n",
       "    <tr>\n",
       "      <th>1</th>\n",
       "      <td>1</td>\n",
       "      <td>M20343</td>\n",
       "      <td>M</td>\n",
       "      <td>302.6</td>\n",
       "      <td>312.1</td>\n",
       "      <td>1759</td>\n",
       "      <td>29.1</td>\n",
       "      <td>200</td>\n",
       "      <td>0</td>\n",
       "      <td>0</td>\n",
       "      <td>0</td>\n",
       "      <td>0</td>\n",
       "      <td>0</td>\n",
       "    </tr>\n",
       "    <tr>\n",
       "      <th>2</th>\n",
       "      <td>2</td>\n",
       "      <td>L49454</td>\n",
       "      <td>L</td>\n",
       "      <td>299.3</td>\n",
       "      <td>308.5</td>\n",
       "      <td>1805</td>\n",
       "      <td>26.5</td>\n",
       "      <td>25</td>\n",
       "      <td>0</td>\n",
       "      <td>0</td>\n",
       "      <td>0</td>\n",
       "      <td>0</td>\n",
       "      <td>0</td>\n",
       "    </tr>\n",
       "    <tr>\n",
       "      <th>3</th>\n",
       "      <td>3</td>\n",
       "      <td>L53355</td>\n",
       "      <td>L</td>\n",
       "      <td>301.0</td>\n",
       "      <td>310.9</td>\n",
       "      <td>1524</td>\n",
       "      <td>44.3</td>\n",
       "      <td>197</td>\n",
       "      <td>0</td>\n",
       "      <td>0</td>\n",
       "      <td>0</td>\n",
       "      <td>0</td>\n",
       "      <td>0</td>\n",
       "    </tr>\n",
       "    <tr>\n",
       "      <th>4</th>\n",
       "      <td>4</td>\n",
       "      <td>M24050</td>\n",
       "      <td>M</td>\n",
       "      <td>298.0</td>\n",
       "      <td>309.0</td>\n",
       "      <td>1641</td>\n",
       "      <td>35.4</td>\n",
       "      <td>34</td>\n",
       "      <td>0</td>\n",
       "      <td>0</td>\n",
       "      <td>0</td>\n",
       "      <td>0</td>\n",
       "      <td>0</td>\n",
       "    </tr>\n",
       "  </tbody>\n",
       "</table>\n",
       "</div>"
      ],
      "text/plain": [
       "   id Product ID Type  Air temperature [K]  Process temperature [K]  \\\n",
       "0   0     L50096    L                300.6                    309.6   \n",
       "1   1     M20343    M                302.6                    312.1   \n",
       "2   2     L49454    L                299.3                    308.5   \n",
       "3   3     L53355    L                301.0                    310.9   \n",
       "4   4     M24050    M                298.0                    309.0   \n",
       "\n",
       "   Rotational speed [rpm]  Torque [Nm]  Tool wear [min]  TWF  HDF  PWF  OSF  \\\n",
       "0                    1596         36.1              140    0    0    0    0   \n",
       "1                    1759         29.1              200    0    0    0    0   \n",
       "2                    1805         26.5               25    0    0    0    0   \n",
       "3                    1524         44.3              197    0    0    0    0   \n",
       "4                    1641         35.4               34    0    0    0    0   \n",
       "\n",
       "   RNF  \n",
       "0    0  \n",
       "1    0  \n",
       "2    0  \n",
       "3    0  \n",
       "4    0  "
      ]
     },
     "execution_count": 5,
     "metadata": {},
     "output_type": "execute_result"
    }
   ],
   "source": [
    "X0.head()"
   ]
  },
  {
   "cell_type": "code",
   "execution_count": 6,
   "id": "d72563f6-4d2e-4d5c-8389-73bebbbde4af",
   "metadata": {},
   "outputs": [
    {
     "data": {
      "text/html": [
       "<div>\n",
       "<style scoped>\n",
       "    .dataframe tbody tr th:only-of-type {\n",
       "        vertical-align: middle;\n",
       "    }\n",
       "\n",
       "    .dataframe tbody tr th {\n",
       "        vertical-align: top;\n",
       "    }\n",
       "\n",
       "    .dataframe thead th {\n",
       "        text-align: right;\n",
       "    }\n",
       "</style>\n",
       "<table border=\"1\" class=\"dataframe\">\n",
       "  <thead>\n",
       "    <tr style=\"text-align: right;\">\n",
       "      <th></th>\n",
       "      <th>id</th>\n",
       "      <th>Product ID</th>\n",
       "      <th>Type</th>\n",
       "      <th>Air temperature [K]</th>\n",
       "      <th>Process temperature [K]</th>\n",
       "      <th>Rotational speed [rpm]</th>\n",
       "      <th>Torque [Nm]</th>\n",
       "      <th>Tool wear [min]</th>\n",
       "      <th>TWF</th>\n",
       "      <th>HDF</th>\n",
       "      <th>PWF</th>\n",
       "      <th>OSF</th>\n",
       "      <th>RNF</th>\n",
       "    </tr>\n",
       "  </thead>\n",
       "  <tbody>\n",
       "    <tr>\n",
       "      <th>227378</th>\n",
       "      <td>227378</td>\n",
       "      <td>L51130</td>\n",
       "      <td>L</td>\n",
       "      <td>302.3</td>\n",
       "      <td>311.4</td>\n",
       "      <td>1484</td>\n",
       "      <td>40.4</td>\n",
       "      <td>15</td>\n",
       "      <td>0</td>\n",
       "      <td>0</td>\n",
       "      <td>0</td>\n",
       "      <td>0</td>\n",
       "      <td>0</td>\n",
       "    </tr>\n",
       "    <tr>\n",
       "      <th>227379</th>\n",
       "      <td>227379</td>\n",
       "      <td>L47783</td>\n",
       "      <td>L</td>\n",
       "      <td>297.9</td>\n",
       "      <td>309.8</td>\n",
       "      <td>1542</td>\n",
       "      <td>33.8</td>\n",
       "      <td>31</td>\n",
       "      <td>0</td>\n",
       "      <td>0</td>\n",
       "      <td>0</td>\n",
       "      <td>0</td>\n",
       "      <td>0</td>\n",
       "    </tr>\n",
       "    <tr>\n",
       "      <th>227380</th>\n",
       "      <td>227380</td>\n",
       "      <td>L48097</td>\n",
       "      <td>L</td>\n",
       "      <td>295.6</td>\n",
       "      <td>306.2</td>\n",
       "      <td>1501</td>\n",
       "      <td>41.4</td>\n",
       "      <td>187</td>\n",
       "      <td>0</td>\n",
       "      <td>0</td>\n",
       "      <td>0</td>\n",
       "      <td>0</td>\n",
       "      <td>0</td>\n",
       "    </tr>\n",
       "    <tr>\n",
       "      <th>227381</th>\n",
       "      <td>227381</td>\n",
       "      <td>L48969</td>\n",
       "      <td>L</td>\n",
       "      <td>298.1</td>\n",
       "      <td>307.8</td>\n",
       "      <td>1534</td>\n",
       "      <td>40.3</td>\n",
       "      <td>69</td>\n",
       "      <td>0</td>\n",
       "      <td>0</td>\n",
       "      <td>0</td>\n",
       "      <td>0</td>\n",
       "      <td>0</td>\n",
       "    </tr>\n",
       "    <tr>\n",
       "      <th>227382</th>\n",
       "      <td>227382</td>\n",
       "      <td>L52525</td>\n",
       "      <td>L</td>\n",
       "      <td>303.5</td>\n",
       "      <td>312.8</td>\n",
       "      <td>1534</td>\n",
       "      <td>36.1</td>\n",
       "      <td>92</td>\n",
       "      <td>0</td>\n",
       "      <td>0</td>\n",
       "      <td>0</td>\n",
       "      <td>0</td>\n",
       "      <td>0</td>\n",
       "    </tr>\n",
       "  </tbody>\n",
       "</table>\n",
       "</div>"
      ],
      "text/plain": [
       "            id Product ID Type  Air temperature [K]  Process temperature [K]  \\\n",
       "227378  227378     L51130    L                302.3                    311.4   \n",
       "227379  227379     L47783    L                297.9                    309.8   \n",
       "227380  227380     L48097    L                295.6                    306.2   \n",
       "227381  227381     L48969    L                298.1                    307.8   \n",
       "227382  227382     L52525    L                303.5                    312.8   \n",
       "\n",
       "        Rotational speed [rpm]  Torque [Nm]  Tool wear [min]  TWF  HDF  PWF  \\\n",
       "227378                    1484         40.4               15    0    0    0   \n",
       "227379                    1542         33.8               31    0    0    0   \n",
       "227380                    1501         41.4              187    0    0    0   \n",
       "227381                    1534         40.3               69    0    0    0   \n",
       "227382                    1534         36.1               92    0    0    0   \n",
       "\n",
       "        OSF  RNF  \n",
       "227378    0    0  \n",
       "227379    0    0  \n",
       "227380    0    0  \n",
       "227381    0    0  \n",
       "227382    0    0  "
      ]
     },
     "execution_count": 6,
     "metadata": {},
     "output_type": "execute_result"
    }
   ],
   "source": [
    "X0.tail()"
   ]
  },
  {
   "cell_type": "code",
   "execution_count": 7,
   "id": "c7db473c-9af5-4511-9b5b-36e8008151dd",
   "metadata": {},
   "outputs": [
    {
     "data": {
      "text/html": [
       "<div>\n",
       "<style scoped>\n",
       "    .dataframe tbody tr th:only-of-type {\n",
       "        vertical-align: middle;\n",
       "    }\n",
       "\n",
       "    .dataframe tbody tr th {\n",
       "        vertical-align: top;\n",
       "    }\n",
       "\n",
       "    .dataframe thead th {\n",
       "        text-align: right;\n",
       "    }\n",
       "</style>\n",
       "<table border=\"1\" class=\"dataframe\">\n",
       "  <thead>\n",
       "    <tr style=\"text-align: right;\">\n",
       "      <th></th>\n",
       "      <th>id</th>\n",
       "      <th>Air temperature [K]</th>\n",
       "      <th>Process temperature [K]</th>\n",
       "      <th>Rotational speed [rpm]</th>\n",
       "      <th>Torque [Nm]</th>\n",
       "      <th>Tool wear [min]</th>\n",
       "      <th>TWF</th>\n",
       "      <th>HDF</th>\n",
       "      <th>PWF</th>\n",
       "      <th>OSF</th>\n",
       "      <th>RNF</th>\n",
       "    </tr>\n",
       "  </thead>\n",
       "  <tbody>\n",
       "    <tr>\n",
       "      <th>count</th>\n",
       "      <td>227383.000000</td>\n",
       "      <td>227383.000000</td>\n",
       "      <td>227383.000000</td>\n",
       "      <td>227383.000000</td>\n",
       "      <td>227383.000000</td>\n",
       "      <td>227383.000000</td>\n",
       "      <td>227383.000000</td>\n",
       "      <td>227383.000000</td>\n",
       "      <td>227383.000000</td>\n",
       "      <td>227383.000000</td>\n",
       "      <td>227383.000000</td>\n",
       "    </tr>\n",
       "    <tr>\n",
       "      <th>mean</th>\n",
       "      <td>113691.000000</td>\n",
       "      <td>299.861463</td>\n",
       "      <td>309.940392</td>\n",
       "      <td>1520.409938</td>\n",
       "      <td>40.343262</td>\n",
       "      <td>104.362925</td>\n",
       "      <td>0.001522</td>\n",
       "      <td>0.005233</td>\n",
       "      <td>0.002379</td>\n",
       "      <td>0.003923</td>\n",
       "      <td>0.002278</td>\n",
       "    </tr>\n",
       "    <tr>\n",
       "      <th>std</th>\n",
       "      <td>65639.962467</td>\n",
       "      <td>1.860371</td>\n",
       "      <td>1.385219</td>\n",
       "      <td>139.231189</td>\n",
       "      <td>8.503195</td>\n",
       "      <td>63.927361</td>\n",
       "      <td>0.038979</td>\n",
       "      <td>0.072153</td>\n",
       "      <td>0.048720</td>\n",
       "      <td>0.062510</td>\n",
       "      <td>0.047675</td>\n",
       "    </tr>\n",
       "    <tr>\n",
       "      <th>min</th>\n",
       "      <td>0.000000</td>\n",
       "      <td>295.300000</td>\n",
       "      <td>305.700000</td>\n",
       "      <td>1168.000000</td>\n",
       "      <td>3.800000</td>\n",
       "      <td>0.000000</td>\n",
       "      <td>0.000000</td>\n",
       "      <td>0.000000</td>\n",
       "      <td>0.000000</td>\n",
       "      <td>0.000000</td>\n",
       "      <td>0.000000</td>\n",
       "    </tr>\n",
       "    <tr>\n",
       "      <th>25%</th>\n",
       "      <td>56845.500000</td>\n",
       "      <td>298.300000</td>\n",
       "      <td>308.700000</td>\n",
       "      <td>1432.000000</td>\n",
       "      <td>34.600000</td>\n",
       "      <td>48.000000</td>\n",
       "      <td>0.000000</td>\n",
       "      <td>0.000000</td>\n",
       "      <td>0.000000</td>\n",
       "      <td>0.000000</td>\n",
       "      <td>0.000000</td>\n",
       "    </tr>\n",
       "    <tr>\n",
       "      <th>50%</th>\n",
       "      <td>113691.000000</td>\n",
       "      <td>300.000000</td>\n",
       "      <td>310.000000</td>\n",
       "      <td>1493.000000</td>\n",
       "      <td>40.500000</td>\n",
       "      <td>106.000000</td>\n",
       "      <td>0.000000</td>\n",
       "      <td>0.000000</td>\n",
       "      <td>0.000000</td>\n",
       "      <td>0.000000</td>\n",
       "      <td>0.000000</td>\n",
       "    </tr>\n",
       "    <tr>\n",
       "      <th>75%</th>\n",
       "      <td>170536.500000</td>\n",
       "      <td>301.200000</td>\n",
       "      <td>310.900000</td>\n",
       "      <td>1579.000000</td>\n",
       "      <td>46.100000</td>\n",
       "      <td>159.000000</td>\n",
       "      <td>0.000000</td>\n",
       "      <td>0.000000</td>\n",
       "      <td>0.000000</td>\n",
       "      <td>0.000000</td>\n",
       "      <td>0.000000</td>\n",
       "    </tr>\n",
       "    <tr>\n",
       "      <th>max</th>\n",
       "      <td>227382.000000</td>\n",
       "      <td>304.400000</td>\n",
       "      <td>313.800000</td>\n",
       "      <td>2886.000000</td>\n",
       "      <td>76.600000</td>\n",
       "      <td>253.000000</td>\n",
       "      <td>1.000000</td>\n",
       "      <td>1.000000</td>\n",
       "      <td>1.000000</td>\n",
       "      <td>1.000000</td>\n",
       "      <td>1.000000</td>\n",
       "    </tr>\n",
       "  </tbody>\n",
       "</table>\n",
       "</div>"
      ],
      "text/plain": [
       "                  id  Air temperature [K]  Process temperature [K]  \\\n",
       "count  227383.000000        227383.000000            227383.000000   \n",
       "mean   113691.000000           299.861463               309.940392   \n",
       "std     65639.962467             1.860371                 1.385219   \n",
       "min         0.000000           295.300000               305.700000   \n",
       "25%     56845.500000           298.300000               308.700000   \n",
       "50%    113691.000000           300.000000               310.000000   \n",
       "75%    170536.500000           301.200000               310.900000   \n",
       "max    227382.000000           304.400000               313.800000   \n",
       "\n",
       "       Rotational speed [rpm]    Torque [Nm]  Tool wear [min]            TWF  \\\n",
       "count           227383.000000  227383.000000    227383.000000  227383.000000   \n",
       "mean              1520.409938      40.343262       104.362925       0.001522   \n",
       "std                139.231189       8.503195        63.927361       0.038979   \n",
       "min               1168.000000       3.800000         0.000000       0.000000   \n",
       "25%               1432.000000      34.600000        48.000000       0.000000   \n",
       "50%               1493.000000      40.500000       106.000000       0.000000   \n",
       "75%               1579.000000      46.100000       159.000000       0.000000   \n",
       "max               2886.000000      76.600000       253.000000       1.000000   \n",
       "\n",
       "                 HDF            PWF            OSF            RNF  \n",
       "count  227383.000000  227383.000000  227383.000000  227383.000000  \n",
       "mean        0.005233       0.002379       0.003923       0.002278  \n",
       "std         0.072153       0.048720       0.062510       0.047675  \n",
       "min         0.000000       0.000000       0.000000       0.000000  \n",
       "25%         0.000000       0.000000       0.000000       0.000000  \n",
       "50%         0.000000       0.000000       0.000000       0.000000  \n",
       "75%         0.000000       0.000000       0.000000       0.000000  \n",
       "max         1.000000       1.000000       1.000000       1.000000  "
      ]
     },
     "execution_count": 7,
     "metadata": {},
     "output_type": "execute_result"
    }
   ],
   "source": [
    "X0.describe()"
   ]
  },
  {
   "cell_type": "code",
   "execution_count": 8,
   "id": "35b634ed-e9b9-4272-bb5b-41ac2d095522",
   "metadata": {},
   "outputs": [
    {
     "data": {
      "text/plain": [
       "(227383, 13)"
      ]
     },
     "execution_count": 8,
     "metadata": {},
     "output_type": "execute_result"
    }
   ],
   "source": [
    "X0.shape"
   ]
  },
  {
   "cell_type": "code",
   "execution_count": 9,
   "id": "f375e7b9-02d5-4550-be8d-0bbba4745d6e",
   "metadata": {},
   "outputs": [
    {
     "data": {
      "text/plain": [
       "227383"
      ]
     },
     "execution_count": 9,
     "metadata": {},
     "output_type": "execute_result"
    }
   ],
   "source": [
    "X0.id.nunique()"
   ]
  },
  {
   "cell_type": "code",
   "execution_count": 10,
   "id": "e5c1bdf3-d2e7-49e2-bc75-9b772b0f7bff",
   "metadata": {},
   "outputs": [
    {
     "data": {
      "text/plain": [
       "9995"
      ]
     },
     "execution_count": 10,
     "metadata": {},
     "output_type": "execute_result"
    }
   ],
   "source": [
    "X0['Product ID'].nunique()"
   ]
  },
  {
   "cell_type": "code",
   "execution_count": 11,
   "id": "4d54ebc0-b8a9-4e51-955d-b3957ac0acf7",
   "metadata": {},
   "outputs": [
    {
     "data": {
      "text/plain": [
       "L    158792\n",
       "M     53687\n",
       "H     14904\n",
       "Name: Type, dtype: int64"
      ]
     },
     "execution_count": 11,
     "metadata": {},
     "output_type": "execute_result"
    }
   ],
   "source": [
    "X0.Type.value_counts()"
   ]
  },
  {
   "cell_type": "markdown",
   "id": "037f46b5-6210-40a8-812e-cad194ffef04",
   "metadata": {},
   "source": [
    "# Data Cleaning"
   ]
  },
  {
   "cell_type": "code",
   "execution_count": 12,
   "id": "9a60c116-eadb-4738-baee-9f842a7799e3",
   "metadata": {},
   "outputs": [
    {
     "data": {
      "text/plain": [
       "id                         0\n",
       "Product ID                 0\n",
       "Type                       0\n",
       "Air temperature [K]        0\n",
       "Process temperature [K]    0\n",
       "Rotational speed [rpm]     0\n",
       "Torque [Nm]                0\n",
       "Tool wear [min]            0\n",
       "TWF                        0\n",
       "HDF                        0\n",
       "PWF                        0\n",
       "OSF                        0\n",
       "RNF                        0\n",
       "dtype: int64"
      ]
     },
     "execution_count": 12,
     "metadata": {},
     "output_type": "execute_result"
    }
   ],
   "source": [
    "X0.isnull().sum()"
   ]
  },
  {
   "cell_type": "code",
   "execution_count": 13,
   "id": "fc907c45-63da-47c5-b347-38ef1444fe30",
   "metadata": {},
   "outputs": [
    {
     "data": {
      "text/plain": [
       "Index(['id', 'Product ID', 'Type', 'Air temperature [K]',\n",
       "       'Process temperature [K]', 'Rotational speed [rpm]', 'Torque [Nm]',\n",
       "       'Tool wear [min]', 'TWF', 'HDF', 'PWF', 'OSF', 'RNF'],\n",
       "      dtype='object')"
      ]
     },
     "execution_count": 13,
     "metadata": {},
     "output_type": "execute_result"
    }
   ],
   "source": [
    "X0.columns"
   ]
  },
  {
   "cell_type": "code",
   "execution_count": 14,
   "id": "e4df8af8-603d-4a06-9488-e07319fb42de",
   "metadata": {},
   "outputs": [],
   "source": [
    "X1 = X0.copy()\n",
    "\n",
    "X1 = X1.drop(columns=['id', 'Product ID'])#, 'TWF', 'HDF', 'PWF', 'OSF', 'RNF'])"
   ]
  },
  {
   "cell_type": "markdown",
   "id": "82956f79-c64a-4107-a953-60d70d4655f4",
   "metadata": {},
   "source": [
    "# Data Transformation"
   ]
  },
  {
   "cell_type": "code",
   "execution_count": 15,
   "id": "36add3bd-77b7-40d4-a349-80a50993aadc",
   "metadata": {},
   "outputs": [],
   "source": [
    "# encoder = OneHotEncoder()\n",
    "# encoder.fit(X1.Type.values.reshape(-1, 1))\n",
    "# encoder_type = encoder.transform(X1.Type.values.reshape(-1, 1)).toarray()"
   ]
  },
  {
   "cell_type": "code",
   "execution_count": 16,
   "id": "6e503a68-fc9d-4538-9046-692e632e3312",
   "metadata": {},
   "outputs": [],
   "source": [
    "dummies = pd.get_dummies(X1.Type, prefix='Type', drop_first=True)\n",
    "X1 = pd.concat([X1, dummies], axis='columns')\n",
    "X1 = X1.drop(['Type'], axis='columns')"
   ]
  },
  {
   "cell_type": "code",
   "execution_count": 17,
   "id": "e7d3c768-ff91-499e-b58a-e679f1ecf7e8",
   "metadata": {},
   "outputs": [],
   "source": [
    "X2 = X1.copy()"
   ]
  },
  {
   "cell_type": "code",
   "execution_count": 18,
   "id": "a0a26f4f-96f8-4b64-b3c5-868eb845bd62",
   "metadata": {},
   "outputs": [],
   "source": [
    "scaler = MinMaxScaler()\n",
    "\n",
    "scaler.fit(X2)\n",
    "X2 = pd.DataFrame(scaler.transform(X2), index=X2.index, columns=X2.columns)"
   ]
  },
  {
   "cell_type": "code",
   "execution_count": 19,
   "id": "4e8064d3-b4cd-436c-82a8-4a37440a7d65",
   "metadata": {},
   "outputs": [
    {
     "data": {
      "image/png": "[encoded data removed]",
      "text/plain": [
       "<Figure size 800x550 with 1 Axes>"
      ]
     },
     "metadata": {},
     "output_type": "display_data"
    }
   ],
   "source": [
    "sns.histplot(X2['Rotational speed [rpm]'])\n",
    "plt.show()"
   ]
  },
  {
   "cell_type": "code",
   "execution_count": 20,
   "id": "9950b591-9835-47dc-98f8-e4b55abfe9e7",
   "metadata": {},
   "outputs": [],
   "source": [
    "X3 = X2.copy()"
   ]
  },
  {
   "cell_type": "code",
   "execution_count": 21,
   "id": "84031e90-f1e3-4daa-a921-f422d561d7eb",
   "metadata": {},
   "outputs": [
    {
     "name": "stdout",
     "output_type": "stream",
     "text": [
      "Rotational speed [rpm] skewness: 1.9123753127313237\n"
     ]
    }
   ],
   "source": [
    "skew_cols = []\n",
    "for col in X3.columns.drop(['TWF', 'HDF', 'PWF', 'OSF', 'RNF', 'Type_M']):\n",
    "    if scipy.stats.skew(X3[col])>=1:\n",
    "        print(col, 'skewness:', scipy.stats.skew(X3[col]))\n",
    "        skew_cols.append(col)"
   ]
  },
  {
   "cell_type": "code",
   "execution_count": 22,
   "id": "7fb36950-f65b-4f65-b147-cd4209163500",
   "metadata": {},
   "outputs": [
    {
     "data": {
      "text/plain": [
       "['Rotational speed [rpm]']"
      ]
     },
     "execution_count": 22,
     "metadata": {},
     "output_type": "execute_result"
    }
   ],
   "source": [
    "skew_cols"
   ]
  },
  {
   "cell_type": "code",
   "execution_count": 23,
   "id": "b87d15d0-7f46-4c05-bb51-57a4030400e2",
   "metadata": {},
   "outputs": [],
   "source": [
    "for col in skew_cols:\n",
    "    X3[col] = np.log1p(X3[col])"
   ]
  },
  {
   "cell_type": "markdown",
   "id": "e8447307-fafe-416b-adcd-f77dfd0a3351",
   "metadata": {},
   "source": [
    "# Split Train and Test Sets"
   ]
  },
  {
   "cell_type": "code",
   "execution_count": 24,
   "id": "c57fe491-f250-4acd-b78b-da1870c6ac7d",
   "metadata": {},
   "outputs": [],
   "source": [
    "X4 = X3.iloc[:136429, :]\n",
    "test_final = X3.iloc[136429:, :]"
   ]
  },
  {
   "cell_type": "markdown",
   "id": "06cf2dd6-5b16-4571-a01f-994c0faab808",
   "metadata": {
    "tags": []
   },
   "source": [
    "# Target Variable"
   ]
  },
  {
   "cell_type": "code",
   "execution_count": 25,
   "id": "0fe09d89-575b-4ee7-8b5e-3e901f471f61",
   "metadata": {},
   "outputs": [
    {
     "data": {
      "image/png": "[encoded data removed]",
      "text/plain": [
       "<Figure size 800x550 with 1 Axes>"
      ]
     },
     "metadata": {},
     "output_type": "display_data"
    }
   ],
   "source": [
    "sns.barplot(x=y.unique(), y=y.value_counts())\n",
    "plt.show()"
   ]
  },
  {
   "cell_type": "code",
   "execution_count": 26,
   "id": "489c80e7-af69-493f-86a3-2621bd4ee2d5",
   "metadata": {},
   "outputs": [
    {
     "data": {
      "text/plain": [
       "0    134281\n",
       "1      2148\n",
       "Name: Machine failure, dtype: int64"
      ]
     },
     "execution_count": 26,
     "metadata": {},
     "output_type": "execute_result"
    }
   ],
   "source": [
    "y.value_counts()"
   ]
  },
  {
   "cell_type": "code",
   "execution_count": 27,
   "id": "282ec722-28a3-4661-8d03-022dd5baf674",
   "metadata": {},
   "outputs": [
    {
     "data": {
      "text/plain": [
       "0.9843"
      ]
     },
     "execution_count": 27,
     "metadata": {},
     "output_type": "execute_result"
    }
   ],
   "source": [
    "round(y.value_counts()[0]/y.shape[0], 4)"
   ]
  },
  {
   "cell_type": "code",
   "execution_count": 28,
   "id": "a6ab1fa6-e676-43f5-8b1f-11aebf38b07a",
   "metadata": {},
   "outputs": [
    {
     "name": "stdout",
     "output_type": "stream",
     "text": [
      "Shape of train data before oversampling: (136429, 12)\n",
      "Shape of train data after oversampling: (268562, 12)\n"
     ]
    }
   ],
   "source": [
    "print('Shape of train data before oversampling:', X4.shape)\n",
    "sm = SMOTE(random_state=42)\n",
    "X5, y = sm.fit_resample(X4, y)\n",
    "print('Shape of train data after oversampling:', X5.shape)"
   ]
  },
  {
   "cell_type": "markdown",
   "id": "7c29d7ea-cafb-41f2-81b4-7a308971c432",
   "metadata": {},
   "source": [
    "# Model Selection"
   ]
  },
  {
   "cell_type": "code",
   "execution_count": 29,
   "id": "fc4c4859-4fe3-43a0-9ddf-a0cccb526696",
   "metadata": {},
   "outputs": [],
   "source": [
    "train_final = pd.concat([X5, pd.DataFrame(data=y, columns=['Machine failure'])], axis=1)"
   ]
  },
  {
   "cell_type": "code",
   "execution_count": 30,
   "id": "cf02e118-2ec1-446d-94a5-69b4e5980e39",
   "metadata": {},
   "outputs": [
    {
     "data": {
      "text/html": [
       "<style type=\"text/css\">\n",
       "#T_0edfb_row8_col1 {\n",
       "  background-color: lightgreen;\n",
       "}\n",
       "</style>\n",
       "<table id=\"T_0edfb_\">\n",
       "  <thead>\n",
       "    <tr>\n",
       "      <th class=\"blank level0\" >&nbsp;</th>\n",
       "      <th class=\"col_heading level0 col0\" >Description</th>\n",
       "      <th class=\"col_heading level0 col1\" >Value</th>\n",
       "    </tr>\n",
       "  </thead>\n",
       "  <tbody>\n",
       "    <tr>\n",
       "      <th id=\"T_0edfb_level0_row0\" class=\"row_heading level0 row0\" >0</th>\n",
       "      <td id=\"T_0edfb_row0_col0\" class=\"data row0 col0\" >Session id</td>\n",
       "      <td id=\"T_0edfb_row0_col1\" class=\"data row0 col1\" >1832</td>\n",
       "    </tr>\n",
       "    <tr>\n",
       "      <th id=\"T_0edfb_level0_row1\" class=\"row_heading level0 row1\" >1</th>\n",
       "      <td id=\"T_0edfb_row1_col0\" class=\"data row1 col0\" >Target</td>\n",
       "      <td id=\"T_0edfb_row1_col1\" class=\"data row1 col1\" >Machine failure</td>\n",
       "    </tr>\n",
       "    <tr>\n",
       "      <th id=\"T_0edfb_level0_row2\" class=\"row_heading level0 row2\" >2</th>\n",
       "      <td id=\"T_0edfb_row2_col0\" class=\"data row2 col0\" >Target type</td>\n",
       "      <td id=\"T_0edfb_row2_col1\" class=\"data row2 col1\" >Binary</td>\n",
       "    </tr>\n",
       "    <tr>\n",
       "      <th id=\"T_0edfb_level0_row3\" class=\"row_heading level0 row3\" >3</th>\n",
       "      <td id=\"T_0edfb_row3_col0\" class=\"data row3 col0\" >Original data shape</td>\n",
       "      <td id=\"T_0edfb_row3_col1\" class=\"data row3 col1\" >(268562, 13)</td>\n",
       "    </tr>\n",
       "    <tr>\n",
       "      <th id=\"T_0edfb_level0_row4\" class=\"row_heading level0 row4\" >4</th>\n",
       "      <td id=\"T_0edfb_row4_col0\" class=\"data row4 col0\" >Transformed data shape</td>\n",
       "      <td id=\"T_0edfb_row4_col1\" class=\"data row4 col1\" >(268562, 13)</td>\n",
       "    </tr>\n",
       "    <tr>\n",
       "      <th id=\"T_0edfb_level0_row5\" class=\"row_heading level0 row5\" >5</th>\n",
       "      <td id=\"T_0edfb_row5_col0\" class=\"data row5 col0\" >Transformed train set shape</td>\n",
       "      <td id=\"T_0edfb_row5_col1\" class=\"data row5 col1\" >(187993, 13)</td>\n",
       "    </tr>\n",
       "    <tr>\n",
       "      <th id=\"T_0edfb_level0_row6\" class=\"row_heading level0 row6\" >6</th>\n",
       "      <td id=\"T_0edfb_row6_col0\" class=\"data row6 col0\" >Transformed test set shape</td>\n",
       "      <td id=\"T_0edfb_row6_col1\" class=\"data row6 col1\" >(80569, 13)</td>\n",
       "    </tr>\n",
       "    <tr>\n",
       "      <th id=\"T_0edfb_level0_row7\" class=\"row_heading level0 row7\" >7</th>\n",
       "      <td id=\"T_0edfb_row7_col0\" class=\"data row7 col0\" >Numeric features</td>\n",
       "      <td id=\"T_0edfb_row7_col1\" class=\"data row7 col1\" >12</td>\n",
       "    </tr>\n",
       "    <tr>\n",
       "      <th id=\"T_0edfb_level0_row8\" class=\"row_heading level0 row8\" >8</th>\n",
       "      <td id=\"T_0edfb_row8_col0\" class=\"data row8 col0\" >Preprocess</td>\n",
       "      <td id=\"T_0edfb_row8_col1\" class=\"data row8 col1\" >True</td>\n",
       "    </tr>\n",
       "    <tr>\n",
       "      <th id=\"T_0edfb_level0_row9\" class=\"row_heading level0 row9\" >9</th>\n",
       "      <td id=\"T_0edfb_row9_col0\" class=\"data row9 col0\" >Imputation type</td>\n",
       "      <td id=\"T_0edfb_row9_col1\" class=\"data row9 col1\" >simple</td>\n",
       "    </tr>\n",
       "    <tr>\n",
       "      <th id=\"T_0edfb_level0_row10\" class=\"row_heading level0 row10\" >10</th>\n",
       "      <td id=\"T_0edfb_row10_col0\" class=\"data row10 col0\" >Numeric imputation</td>\n",
       "      <td id=\"T_0edfb_row10_col1\" class=\"data row10 col1\" >mean</td>\n",
       "    </tr>\n",
       "    <tr>\n",
       "      <th id=\"T_0edfb_level0_row11\" class=\"row_heading level0 row11\" >11</th>\n",
       "      <td id=\"T_0edfb_row11_col0\" class=\"data row11 col0\" >Categorical imputation</td>\n",
       "      <td id=\"T_0edfb_row11_col1\" class=\"data row11 col1\" >mode</td>\n",
       "    </tr>\n",
       "    <tr>\n",
       "      <th id=\"T_0edfb_level0_row12\" class=\"row_heading level0 row12\" >12</th>\n",
       "      <td id=\"T_0edfb_row12_col0\" class=\"data row12 col0\" >Fold Generator</td>\n",
       "      <td id=\"T_0edfb_row12_col1\" class=\"data row12 col1\" >StratifiedKFold</td>\n",
       "    </tr>\n",
       "    <tr>\n",
       "      <th id=\"T_0edfb_level0_row13\" class=\"row_heading level0 row13\" >13</th>\n",
       "      <td id=\"T_0edfb_row13_col0\" class=\"data row13 col0\" >Fold Number</td>\n",
       "      <td id=\"T_0edfb_row13_col1\" class=\"data row13 col1\" >10</td>\n",
       "    </tr>\n",
       "    <tr>\n",
       "      <th id=\"T_0edfb_level0_row14\" class=\"row_heading level0 row14\" >14</th>\n",
       "      <td id=\"T_0edfb_row14_col0\" class=\"data row14 col0\" >CPU Jobs</td>\n",
       "      <td id=\"T_0edfb_row14_col1\" class=\"data row14 col1\" >-1</td>\n",
       "    </tr>\n",
       "    <tr>\n",
       "      <th id=\"T_0edfb_level0_row15\" class=\"row_heading level0 row15\" >15</th>\n",
       "      <td id=\"T_0edfb_row15_col0\" class=\"data row15 col0\" >Use GPU</td>\n",
       "      <td id=\"T_0edfb_row15_col1\" class=\"data row15 col1\" >False</td>\n",
       "    </tr>\n",
       "    <tr>\n",
       "      <th id=\"T_0edfb_level0_row16\" class=\"row_heading level0 row16\" >16</th>\n",
       "      <td id=\"T_0edfb_row16_col0\" class=\"data row16 col0\" >Log Experiment</td>\n",
       "      <td id=\"T_0edfb_row16_col1\" class=\"data row16 col1\" >False</td>\n",
       "    </tr>\n",
       "    <tr>\n",
       "      <th id=\"T_0edfb_level0_row17\" class=\"row_heading level0 row17\" >17</th>\n",
       "      <td id=\"T_0edfb_row17_col0\" class=\"data row17 col0\" >Experiment Name</td>\n",
       "      <td id=\"T_0edfb_row17_col1\" class=\"data row17 col1\" >clf-default-name</td>\n",
       "    </tr>\n",
       "    <tr>\n",
       "      <th id=\"T_0edfb_level0_row18\" class=\"row_heading level0 row18\" >18</th>\n",
       "      <td id=\"T_0edfb_row18_col0\" class=\"data row18 col0\" >USI</td>\n",
       "      <td id=\"T_0edfb_row18_col1\" class=\"data row18 col1\" >8514</td>\n",
       "    </tr>\n",
       "  </tbody>\n",
       "</table>\n"
      ],
      "text/plain": [
       "<pandas.io.formats.style.Styler at 0x2acd4d7f788>"
      ]
     },
     "metadata": {},
     "output_type": "display_data"
    }
   ],
   "source": [
    "# _ = setup(data=train_final, target='Machine failure')"
   ]
  },
  {
   "cell_type": "code",
   "execution_count": 31,
   "id": "e980dc63-d832-4268-ab3e-4bf9e504193e",
   "metadata": {},
   "outputs": [
    {
     "data": {
      "text/html": [],
      "text/plain": [
       "<IPython.core.display.HTML object>"
      ]
     },
     "metadata": {},
     "output_type": "display_data"
    },
    {
     "data": {
      "text/html": [
       "<style type=\"text/css\">\n",
       "#T_e6ab4_ th {\n",
       "  text-align: left;\n",
       "}\n",
       "#T_e6ab4_row0_col0, #T_e6ab4_row0_col4, #T_e6ab4_row1_col0, #T_e6ab4_row1_col1, #T_e6ab4_row1_col2, #T_e6ab4_row1_col3, #T_e6ab4_row1_col4, #T_e6ab4_row1_col5, #T_e6ab4_row1_col6, #T_e6ab4_row1_col7, #T_e6ab4_row2_col0, #T_e6ab4_row2_col1, #T_e6ab4_row2_col2, #T_e6ab4_row2_col3, #T_e6ab4_row2_col4, #T_e6ab4_row2_col5, #T_e6ab4_row2_col6, #T_e6ab4_row2_col7, #T_e6ab4_row3_col0, #T_e6ab4_row3_col1, #T_e6ab4_row3_col2, #T_e6ab4_row3_col3, #T_e6ab4_row3_col4, #T_e6ab4_row3_col5, #T_e6ab4_row3_col6, #T_e6ab4_row3_col7, #T_e6ab4_row4_col0, #T_e6ab4_row4_col1, #T_e6ab4_row4_col2, #T_e6ab4_row4_col3, #T_e6ab4_row4_col4, #T_e6ab4_row4_col5, #T_e6ab4_row4_col6, #T_e6ab4_row4_col7, #T_e6ab4_row5_col0, #T_e6ab4_row5_col1, #T_e6ab4_row5_col2, #T_e6ab4_row5_col4, #T_e6ab4_row5_col5, #T_e6ab4_row5_col6, #T_e6ab4_row5_col7, #T_e6ab4_row6_col0, #T_e6ab4_row6_col1, #T_e6ab4_row6_col2, #T_e6ab4_row6_col3, #T_e6ab4_row6_col4, #T_e6ab4_row6_col5, #T_e6ab4_row6_col6, #T_e6ab4_row6_col7, #T_e6ab4_row7_col0, #T_e6ab4_row7_col1, #T_e6ab4_row7_col2, #T_e6ab4_row7_col3, #T_e6ab4_row7_col4, #T_e6ab4_row7_col5, #T_e6ab4_row7_col6, #T_e6ab4_row7_col7, #T_e6ab4_row8_col0, #T_e6ab4_row8_col1, #T_e6ab4_row8_col2, #T_e6ab4_row8_col3, #T_e6ab4_row8_col4, #T_e6ab4_row8_col5, #T_e6ab4_row8_col6, #T_e6ab4_row8_col7, #T_e6ab4_row9_col0, #T_e6ab4_row9_col1, #T_e6ab4_row9_col2, #T_e6ab4_row9_col3, #T_e6ab4_row9_col5, #T_e6ab4_row9_col6, #T_e6ab4_row9_col7, #T_e6ab4_row10_col0, #T_e6ab4_row10_col1, #T_e6ab4_row10_col2, #T_e6ab4_row10_col3, #T_e6ab4_row10_col4, #T_e6ab4_row10_col5, #T_e6ab4_row10_col6, #T_e6ab4_row10_col7, #T_e6ab4_row11_col0, #T_e6ab4_row11_col1, #T_e6ab4_row11_col2, #T_e6ab4_row11_col3, #T_e6ab4_row11_col4, #T_e6ab4_row11_col5, #T_e6ab4_row11_col6, #T_e6ab4_row11_col7, #T_e6ab4_row12_col0, #T_e6ab4_row12_col1, #T_e6ab4_row12_col2, #T_e6ab4_row12_col3, #T_e6ab4_row12_col4, #T_e6ab4_row12_col5, #T_e6ab4_row12_col6, #T_e6ab4_row12_col7, #T_e6ab4_row13_col0, #T_e6ab4_row13_col1, #T_e6ab4_row13_col2, #T_e6ab4_row13_col3, #T_e6ab4_row13_col4, #T_e6ab4_row13_col5, #T_e6ab4_row13_col6, #T_e6ab4_row13_col7, #T_e6ab4_row14_col0, #T_e6ab4_row14_col1, #T_e6ab4_row14_col2, #T_e6ab4_row14_col3, #T_e6ab4_row14_col5, #T_e6ab4_row14_col6, #T_e6ab4_row14_col7, #T_e6ab4_row15_col0, #T_e6ab4_row15_col1, #T_e6ab4_row15_col2, #T_e6ab4_row15_col3, #T_e6ab4_row15_col4, #T_e6ab4_row15_col5, #T_e6ab4_row15_col6, #T_e6ab4_row15_col7 {\n",
       "  text-align: left;\n",
       "}\n",
       "#T_e6ab4_row0_col1, #T_e6ab4_row0_col2, #T_e6ab4_row0_col3, #T_e6ab4_row0_col5, #T_e6ab4_row0_col6, #T_e6ab4_row0_col7, #T_e6ab4_row5_col3, #T_e6ab4_row9_col4, #T_e6ab4_row14_col4 {\n",
       "  text-align: left;\n",
       "  background-color: yellow;\n",
       "}\n",
       "#T_e6ab4_row0_col8, #T_e6ab4_row1_col8, #T_e6ab4_row2_col8, #T_e6ab4_row3_col8, #T_e6ab4_row4_col8, #T_e6ab4_row5_col8, #T_e6ab4_row6_col8, #T_e6ab4_row7_col8, #T_e6ab4_row8_col8, #T_e6ab4_row10_col8, #T_e6ab4_row11_col8, #T_e6ab4_row12_col8, #T_e6ab4_row13_col8, #T_e6ab4_row14_col8, #T_e6ab4_row15_col8 {\n",
       "  text-align: left;\n",
       "  background-color: lightgrey;\n",
       "}\n",
       "#T_e6ab4_row9_col8 {\n",
       "  text-align: left;\n",
       "  background-color: yellow;\n",
       "  background-color: lightgrey;\n",
       "}\n",
       "</style>\n",
       "<table id=\"T_e6ab4_\">\n",
       "  <thead>\n",
       "    <tr>\n",
       "      <th class=\"blank level0\" >&nbsp;</th>\n",
       "      <th class=\"col_heading level0 col0\" >Model</th>\n",
       "      <th class=\"col_heading level0 col1\" >Accuracy</th>\n",
       "      <th class=\"col_heading level0 col2\" >AUC</th>\n",
       "      <th class=\"col_heading level0 col3\" >Recall</th>\n",
       "      <th class=\"col_heading level0 col4\" >Prec.</th>\n",
       "      <th class=\"col_heading level0 col5\" >F1</th>\n",
       "      <th class=\"col_heading level0 col6\" >Kappa</th>\n",
       "      <th class=\"col_heading level0 col7\" >MCC</th>\n",
       "      <th class=\"col_heading level0 col8\" >TT (Sec)</th>\n",
       "    </tr>\n",
       "  </thead>\n",
       "  <tbody>\n",
       "    <tr>\n",
       "      <th id=\"T_e6ab4_level0_row0\" class=\"row_heading level0 row0\" >catboost</th>\n",
       "      <td id=\"T_e6ab4_row0_col0\" class=\"data row0 col0\" >CatBoost Classifier</td>\n",
       "      <td id=\"T_e6ab4_row0_col1\" class=\"data row0 col1\" >0.9958</td>\n",
       "      <td id=\"T_e6ab4_row0_col2\" class=\"data row0 col2\" >0.9997</td>\n",
       "      <td id=\"T_e6ab4_row0_col3\" class=\"data row0 col3\" >0.9928</td>\n",
       "      <td id=\"T_e6ab4_row0_col4\" class=\"data row0 col4\" >0.9989</td>\n",
       "      <td id=\"T_e6ab4_row0_col5\" class=\"data row0 col5\" >0.9958</td>\n",
       "      <td id=\"T_e6ab4_row0_col6\" class=\"data row0 col6\" >0.9917</td>\n",
       "      <td id=\"T_e6ab4_row0_col7\" class=\"data row0 col7\" >0.9917</td>\n",
       "      <td id=\"T_e6ab4_row0_col8\" class=\"data row0 col8\" >12.0830</td>\n",
       "    </tr>\n",
       "    <tr>\n",
       "      <th id=\"T_e6ab4_level0_row1\" class=\"row_heading level0 row1\" >rf</th>\n",
       "      <td id=\"T_e6ab4_row1_col0\" class=\"data row1 col0\" >Random Forest Classifier</td>\n",
       "      <td id=\"T_e6ab4_row1_col1\" class=\"data row1 col1\" >0.9886</td>\n",
       "      <td id=\"T_e6ab4_row1_col2\" class=\"data row1 col2\" >0.9994</td>\n",
       "      <td id=\"T_e6ab4_row1_col3\" class=\"data row1 col3\" >0.9838</td>\n",
       "      <td id=\"T_e6ab4_row1_col4\" class=\"data row1 col4\" >0.9934</td>\n",
       "      <td id=\"T_e6ab4_row1_col5\" class=\"data row1 col5\" >0.9886</td>\n",
       "      <td id=\"T_e6ab4_row1_col6\" class=\"data row1 col6\" >0.9773</td>\n",
       "      <td id=\"T_e6ab4_row1_col7\" class=\"data row1 col7\" >0.9773</td>\n",
       "      <td id=\"T_e6ab4_row1_col8\" class=\"data row1 col8\" >3.3610</td>\n",
       "    </tr>\n",
       "    <tr>\n",
       "      <th id=\"T_e6ab4_level0_row2\" class=\"row_heading level0 row2\" >et</th>\n",
       "      <td id=\"T_e6ab4_row2_col0\" class=\"data row2 col0\" >Extra Trees Classifier</td>\n",
       "      <td id=\"T_e6ab4_row2_col1\" class=\"data row2 col1\" >0.9913</td>\n",
       "      <td id=\"T_e6ab4_row2_col2\" class=\"data row2 col2\" >0.9994</td>\n",
       "      <td id=\"T_e6ab4_row2_col3\" class=\"data row2 col3\" >0.9882</td>\n",
       "      <td id=\"T_e6ab4_row2_col4\" class=\"data row2 col4\" >0.9944</td>\n",
       "      <td id=\"T_e6ab4_row2_col5\" class=\"data row2 col5\" >0.9913</td>\n",
       "      <td id=\"T_e6ab4_row2_col6\" class=\"data row2 col6\" >0.9827</td>\n",
       "      <td id=\"T_e6ab4_row2_col7\" class=\"data row2 col7\" >0.9827</td>\n",
       "      <td id=\"T_e6ab4_row2_col8\" class=\"data row2 col8\" >2.3480</td>\n",
       "    </tr>\n",
       "    <tr>\n",
       "      <th id=\"T_e6ab4_level0_row3\" class=\"row_heading level0 row3\" >xgboost</th>\n",
       "      <td id=\"T_e6ab4_row3_col0\" class=\"data row3 col0\" >Extreme Gradient Boosting</td>\n",
       "      <td id=\"T_e6ab4_row3_col1\" class=\"data row3 col1\" >0.9901</td>\n",
       "      <td id=\"T_e6ab4_row3_col2\" class=\"data row3 col2\" >0.9993</td>\n",
       "      <td id=\"T_e6ab4_row3_col3\" class=\"data row3 col3\" >0.9834</td>\n",
       "      <td id=\"T_e6ab4_row3_col4\" class=\"data row3 col4\" >0.9967</td>\n",
       "      <td id=\"T_e6ab4_row3_col5\" class=\"data row3 col5\" >0.9900</td>\n",
       "      <td id=\"T_e6ab4_row3_col6\" class=\"data row3 col6\" >0.9801</td>\n",
       "      <td id=\"T_e6ab4_row3_col7\" class=\"data row3 col7\" >0.9802</td>\n",
       "      <td id=\"T_e6ab4_row3_col8\" class=\"data row3 col8\" >2.3610</td>\n",
       "    </tr>\n",
       "    <tr>\n",
       "      <th id=\"T_e6ab4_level0_row4\" class=\"row_heading level0 row4\" >lightgbm</th>\n",
       "      <td id=\"T_e6ab4_row4_col0\" class=\"data row4 col0\" >Light Gradient Boosting Machine</td>\n",
       "      <td id=\"T_e6ab4_row4_col1\" class=\"data row4 col1\" >0.9762</td>\n",
       "      <td id=\"T_e6ab4_row4_col2\" class=\"data row4 col2\" >0.9979</td>\n",
       "      <td id=\"T_e6ab4_row4_col3\" class=\"data row4 col3\" >0.9591</td>\n",
       "      <td id=\"T_e6ab4_row4_col4\" class=\"data row4 col4\" >0.9931</td>\n",
       "      <td id=\"T_e6ab4_row4_col5\" class=\"data row4 col5\" >0.9758</td>\n",
       "      <td id=\"T_e6ab4_row4_col6\" class=\"data row4 col6\" >0.9524</td>\n",
       "      <td id=\"T_e6ab4_row4_col7\" class=\"data row4 col7\" >0.9530</td>\n",
       "      <td id=\"T_e6ab4_row4_col8\" class=\"data row4 col8\" >0.5500</td>\n",
       "    </tr>\n",
       "    <tr>\n",
       "      <th id=\"T_e6ab4_level0_row5\" class=\"row_heading level0 row5\" >knn</th>\n",
       "      <td id=\"T_e6ab4_row5_col0\" class=\"data row5 col0\" >K Neighbors Classifier</td>\n",
       "      <td id=\"T_e6ab4_row5_col1\" class=\"data row5 col1\" >0.9753</td>\n",
       "      <td id=\"T_e6ab4_row5_col2\" class=\"data row5 col2\" >0.9931</td>\n",
       "      <td id=\"T_e6ab4_row5_col3\" class=\"data row5 col3\" >0.9928</td>\n",
       "      <td id=\"T_e6ab4_row5_col4\" class=\"data row5 col4\" >0.9592</td>\n",
       "      <td id=\"T_e6ab4_row5_col5\" class=\"data row5 col5\" >0.9757</td>\n",
       "      <td id=\"T_e6ab4_row5_col6\" class=\"data row5 col6\" >0.9506</td>\n",
       "      <td id=\"T_e6ab4_row5_col7\" class=\"data row5 col7\" >0.9512</td>\n",
       "      <td id=\"T_e6ab4_row5_col8\" class=\"data row5 col8\" >6.0530</td>\n",
       "    </tr>\n",
       "    <tr>\n",
       "      <th id=\"T_e6ab4_level0_row6\" class=\"row_heading level0 row6\" >dt</th>\n",
       "      <td id=\"T_e6ab4_row6_col0\" class=\"data row6 col0\" >Decision Tree Classifier</td>\n",
       "      <td id=\"T_e6ab4_row6_col1\" class=\"data row6 col1\" >0.9761</td>\n",
       "      <td id=\"T_e6ab4_row6_col2\" class=\"data row6 col2\" >0.9761</td>\n",
       "      <td id=\"T_e6ab4_row6_col3\" class=\"data row6 col3\" >0.9782</td>\n",
       "      <td id=\"T_e6ab4_row6_col4\" class=\"data row6 col4\" >0.9741</td>\n",
       "      <td id=\"T_e6ab4_row6_col5\" class=\"data row6 col5\" >0.9761</td>\n",
       "      <td id=\"T_e6ab4_row6_col6\" class=\"data row6 col6\" >0.9521</td>\n",
       "      <td id=\"T_e6ab4_row6_col7\" class=\"data row6 col7\" >0.9521</td>\n",
       "      <td id=\"T_e6ab4_row6_col8\" class=\"data row6 col8\" >0.2300</td>\n",
       "    </tr>\n",
       "    <tr>\n",
       "      <th id=\"T_e6ab4_level0_row7\" class=\"row_heading level0 row7\" >gbc</th>\n",
       "      <td id=\"T_e6ab4_row7_col0\" class=\"data row7 col0\" >Gradient Boosting Classifier</td>\n",
       "      <td id=\"T_e6ab4_row7_col1\" class=\"data row7 col1\" >0.9232</td>\n",
       "      <td id=\"T_e6ab4_row7_col2\" class=\"data row7 col2\" >0.9731</td>\n",
       "      <td id=\"T_e6ab4_row7_col3\" class=\"data row7 col3\" >0.8843</td>\n",
       "      <td id=\"T_e6ab4_row7_col4\" class=\"data row7 col4\" >0.9589</td>\n",
       "      <td id=\"T_e6ab4_row7_col5\" class=\"data row7 col5\" >0.9201</td>\n",
       "      <td id=\"T_e6ab4_row7_col6\" class=\"data row7 col6\" >0.8464</td>\n",
       "      <td id=\"T_e6ab4_row7_col7\" class=\"data row7 col7\" >0.8489</td>\n",
       "      <td id=\"T_e6ab4_row7_col8\" class=\"data row7 col8\" >5.3590</td>\n",
       "    </tr>\n",
       "    <tr>\n",
       "      <th id=\"T_e6ab4_level0_row8\" class=\"row_heading level0 row8\" >ada</th>\n",
       "      <td id=\"T_e6ab4_row8_col0\" class=\"data row8 col0\" >Ada Boost Classifier</td>\n",
       "      <td id=\"T_e6ab4_row8_col1\" class=\"data row8 col1\" >0.9140</td>\n",
       "      <td id=\"T_e6ab4_row8_col2\" class=\"data row8 col2\" >0.9672</td>\n",
       "      <td id=\"T_e6ab4_row8_col3\" class=\"data row8 col3\" >0.8683</td>\n",
       "      <td id=\"T_e6ab4_row8_col4\" class=\"data row8 col4\" >0.9557</td>\n",
       "      <td id=\"T_e6ab4_row8_col5\" class=\"data row8 col5\" >0.9099</td>\n",
       "      <td id=\"T_e6ab4_row8_col6\" class=\"data row8 col6\" >0.8280</td>\n",
       "      <td id=\"T_e6ab4_row8_col7\" class=\"data row8 col7\" >0.8315</td>\n",
       "      <td id=\"T_e6ab4_row8_col8\" class=\"data row8 col8\" >1.2920</td>\n",
       "    </tr>\n",
       "    <tr>\n",
       "      <th id=\"T_e6ab4_level0_row9\" class=\"row_heading level0 row9\" >nb</th>\n",
       "      <td id=\"T_e6ab4_row9_col0\" class=\"data row9 col0\" >Naive Bayes</td>\n",
       "      <td id=\"T_e6ab4_row9_col1\" class=\"data row9 col1\" >0.8826</td>\n",
       "      <td id=\"T_e6ab4_row9_col2\" class=\"data row9 col2\" >0.9470</td>\n",
       "      <td id=\"T_e6ab4_row9_col3\" class=\"data row9 col3\" >0.7653</td>\n",
       "      <td id=\"T_e6ab4_row9_col4\" class=\"data row9 col4\" >0.9999</td>\n",
       "      <td id=\"T_e6ab4_row9_col5\" class=\"data row9 col5\" >0.8670</td>\n",
       "      <td id=\"T_e6ab4_row9_col6\" class=\"data row9 col6\" >0.7652</td>\n",
       "      <td id=\"T_e6ab4_row9_col7\" class=\"data row9 col7\" >0.7872</td>\n",
       "      <td id=\"T_e6ab4_row9_col8\" class=\"data row9 col8\" >0.1070</td>\n",
       "    </tr>\n",
       "    <tr>\n",
       "      <th id=\"T_e6ab4_level0_row10\" class=\"row_heading level0 row10\" >lr</th>\n",
       "      <td id=\"T_e6ab4_row10_col0\" class=\"data row10 col0\" >Logistic Regression</td>\n",
       "      <td id=\"T_e6ab4_row10_col1\" class=\"data row10 col1\" >0.8970</td>\n",
       "      <td id=\"T_e6ab4_row10_col2\" class=\"data row10 col2\" >0.9391</td>\n",
       "      <td id=\"T_e6ab4_row10_col3\" class=\"data row10 col3\" >0.8114</td>\n",
       "      <td id=\"T_e6ab4_row10_col4\" class=\"data row10 col4\" >0.9791</td>\n",
       "      <td id=\"T_e6ab4_row10_col5\" class=\"data row10 col5\" >0.8874</td>\n",
       "      <td id=\"T_e6ab4_row10_col6\" class=\"data row10 col6\" >0.7941</td>\n",
       "      <td id=\"T_e6ab4_row10_col7\" class=\"data row10 col7\" >0.8060</td>\n",
       "      <td id=\"T_e6ab4_row10_col8\" class=\"data row10 col8\" >0.7830</td>\n",
       "    </tr>\n",
       "    <tr>\n",
       "      <th id=\"T_e6ab4_level0_row11\" class=\"row_heading level0 row11\" >lda</th>\n",
       "      <td id=\"T_e6ab4_row11_col0\" class=\"data row11 col0\" >Linear Discriminant Analysis</td>\n",
       "      <td id=\"T_e6ab4_row11_col1\" class=\"data row11 col1\" >0.8835</td>\n",
       "      <td id=\"T_e6ab4_row11_col2\" class=\"data row11 col2\" >0.9380</td>\n",
       "      <td id=\"T_e6ab4_row11_col3\" class=\"data row11 col3\" >0.7688</td>\n",
       "      <td id=\"T_e6ab4_row11_col4\" class=\"data row11 col4\" >0.9977</td>\n",
       "      <td id=\"T_e6ab4_row11_col5\" class=\"data row11 col5\" >0.8684</td>\n",
       "      <td id=\"T_e6ab4_row11_col6\" class=\"data row11 col6\" >0.7671</td>\n",
       "      <td id=\"T_e6ab4_row11_col7\" class=\"data row11 col7\" >0.7881</td>\n",
       "      <td id=\"T_e6ab4_row11_col8\" class=\"data row11 col8\" >0.1710</td>\n",
       "    </tr>\n",
       "    <tr>\n",
       "      <th id=\"T_e6ab4_level0_row12\" class=\"row_heading level0 row12\" >qda</th>\n",
       "      <td id=\"T_e6ab4_row12_col0\" class=\"data row12 col0\" >Quadratic Discriminant Analysis</td>\n",
       "      <td id=\"T_e6ab4_row12_col1\" class=\"data row12 col1\" >0.8120</td>\n",
       "      <td id=\"T_e6ab4_row12_col2\" class=\"data row12 col2\" >0.8548</td>\n",
       "      <td id=\"T_e6ab4_row12_col3\" class=\"data row12 col3\" >0.8325</td>\n",
       "      <td id=\"T_e6ab4_row12_col4\" class=\"data row12 col4\" >0.8272</td>\n",
       "      <td id=\"T_e6ab4_row12_col5\" class=\"data row12 col5\" >0.8201</td>\n",
       "      <td id=\"T_e6ab4_row12_col6\" class=\"data row12 col6\" >0.6241</td>\n",
       "      <td id=\"T_e6ab4_row12_col7\" class=\"data row12 col7\" >0.6399</td>\n",
       "      <td id=\"T_e6ab4_row12_col8\" class=\"data row12 col8\" >0.1520</td>\n",
       "    </tr>\n",
       "    <tr>\n",
       "      <th id=\"T_e6ab4_level0_row13\" class=\"row_heading level0 row13\" >dummy</th>\n",
       "      <td id=\"T_e6ab4_row13_col0\" class=\"data row13 col0\" >Dummy Classifier</td>\n",
       "      <td id=\"T_e6ab4_row13_col1\" class=\"data row13 col1\" >0.5000</td>\n",
       "      <td id=\"T_e6ab4_row13_col2\" class=\"data row13 col2\" >0.5000</td>\n",
       "      <td id=\"T_e6ab4_row13_col3\" class=\"data row13 col3\" >0.6000</td>\n",
       "      <td id=\"T_e6ab4_row13_col4\" class=\"data row13 col4\" >0.3000</td>\n",
       "      <td id=\"T_e6ab4_row13_col5\" class=\"data row13 col5\" >0.4000</td>\n",
       "      <td id=\"T_e6ab4_row13_col6\" class=\"data row13 col6\" >0.0000</td>\n",
       "      <td id=\"T_e6ab4_row13_col7\" class=\"data row13 col7\" >0.0000</td>\n",
       "      <td id=\"T_e6ab4_row13_col8\" class=\"data row13 col8\" >0.1650</td>\n",
       "    </tr>\n",
       "    <tr>\n",
       "      <th id=\"T_e6ab4_level0_row14\" class=\"row_heading level0 row14\" >svm</th>\n",
       "      <td id=\"T_e6ab4_row14_col0\" class=\"data row14 col0\" >SVM - Linear Kernel</td>\n",
       "      <td id=\"T_e6ab4_row14_col1\" class=\"data row14 col1\" >0.8826</td>\n",
       "      <td id=\"T_e6ab4_row14_col2\" class=\"data row14 col2\" >0.0000</td>\n",
       "      <td id=\"T_e6ab4_row14_col3\" class=\"data row14 col3\" >0.7652</td>\n",
       "      <td id=\"T_e6ab4_row14_col4\" class=\"data row14 col4\" >0.9999</td>\n",
       "      <td id=\"T_e6ab4_row14_col5\" class=\"data row14 col5\" >0.8669</td>\n",
       "      <td id=\"T_e6ab4_row14_col6\" class=\"data row14 col6\" >0.7651</td>\n",
       "      <td id=\"T_e6ab4_row14_col7\" class=\"data row14 col7\" >0.7871</td>\n",
       "      <td id=\"T_e6ab4_row14_col8\" class=\"data row14 col8\" >0.1450</td>\n",
       "    </tr>\n",
       "    <tr>\n",
       "      <th id=\"T_e6ab4_level0_row15\" class=\"row_heading level0 row15\" >ridge</th>\n",
       "      <td id=\"T_e6ab4_row15_col0\" class=\"data row15 col0\" >Ridge Classifier</td>\n",
       "      <td id=\"T_e6ab4_row15_col1\" class=\"data row15 col1\" >0.8835</td>\n",
       "      <td id=\"T_e6ab4_row15_col2\" class=\"data row15 col2\" >0.0000</td>\n",
       "      <td id=\"T_e6ab4_row15_col3\" class=\"data row15 col3\" >0.7688</td>\n",
       "      <td id=\"T_e6ab4_row15_col4\" class=\"data row15 col4\" >0.9977</td>\n",
       "      <td id=\"T_e6ab4_row15_col5\" class=\"data row15 col5\" >0.8684</td>\n",
       "      <td id=\"T_e6ab4_row15_col6\" class=\"data row15 col6\" >0.7670</td>\n",
       "      <td id=\"T_e6ab4_row15_col7\" class=\"data row15 col7\" >0.7881</td>\n",
       "      <td id=\"T_e6ab4_row15_col8\" class=\"data row15 col8\" >0.1080</td>\n",
       "    </tr>\n",
       "  </tbody>\n",
       "</table>\n"
      ],
      "text/plain": [
       "<pandas.io.formats.style.Styler at 0x2accdc9fa88>"
      ]
     },
     "metadata": {},
     "output_type": "display_data"
    },
    {
     "data": {
      "application/vnd.jupyter.widget-view+json": {
       "model_id": "",
       "version_major": 2,
       "version_minor": 0
      },
      "text/plain": [
       "Processing:   0%|          | 0/69 [00:00<?, ?it/s]"
      ]
     },
     "metadata": {},
     "output_type": "display_data"
    }
   ],
   "source": [
    "# best = compare_models(sort='AUC')"
   ]
  },
  {
   "cell_type": "code",
   "execution_count": 32,
   "id": "605ae4f0-a6c4-401e-80b2-244fb4c424d4",
   "metadata": {},
   "outputs": [
    {
     "data": {
      "text/html": [],
      "text/plain": [
       "<IPython.core.display.HTML object>"
      ]
     },
     "metadata": {},
     "output_type": "display_data"
    },
    {
     "data": {
      "image/png": "[encoded data removed]",
      "text/plain": [
       "<Figure size 800x550 with 1 Axes>"
      ]
     },
     "metadata": {},
     "output_type": "display_data"
    }
   ],
   "source": [
    "# plot_model(best, plot='auc')"
   ]
  },
  {
   "cell_type": "code",
   "execution_count": 33,
   "id": "0c41224b-ff9a-48ee-ac96-cd82bc42dcc7",
   "metadata": {},
   "outputs": [
    {
     "data": {
      "text/html": [],
      "text/plain": [
       "<IPython.core.display.HTML object>"
      ]
     },
     "metadata": {},
     "output_type": "display_data"
    },
    {
     "data": {
      "image/png": "[encoded data removed]",
      "text/plain": [
       "<Figure size 800x500 with 1 Axes>"
      ]
     },
     "metadata": {},
     "output_type": "display_data"
    }
   ],
   "source": [
    "# plot_model(best, plot='feature')"
   ]
  },
  {
   "cell_type": "code",
   "execution_count": 34,
   "id": "5ea944e2-b4df-42b6-b027-b0003c897134",
   "metadata": {},
   "outputs": [
    {
     "data": {
      "text/html": [],
      "text/plain": [
       "<IPython.core.display.HTML object>"
      ]
     },
     "metadata": {},
     "output_type": "display_data"
    },
    {
     "data": {
      "image/png": "[encoded data removed]",
      "text/plain": [
       "<Figure size 800x550 with 1 Axes>"
      ]
     },
     "metadata": {},
     "output_type": "display_data"
    }
   ],
   "source": [
    "# plot_model(best, plot='confusion_matrix')"
   ]
  },
  {
   "cell_type": "markdown",
   "id": "b7931679-8da0-4c73-9aed-9c0b0db44cc2",
   "metadata": {},
   "source": [
    "# Rename Columns"
   ]
  },
  {
   "cell_type": "code",
   "execution_count": 30,
   "id": "b23e8412-9a6c-4fa0-961a-2c3b22b61ece",
   "metadata": {},
   "outputs": [],
   "source": [
    "X5 = X5.rename(columns={'Air temperature [K]': 'Air_temperature_K', \n",
    "                        'Process temperature [K]': 'Process_temperature_K',\n",
    "                        'Rotational speed [rpm]': 'Rotational_speed_rpm', \n",
    "                        'Torque [Nm]': 'Torque_Nm', \n",
    "                        'Tool wear [min]': 'Tool_wear_min'})"
   ]
  },
  {
   "cell_type": "markdown",
   "id": "c7fab39b-88a5-4d6e-8c1e-d137627fa5d4",
   "metadata": {},
   "source": [
    "# Hyperparameters"
   ]
  },
  {
   "cell_type": "code",
   "execution_count": 31,
   "id": "ad3f1089-4fe3-4f4b-9ee2-122921e5120c",
   "metadata": {},
   "outputs": [],
   "source": [
    "catboost = lambda trial: classifier_utils.catboost(trial, X=X5, y=y, scoring='roc_auc')\n",
    "rf = lambda trial: classifier_utils.rf(trial, X=X5, y=y, scoring='roc_auc')\n",
    "et = lambda trial: classifier_utils.et(trial, X=X5, y=y, scoring='roc_auc')\n",
    "xgboost = lambda trial: classifier_utils.xgb(trial, X=X5, y=y, scoring='roc_auc')\n",
    "lightgbm = lambda trial: classifier_utils.lightgbm_binary(trial, X=X5, y=y, scoring='roc_auc')\n",
    "knn = lambda trial: classifier_utils.knn(trial, X=X5, y=y, scoring='roc_auc')"
   ]
  },
  {
   "cell_type": "code",
   "execution_count": 32,
   "id": "c5c10f58-2d73-4808-b545-ae43a6ba8b39",
   "metadata": {
    "tags": []
   },
   "outputs": [],
   "source": [
    "# study = optuna.create_study(direction='maximize')\n",
    "# optuna.logging.set_verbosity(optuna.logging.WARNING)\n",
    "# study.optimize(catboost, n_trials=10)\n",
    "# study.best_params"
   ]
  },
  {
   "cell_type": "code",
   "execution_count": 33,
   "id": "4e7cdd88-1d12-4e81-8e13-fd2ddb2bdd23",
   "metadata": {
    "tags": []
   },
   "outputs": [],
   "source": [
    "# study = optuna.create_study(direction='maximize')\n",
    "# optuna.logging.set_verbosity(optuna.logging.WARNING)\n",
    "# study.optimize(rf, n_trials=10)\n",
    "# study.best_params"
   ]
  },
  {
   "cell_type": "code",
   "execution_count": 34,
   "id": "bf99e78a-1fb9-43fb-a0e7-1bec658f28d2",
   "metadata": {},
   "outputs": [],
   "source": [
    "# study = optuna.create_study(direction='maximize')\n",
    "# optuna.logging.set_verbosity(optuna.logging.WARNING)\n",
    "# study.optimize(et, n_trials=10)\n",
    "# study.best_params"
   ]
  },
  {
   "cell_type": "code",
   "execution_count": 35,
   "id": "8455ed62-44a1-41d3-a375-5f6bff6d2edc",
   "metadata": {},
   "outputs": [],
   "source": [
    "# study = optuna.create_study(direction='maximize')\n",
    "# optuna.logging.set_verbosity(optuna.logging.WARNING)\n",
    "# study.optimize(xgboost, n_trials=10)\n",
    "# study.best_params"
   ]
  },
  {
   "cell_type": "code",
   "execution_count": 36,
   "id": "4431f128-af9f-4c6b-bc1f-7ae3e1bd0f32",
   "metadata": {},
   "outputs": [],
   "source": [
    "# study = optuna.create_study(direction='maximize')\n",
    "# optuna.logging.set_verbosity(optuna.logging.WARNING)\n",
    "# study.optimize(lightgbm, n_trials=10)\n",
    "# study.best_params"
   ]
  },
  {
   "cell_type": "code",
   "execution_count": 37,
   "id": "c52bf34e-e254-4cd4-872b-c399dff31ffb",
   "metadata": {
    "tags": []
   },
   "outputs": [],
   "source": [
    "# study = optuna.create_study(direction='maximize')\n",
    "# optuna.logging.set_verbosity(optuna.logging.WARNING)\n",
    "# study.optimize(knn, n_trials=10)\n",
    "# study.best_params"
   ]
  },
  {
   "cell_type": "code",
   "execution_count": 56,
   "id": "d043c2df-40ff-40ae-8945-daf0c7962a1b",
   "metadata": {},
   "outputs": [],
   "source": [
    "catboost_params = {\n",
    "    'iterations': 678,\n",
    "    'depth': 8,\n",
    "    'learning_rate': 0.06326477363343067,\n",
    "    'l2_leaf_reg': 0.9029742012023964,\n",
    "    'logging_level': 'Silent'\n",
    "}\n",
    "\n",
    "rf_params = {\n",
    "    'max_depth': 32,\n",
    "    'n_estimators': 478,\n",
    "    'min_samples_leaf': 14,\n",
    "    'min_samples_split': 70,\n",
    "    'verbose': 0\n",
    "}\n",
    "\n",
    "et_params = {\n",
    "    'max_depth': 31,\n",
    "    'n_estimators': 407,\n",
    "    'min_samples_leaf': 42,\n",
    "    'min_samples_split': 45,\n",
    "    'max_features': None,\n",
    "    'verbose': 0\n",
    "}\n",
    "\n",
    "xgb_params = {\n",
    "    'n_estimators': 858,\n",
    "    'max_depth': 9,\n",
    "    'learning_rate': 0.05365444935985219,\n",
    "    'subsample': 0.25494503706401694,\n",
    "    'colsample_bytree': 0.4631463593786834,\n",
    "    'reg_alpha': 6.491580300531537e-06,\n",
    "    'reg_lambda': 1.9624943056827772e-10,\n",
    "    'gamma': 1.1590397124919806e-08,\n",
    "    'min_child_weight': 8,\n",
    "    'objective': 'binary:logistic', \n",
    "    'eval_metric': 'logloss',\n",
    "    'verbosity': 0\n",
    "}\n",
    "\n",
    "lightgbm_params = {\n",
    "    'n_estimators': 260,\n",
    "    'max_depth': 15,\n",
    "    'num_leaves': 100,\n",
    "    'learning_rate': 0.061959346928819034,\n",
    "    'min_child_samples': 90,\n",
    "    'subsample': 0.8273700145138759,\n",
    "    'colsample_bytree': 0.8148926540036411,\n",
    "    'reg_alpha': 3.0629288517643286e-09,\n",
    "    'reg_lambda': 0.00010247750546038308,\n",
    "    'verbose': -1\n",
    "}\n",
    "\n",
    "knn_params = {\n",
    "    'n_neighbors': 14\n",
    "}"
   ]
  },
  {
   "cell_type": "code",
   "execution_count": null,
   "id": "fd42f70a-213d-4792-87d7-7da7c22198c9",
   "metadata": {},
   "outputs": [],
   "source": [
    "XGBClassifier("
   ]
  },
  {
   "cell_type": "code",
   "execution_count": 57,
   "id": "aebed479-a587-46f4-b40b-5b9f34c9d0df",
   "metadata": {},
   "outputs": [],
   "source": [
    "cat_model = CatBoostClassifier(**catboost_params)\n",
    "rf_model = RandomForestClassifier(**rf_params)\n",
    "et_model = ExtraTreesClassifier(**et_params)\n",
    "xgb_model = XGBClassifier(**xgb_params)\n",
    "lightgbm_model = LGBMClassifier(**lightgbm_params)\n",
    "knn_model = KNeighborsClassifier(**knn_params)"
   ]
  },
  {
   "cell_type": "markdown",
   "id": "58c0ee30-1e3a-4104-8712-8d6a09abc505",
   "metadata": {},
   "source": [
    "# Models Evaluation"
   ]
  },
  {
   "cell_type": "code",
   "execution_count": 48,
   "id": "e3ac4314-d77b-4252-92f2-945d458c26a5",
   "metadata": {},
   "outputs": [],
   "source": [
    "models = {\n",
    "    'cat': cat_model,\n",
    "    'rf': rf_model,\n",
    "    'et': et_model,\n",
    "    'xgb': xgb_model,\n",
    "    'lightgbm': lightgbm_model,\n",
    "    'knn': knn_model\n",
    "}"
   ]
  },
  {
   "cell_type": "code",
   "execution_count": 49,
   "id": "db906c23-1182-462f-af0e-f48ea2c26bc6",
   "metadata": {
    "collapsed": true,
    "jupyter": {
     "outputs_hidden": true
    },
    "tags": []
   },
   "outputs": [
    {
     "name": "stdout",
     "output_type": "stream",
     "text": [
      "[18:27:00] WARNING: C:\\Users\\dev-admin\\croot\\xgboost-split_1675120659361\\work\\src\\learner.cc:576: \n",
      "Parameters: { \"verbose\" } might not be used.\n",
      "\n",
      "  This could be a false alarm, with some parameters getting used by language bindings but\n",
      "  then being mistakenly passed down to XGBoost core, or some parameter actually being used\n",
      "  but getting flagged wrongly here. Please open an issue if you find any such cases.\n",
      "\n",
      "\n",
      "[18:27:00] WARNING: C:\\Users\\dev-admin\\croot\\xgboost-split_1675120659361\\work\\src\\learner.cc:1115: Starting in XGBoost 1.3.0, the default evaluation metric used with the objective 'binary:logistic' was changed from 'error' to 'logloss'. Explicitly set eval_metric if you'd like to restore the old behavior.\n",
      "[18:27:33] WARNING: C:\\Users\\dev-admin\\croot\\xgboost-split_1675120659361\\work\\src\\learner.cc:576: \n",
      "Parameters: { \"verbose\" } might not be used.\n",
      "\n",
      "  This could be a false alarm, with some parameters getting used by language bindings but\n",
      "  then being mistakenly passed down to XGBoost core, or some parameter actually being used\n",
      "  but getting flagged wrongly here. Please open an issue if you find any such cases.\n",
      "\n",
      "\n",
      "[18:27:33] WARNING: C:\\Users\\dev-admin\\croot\\xgboost-split_1675120659361\\work\\src\\learner.cc:1115: Starting in XGBoost 1.3.0, the default evaluation metric used with the objective 'binary:logistic' was changed from 'error' to 'logloss'. Explicitly set eval_metric if you'd like to restore the old behavior.\n",
      "[18:28:05] WARNING: C:\\Users\\dev-admin\\croot\\xgboost-split_1675120659361\\work\\src\\learner.cc:576: \n",
      "Parameters: { \"verbose\" } might not be used.\n",
      "\n",
      "  This could be a false alarm, with some parameters getting used by language bindings but\n",
      "  then being mistakenly passed down to XGBoost core, or some parameter actually being used\n",
      "  but getting flagged wrongly here. Please open an issue if you find any such cases.\n",
      "\n",
      "\n",
      "[18:28:05] WARNING: C:\\Users\\dev-admin\\croot\\xgboost-split_1675120659361\\work\\src\\learner.cc:1115: Starting in XGBoost 1.3.0, the default evaluation metric used with the objective 'binary:logistic' was changed from 'error' to 'logloss'. Explicitly set eval_metric if you'd like to restore the old behavior.\n",
      "[18:28:37] WARNING: C:\\Users\\dev-admin\\croot\\xgboost-split_1675120659361\\work\\src\\learner.cc:576: \n",
      "Parameters: { \"verbose\" } might not be used.\n",
      "\n",
      "  This could be a false alarm, with some parameters getting used by language bindings but\n",
      "  then being mistakenly passed down to XGBoost core, or some parameter actually being used\n",
      "  but getting flagged wrongly here. Please open an issue if you find any such cases.\n",
      "\n",
      "\n",
      "[18:28:37] WARNING: C:\\Users\\dev-admin\\croot\\xgboost-split_1675120659361\\work\\src\\learner.cc:1115: Starting in XGBoost 1.3.0, the default evaluation metric used with the objective 'binary:logistic' was changed from 'error' to 'logloss'. Explicitly set eval_metric if you'd like to restore the old behavior.\n",
      "[18:29:09] WARNING: C:\\Users\\dev-admin\\croot\\xgboost-split_1675120659361\\work\\src\\learner.cc:576: \n",
      "Parameters: { \"verbose\" } might not be used.\n",
      "\n",
      "  This could be a false alarm, with some parameters getting used by language bindings but\n",
      "  then being mistakenly passed down to XGBoost core, or some parameter actually being used\n",
      "  but getting flagged wrongly here. Please open an issue if you find any such cases.\n",
      "\n",
      "\n",
      "[18:29:09] WARNING: C:\\Users\\dev-admin\\croot\\xgboost-split_1675120659361\\work\\src\\learner.cc:1115: Starting in XGBoost 1.3.0, the default evaluation metric used with the objective 'binary:logistic' was changed from 'error' to 'logloss'. Explicitly set eval_metric if you'd like to restore the old behavior.\n",
      "[LightGBM] [Warning] Auto-choosing row-wise multi-threading, the overhead of testing was 0.004008 seconds.\n",
      "You can set `force_row_wise=true` to remove the overhead.\n",
      "And if memory is not enough, you can set `force_col_wise=true`.\n",
      "[LightGBM] [Warning] No further splits with positive gain, best gain: -inf\n",
      "[LightGBM] [Warning] No further splits with positive gain, best gain: -inf\n",
      "[LightGBM] [Warning] No further splits with positive gain, best gain: -inf\n",
      "[LightGBM] [Warning] No further splits with positive gain, best gain: -inf\n",
      "[LightGBM] [Warning] No further splits with positive gain, best gain: -inf\n",
      "[LightGBM] [Warning] No further splits with positive gain, best gain: -inf\n",
      "[LightGBM] [Warning] No further splits with positive gain, best gain: -inf\n",
      "[LightGBM] [Warning] Auto-choosing col-wise multi-threading, the overhead of testing was 0.009985 seconds.\n",
      "You can set `force_col_wise=true` to remove the overhead.\n",
      "[LightGBM] [Warning] No further splits with positive gain, best gain: -inf\n",
      "[LightGBM] [Warning] No further splits with positive gain, best gain: -inf\n",
      "[LightGBM] [Warning] No further splits with positive gain, best gain: -inf\n",
      "[LightGBM] [Warning] No further splits with positive gain, best gain: -inf\n",
      "[LightGBM] [Warning] No further splits with positive gain, best gain: -inf\n",
      "[LightGBM] [Warning] No further splits with positive gain, best gain: -inf\n",
      "[LightGBM] [Warning] Auto-choosing row-wise multi-threading, the overhead of testing was 0.004392 seconds.\n",
      "You can set `force_row_wise=true` to remove the overhead.\n",
      "And if memory is not enough, you can set `force_col_wise=true`.\n",
      "[LightGBM] [Warning] No further splits with positive gain, best gain: -inf\n",
      "[LightGBM] [Warning] No further splits with positive gain, best gain: -inf\n",
      "[LightGBM] [Warning] No further splits with positive gain, best gain: -inf\n",
      "[LightGBM] [Warning] Auto-choosing row-wise multi-threading, the overhead of testing was 0.004480 seconds.\n",
      "You can set `force_row_wise=true` to remove the overhead.\n",
      "And if memory is not enough, you can set `force_col_wise=true`.\n",
      "[LightGBM] [Warning] No further splits with positive gain, best gain: -inf\n",
      "[LightGBM] [Warning] No further splits with positive gain, best gain: -inf\n",
      "[LightGBM] [Warning] No further splits with positive gain, best gain: -inf\n",
      "[LightGBM] [Warning] No further splits with positive gain, best gain: -inf\n",
      "[LightGBM] [Warning] No further splits with positive gain, best gain: -inf\n",
      "[LightGBM] [Warning] No further splits with positive gain, best gain: -inf\n",
      "[LightGBM] [Warning] No further splits with positive gain, best gain: -inf\n",
      "[LightGBM] [Warning] No further splits with positive gain, best gain: -inf\n",
      "[LightGBM] [Warning] No further splits with positive gain, best gain: -inf\n",
      "[LightGBM] [Warning] No further splits with positive gain, best gain: -inf\n",
      "[LightGBM] [Warning] No further splits with positive gain, best gain: -inf\n",
      "[LightGBM] [Warning] No further splits with positive gain, best gain: -inf\n",
      "[LightGBM] [Warning] No further splits with positive gain, best gain: -inf\n",
      "[LightGBM] [Warning] No further splits with positive gain, best gain: -inf\n",
      "[LightGBM] [Warning] No further splits with positive gain, best gain: -inf\n",
      "[LightGBM] [Warning] No further splits with positive gain, best gain: -inf\n",
      "[LightGBM] [Warning] Auto-choosing row-wise multi-threading, the overhead of testing was 0.003756 seconds.\n",
      "You can set `force_row_wise=true` to remove the overhead.\n",
      "And if memory is not enough, you can set `force_col_wise=true`.\n",
      "[LightGBM] [Warning] No further splits with positive gain, best gain: -inf\n",
      "[LightGBM] [Warning] No further splits with positive gain, best gain: -inf\n",
      "[LightGBM] [Warning] No further splits with positive gain, best gain: -inf\n",
      "[LightGBM] [Warning] No further splits with positive gain, best gain: -inf\n",
      "[LightGBM] [Warning] No further splits with positive gain, best gain: -inf\n"
     ]
    }
   ],
   "source": [
    "results_ensemble_models = {}\n",
    "\n",
    "cv = KFold(n_splits=5, shuffle=True, random_state=0)\n",
    "\n",
    "for name, model in models.items():\n",
    "    res=[]\n",
    "    for i, (train_index, test_index) in enumerate(cv.split(X5, y)):\n",
    "        X_train, X_test = X5.iloc[train_index], X5.iloc[test_index]\n",
    "        y_train, y_test = y[train_index], y[test_index]\n",
    "\n",
    "        model.fit(X_train, y_train)\n",
    "        y_pred = model.predict_proba(X_test)[:, 1]\n",
    "        res.append(roc_auc_score(y_test, y_pred))\n",
    "    results_ensemble_models[name] = res"
   ]
  },
  {
   "cell_type": "code",
   "execution_count": 50,
   "id": "80bda33d-dc4e-49ce-a068-b10e2456ba56",
   "metadata": {},
   "outputs": [
    {
     "name": "stdout",
     "output_type": "stream",
     "text": [
      "----------\n",
      "cat\n",
      "0.9996670608593\n",
      "6.217711694214119e-05\n",
      "----------\n",
      "rf\n",
      "0.9951870148044204\n",
      "0.00019755164738744453\n",
      "----------\n",
      "et\n",
      "0.9920233242638599\n",
      "0.0003135407669724905\n",
      "----------\n",
      "xgb\n",
      "0.999680595097115\n",
      "4.958033855562657e-05\n",
      "----------\n",
      "lightgbm\n",
      "0.9997303755245512\n",
      "4.9441099576529574e-05\n",
      "----------\n",
      "knn\n",
      "0.9959068927971348\n",
      "0.0001875400601715395\n"
     ]
    }
   ],
   "source": [
    "for name, result in results_ensemble_models.items():\n",
    "    print(\"----------\\n\" + name)\n",
    "    print(np.mean(result))\n",
    "    print(np.std(result))"
   ]
  },
  {
   "cell_type": "code",
   "execution_count": 65,
   "id": "5e8d482a-89e4-469b-a0e5-5e2615ecbc97",
   "metadata": {},
   "outputs": [
    {
     "name": "stdout",
     "output_type": "stream",
     "text": [
      "[18:46:14] WARNING: C:\\Users\\dev-admin\\croot\\xgboost-split_1675120659361\\work\\src\\learner.cc:576: \n",
      "Parameters: { \"verbose\" } might not be used.\n",
      "\n",
      "  This could be a false alarm, with some parameters getting used by language bindings but\n",
      "  then being mistakenly passed down to XGBoost core, or some parameter actually being used\n",
      "  but getting flagged wrongly here. Please open an issue if you find any such cases.\n",
      "\n",
      "\n",
      "[18:46:14] WARNING: C:\\Users\\dev-admin\\croot\\xgboost-split_1675120659361\\work\\src\\learner.cc:1115: Starting in XGBoost 1.3.0, the default evaluation metric used with the objective 'binary:logistic' was changed from 'error' to 'logloss'. Explicitly set eval_metric if you'd like to restore the old behavior.\n"
     ]
    },
    {
     "ename": "KeyboardInterrupt",
     "evalue": "",
     "output_type": "error",
     "traceback": [
      "\u001b[1;31m---------------------------------------------------------------------------\u001b[0m",
      "\u001b[1;31mKeyboardInterrupt\u001b[0m                         Traceback (most recent call last)",
      "\u001b[1;32m~\\AppData\\Local\\Temp\\ipykernel_7784\\1204441938.py\u001b[0m in \u001b[0;36m<module>\u001b[1;34m\u001b[0m\n\u001b[0;32m     10\u001b[0m     \u001b[0my_train\u001b[0m\u001b[1;33m,\u001b[0m \u001b[0my_test\u001b[0m \u001b[1;33m=\u001b[0m \u001b[0my\u001b[0m\u001b[1;33m[\u001b[0m\u001b[0mtrain_index\u001b[0m\u001b[1;33m]\u001b[0m\u001b[1;33m,\u001b[0m \u001b[0my\u001b[0m\u001b[1;33m[\u001b[0m\u001b[0mtest_index\u001b[0m\u001b[1;33m]\u001b[0m\u001b[1;33m\u001b[0m\u001b[1;33m\u001b[0m\u001b[0m\n\u001b[0;32m     11\u001b[0m \u001b[1;33m\u001b[0m\u001b[0m\n\u001b[1;32m---> 12\u001b[1;33m     \u001b[0mfinal_model\u001b[0m\u001b[1;33m.\u001b[0m\u001b[0mfit\u001b[0m\u001b[1;33m(\u001b[0m\u001b[0mX_train\u001b[0m\u001b[1;33m,\u001b[0m \u001b[0my_train\u001b[0m\u001b[1;33m)\u001b[0m\u001b[1;33m\u001b[0m\u001b[1;33m\u001b[0m\u001b[0m\n\u001b[0m\u001b[0;32m     13\u001b[0m     \u001b[0my_pred\u001b[0m \u001b[1;33m=\u001b[0m \u001b[0mfinal_model\u001b[0m\u001b[1;33m.\u001b[0m\u001b[0mpredict_proba\u001b[0m\u001b[1;33m(\u001b[0m\u001b[0mX_test\u001b[0m\u001b[1;33m)\u001b[0m\u001b[1;33m[\u001b[0m\u001b[1;33m:\u001b[0m\u001b[1;33m,\u001b[0m \u001b[1;36m1\u001b[0m\u001b[1;33m]\u001b[0m\u001b[1;33m\u001b[0m\u001b[1;33m\u001b[0m\u001b[0m\n\u001b[0;32m     14\u001b[0m     \u001b[0mresults_ensemble\u001b[0m\u001b[1;33m.\u001b[0m\u001b[0mappend\u001b[0m\u001b[1;33m(\u001b[0m\u001b[0mroc_auc_score\u001b[0m\u001b[1;33m(\u001b[0m\u001b[0my_test\u001b[0m\u001b[1;33m,\u001b[0m \u001b[0my_pred\u001b[0m\u001b[1;33m)\u001b[0m\u001b[1;33m)\u001b[0m\u001b[1;33m\u001b[0m\u001b[1;33m\u001b[0m\u001b[0m\n",
      "\u001b[1;32m~\\Anaconda3\\lib\\site-packages\\sklearn\\ensemble\\_voting.py\u001b[0m in \u001b[0;36mfit\u001b[1;34m(self, X, y, sample_weight)\u001b[0m\n\u001b[0;32m    322\u001b[0m         \u001b[0mtransformed_y\u001b[0m \u001b[1;33m=\u001b[0m \u001b[0mself\u001b[0m\u001b[1;33m.\u001b[0m\u001b[0mle_\u001b[0m\u001b[1;33m.\u001b[0m\u001b[0mtransform\u001b[0m\u001b[1;33m(\u001b[0m\u001b[0my\u001b[0m\u001b[1;33m)\u001b[0m\u001b[1;33m\u001b[0m\u001b[1;33m\u001b[0m\u001b[0m\n\u001b[0;32m    323\u001b[0m \u001b[1;33m\u001b[0m\u001b[0m\n\u001b[1;32m--> 324\u001b[1;33m         \u001b[1;32mreturn\u001b[0m \u001b[0msuper\u001b[0m\u001b[1;33m(\u001b[0m\u001b[1;33m)\u001b[0m\u001b[1;33m.\u001b[0m\u001b[0mfit\u001b[0m\u001b[1;33m(\u001b[0m\u001b[0mX\u001b[0m\u001b[1;33m,\u001b[0m \u001b[0mtransformed_y\u001b[0m\u001b[1;33m,\u001b[0m \u001b[0msample_weight\u001b[0m\u001b[1;33m)\u001b[0m\u001b[1;33m\u001b[0m\u001b[1;33m\u001b[0m\u001b[0m\n\u001b[0m\u001b[0;32m    325\u001b[0m \u001b[1;33m\u001b[0m\u001b[0m\n\u001b[0;32m    326\u001b[0m     \u001b[1;32mdef\u001b[0m \u001b[0mpredict\u001b[0m\u001b[1;33m(\u001b[0m\u001b[0mself\u001b[0m\u001b[1;33m,\u001b[0m \u001b[0mX\u001b[0m\u001b[1;33m)\u001b[0m\u001b[1;33m:\u001b[0m\u001b[1;33m\u001b[0m\u001b[1;33m\u001b[0m\u001b[0m\n",
      "\u001b[1;32m~\\Anaconda3\\lib\\site-packages\\sklearn\\ensemble\\_voting.py\u001b[0m in \u001b[0;36mfit\u001b[1;34m(self, X, y, sample_weight)\u001b[0m\n\u001b[0;32m     81\u001b[0m                 \u001b[0mmessage\u001b[0m\u001b[1;33m=\u001b[0m\u001b[0mself\u001b[0m\u001b[1;33m.\u001b[0m\u001b[0m_log_message\u001b[0m\u001b[1;33m(\u001b[0m\u001b[0mnames\u001b[0m\u001b[1;33m[\u001b[0m\u001b[0midx\u001b[0m\u001b[1;33m]\u001b[0m\u001b[1;33m,\u001b[0m \u001b[0midx\u001b[0m \u001b[1;33m+\u001b[0m \u001b[1;36m1\u001b[0m\u001b[1;33m,\u001b[0m \u001b[0mlen\u001b[0m\u001b[1;33m(\u001b[0m\u001b[0mclfs\u001b[0m\u001b[1;33m)\u001b[0m\u001b[1;33m)\u001b[0m\u001b[1;33m,\u001b[0m\u001b[1;33m\u001b[0m\u001b[1;33m\u001b[0m\u001b[0m\n\u001b[0;32m     82\u001b[0m             )\n\u001b[1;32m---> 83\u001b[1;33m             \u001b[1;32mfor\u001b[0m \u001b[0midx\u001b[0m\u001b[1;33m,\u001b[0m \u001b[0mclf\u001b[0m \u001b[1;32min\u001b[0m \u001b[0menumerate\u001b[0m\u001b[1;33m(\u001b[0m\u001b[0mclfs\u001b[0m\u001b[1;33m)\u001b[0m\u001b[1;33m\u001b[0m\u001b[1;33m\u001b[0m\u001b[0m\n\u001b[0m\u001b[0;32m     84\u001b[0m             \u001b[1;32mif\u001b[0m \u001b[0mclf\u001b[0m \u001b[1;33m!=\u001b[0m \u001b[1;34m\"drop\"\u001b[0m\u001b[1;33m\u001b[0m\u001b[1;33m\u001b[0m\u001b[0m\n\u001b[0;32m     85\u001b[0m         )\n",
      "\u001b[1;32m~\\Anaconda3\\lib\\site-packages\\joblib\\parallel.py\u001b[0m in \u001b[0;36m__call__\u001b[1;34m(self, iterable)\u001b[0m\n\u001b[0;32m   1086\u001b[0m                 \u001b[0mself\u001b[0m\u001b[1;33m.\u001b[0m\u001b[0m_iterating\u001b[0m \u001b[1;33m=\u001b[0m \u001b[0mself\u001b[0m\u001b[1;33m.\u001b[0m\u001b[0m_original_iterator\u001b[0m \u001b[1;32mis\u001b[0m \u001b[1;32mnot\u001b[0m \u001b[1;32mNone\u001b[0m\u001b[1;33m\u001b[0m\u001b[1;33m\u001b[0m\u001b[0m\n\u001b[0;32m   1087\u001b[0m \u001b[1;33m\u001b[0m\u001b[0m\n\u001b[1;32m-> 1088\u001b[1;33m             \u001b[1;32mwhile\u001b[0m \u001b[0mself\u001b[0m\u001b[1;33m.\u001b[0m\u001b[0mdispatch_one_batch\u001b[0m\u001b[1;33m(\u001b[0m\u001b[0miterator\u001b[0m\u001b[1;33m)\u001b[0m\u001b[1;33m:\u001b[0m\u001b[1;33m\u001b[0m\u001b[1;33m\u001b[0m\u001b[0m\n\u001b[0m\u001b[0;32m   1089\u001b[0m                 \u001b[1;32mpass\u001b[0m\u001b[1;33m\u001b[0m\u001b[1;33m\u001b[0m\u001b[0m\n\u001b[0;32m   1090\u001b[0m \u001b[1;33m\u001b[0m\u001b[0m\n",
      "\u001b[1;32m~\\Anaconda3\\lib\\site-packages\\joblib\\parallel.py\u001b[0m in \u001b[0;36mdispatch_one_batch\u001b[1;34m(self, iterator)\u001b[0m\n\u001b[0;32m    899\u001b[0m                 \u001b[1;32mreturn\u001b[0m \u001b[1;32mFalse\u001b[0m\u001b[1;33m\u001b[0m\u001b[1;33m\u001b[0m\u001b[0m\n\u001b[0;32m    900\u001b[0m             \u001b[1;32melse\u001b[0m\u001b[1;33m:\u001b[0m\u001b[1;33m\u001b[0m\u001b[1;33m\u001b[0m\u001b[0m\n\u001b[1;32m--> 901\u001b[1;33m                 \u001b[0mself\u001b[0m\u001b[1;33m.\u001b[0m\u001b[0m_dispatch\u001b[0m\u001b[1;33m(\u001b[0m\u001b[0mtasks\u001b[0m\u001b[1;33m)\u001b[0m\u001b[1;33m\u001b[0m\u001b[1;33m\u001b[0m\u001b[0m\n\u001b[0m\u001b[0;32m    902\u001b[0m                 \u001b[1;32mreturn\u001b[0m \u001b[1;32mTrue\u001b[0m\u001b[1;33m\u001b[0m\u001b[1;33m\u001b[0m\u001b[0m\n\u001b[0;32m    903\u001b[0m \u001b[1;33m\u001b[0m\u001b[0m\n",
      "\u001b[1;32m~\\Anaconda3\\lib\\site-packages\\joblib\\parallel.py\u001b[0m in \u001b[0;36m_dispatch\u001b[1;34m(self, batch)\u001b[0m\n\u001b[0;32m    817\u001b[0m         \u001b[1;32mwith\u001b[0m \u001b[0mself\u001b[0m\u001b[1;33m.\u001b[0m\u001b[0m_lock\u001b[0m\u001b[1;33m:\u001b[0m\u001b[1;33m\u001b[0m\u001b[1;33m\u001b[0m\u001b[0m\n\u001b[0;32m    818\u001b[0m             \u001b[0mjob_idx\u001b[0m \u001b[1;33m=\u001b[0m \u001b[0mlen\u001b[0m\u001b[1;33m(\u001b[0m\u001b[0mself\u001b[0m\u001b[1;33m.\u001b[0m\u001b[0m_jobs\u001b[0m\u001b[1;33m)\u001b[0m\u001b[1;33m\u001b[0m\u001b[1;33m\u001b[0m\u001b[0m\n\u001b[1;32m--> 819\u001b[1;33m             \u001b[0mjob\u001b[0m \u001b[1;33m=\u001b[0m \u001b[0mself\u001b[0m\u001b[1;33m.\u001b[0m\u001b[0m_backend\u001b[0m\u001b[1;33m.\u001b[0m\u001b[0mapply_async\u001b[0m\u001b[1;33m(\u001b[0m\u001b[0mbatch\u001b[0m\u001b[1;33m,\u001b[0m \u001b[0mcallback\u001b[0m\u001b[1;33m=\u001b[0m\u001b[0mcb\u001b[0m\u001b[1;33m)\u001b[0m\u001b[1;33m\u001b[0m\u001b[1;33m\u001b[0m\u001b[0m\n\u001b[0m\u001b[0;32m    820\u001b[0m             \u001b[1;31m# A job can complete so quickly than its callback is\u001b[0m\u001b[1;33m\u001b[0m\u001b[1;33m\u001b[0m\u001b[1;33m\u001b[0m\u001b[0m\n\u001b[0;32m    821\u001b[0m             \u001b[1;31m# called before we get here, causing self._jobs to\u001b[0m\u001b[1;33m\u001b[0m\u001b[1;33m\u001b[0m\u001b[1;33m\u001b[0m\u001b[0m\n",
      "\u001b[1;32m~\\Anaconda3\\lib\\site-packages\\joblib\\_parallel_backends.py\u001b[0m in \u001b[0;36mapply_async\u001b[1;34m(self, func, callback)\u001b[0m\n\u001b[0;32m    206\u001b[0m     \u001b[1;32mdef\u001b[0m \u001b[0mapply_async\u001b[0m\u001b[1;33m(\u001b[0m\u001b[0mself\u001b[0m\u001b[1;33m,\u001b[0m \u001b[0mfunc\u001b[0m\u001b[1;33m,\u001b[0m \u001b[0mcallback\u001b[0m\u001b[1;33m=\u001b[0m\u001b[1;32mNone\u001b[0m\u001b[1;33m)\u001b[0m\u001b[1;33m:\u001b[0m\u001b[1;33m\u001b[0m\u001b[1;33m\u001b[0m\u001b[0m\n\u001b[0;32m    207\u001b[0m         \u001b[1;34m\"\"\"Schedule a func to be run\"\"\"\u001b[0m\u001b[1;33m\u001b[0m\u001b[1;33m\u001b[0m\u001b[0m\n\u001b[1;32m--> 208\u001b[1;33m         \u001b[0mresult\u001b[0m \u001b[1;33m=\u001b[0m \u001b[0mImmediateResult\u001b[0m\u001b[1;33m(\u001b[0m\u001b[0mfunc\u001b[0m\u001b[1;33m)\u001b[0m\u001b[1;33m\u001b[0m\u001b[1;33m\u001b[0m\u001b[0m\n\u001b[0m\u001b[0;32m    209\u001b[0m         \u001b[1;32mif\u001b[0m \u001b[0mcallback\u001b[0m\u001b[1;33m:\u001b[0m\u001b[1;33m\u001b[0m\u001b[1;33m\u001b[0m\u001b[0m\n\u001b[0;32m    210\u001b[0m             \u001b[0mcallback\u001b[0m\u001b[1;33m(\u001b[0m\u001b[0mresult\u001b[0m\u001b[1;33m)\u001b[0m\u001b[1;33m\u001b[0m\u001b[1;33m\u001b[0m\u001b[0m\n",
      "\u001b[1;32m~\\Anaconda3\\lib\\site-packages\\joblib\\_parallel_backends.py\u001b[0m in \u001b[0;36m__init__\u001b[1;34m(self, batch)\u001b[0m\n\u001b[0;32m    595\u001b[0m         \u001b[1;31m# Don't delay the application, to avoid keeping the input\u001b[0m\u001b[1;33m\u001b[0m\u001b[1;33m\u001b[0m\u001b[1;33m\u001b[0m\u001b[0m\n\u001b[0;32m    596\u001b[0m         \u001b[1;31m# arguments in memory\u001b[0m\u001b[1;33m\u001b[0m\u001b[1;33m\u001b[0m\u001b[1;33m\u001b[0m\u001b[0m\n\u001b[1;32m--> 597\u001b[1;33m         \u001b[0mself\u001b[0m\u001b[1;33m.\u001b[0m\u001b[0mresults\u001b[0m \u001b[1;33m=\u001b[0m \u001b[0mbatch\u001b[0m\u001b[1;33m(\u001b[0m\u001b[1;33m)\u001b[0m\u001b[1;33m\u001b[0m\u001b[1;33m\u001b[0m\u001b[0m\n\u001b[0m\u001b[0;32m    598\u001b[0m \u001b[1;33m\u001b[0m\u001b[0m\n\u001b[0;32m    599\u001b[0m     \u001b[1;32mdef\u001b[0m \u001b[0mget\u001b[0m\u001b[1;33m(\u001b[0m\u001b[0mself\u001b[0m\u001b[1;33m)\u001b[0m\u001b[1;33m:\u001b[0m\u001b[1;33m\u001b[0m\u001b[1;33m\u001b[0m\u001b[0m\n",
      "\u001b[1;32m~\\Anaconda3\\lib\\site-packages\\joblib\\parallel.py\u001b[0m in \u001b[0;36m__call__\u001b[1;34m(self)\u001b[0m\n\u001b[0;32m    287\u001b[0m         \u001b[1;32mwith\u001b[0m \u001b[0mparallel_backend\u001b[0m\u001b[1;33m(\u001b[0m\u001b[0mself\u001b[0m\u001b[1;33m.\u001b[0m\u001b[0m_backend\u001b[0m\u001b[1;33m,\u001b[0m \u001b[0mn_jobs\u001b[0m\u001b[1;33m=\u001b[0m\u001b[0mself\u001b[0m\u001b[1;33m.\u001b[0m\u001b[0m_n_jobs\u001b[0m\u001b[1;33m)\u001b[0m\u001b[1;33m:\u001b[0m\u001b[1;33m\u001b[0m\u001b[1;33m\u001b[0m\u001b[0m\n\u001b[0;32m    288\u001b[0m             return [func(*args, **kwargs)\n\u001b[1;32m--> 289\u001b[1;33m                     for func, args, kwargs in self.items]\n\u001b[0m\u001b[0;32m    290\u001b[0m \u001b[1;33m\u001b[0m\u001b[0m\n\u001b[0;32m    291\u001b[0m     \u001b[1;32mdef\u001b[0m \u001b[0m__reduce__\u001b[0m\u001b[1;33m(\u001b[0m\u001b[0mself\u001b[0m\u001b[1;33m)\u001b[0m\u001b[1;33m:\u001b[0m\u001b[1;33m\u001b[0m\u001b[1;33m\u001b[0m\u001b[0m\n",
      "\u001b[1;32m~\\Anaconda3\\lib\\site-packages\\joblib\\parallel.py\u001b[0m in \u001b[0;36m<listcomp>\u001b[1;34m(.0)\u001b[0m\n\u001b[0;32m    287\u001b[0m         \u001b[1;32mwith\u001b[0m \u001b[0mparallel_backend\u001b[0m\u001b[1;33m(\u001b[0m\u001b[0mself\u001b[0m\u001b[1;33m.\u001b[0m\u001b[0m_backend\u001b[0m\u001b[1;33m,\u001b[0m \u001b[0mn_jobs\u001b[0m\u001b[1;33m=\u001b[0m\u001b[0mself\u001b[0m\u001b[1;33m.\u001b[0m\u001b[0m_n_jobs\u001b[0m\u001b[1;33m)\u001b[0m\u001b[1;33m:\u001b[0m\u001b[1;33m\u001b[0m\u001b[1;33m\u001b[0m\u001b[0m\n\u001b[0;32m    288\u001b[0m             return [func(*args, **kwargs)\n\u001b[1;32m--> 289\u001b[1;33m                     for func, args, kwargs in self.items]\n\u001b[0m\u001b[0;32m    290\u001b[0m \u001b[1;33m\u001b[0m\u001b[0m\n\u001b[0;32m    291\u001b[0m     \u001b[1;32mdef\u001b[0m \u001b[0m__reduce__\u001b[0m\u001b[1;33m(\u001b[0m\u001b[0mself\u001b[0m\u001b[1;33m)\u001b[0m\u001b[1;33m:\u001b[0m\u001b[1;33m\u001b[0m\u001b[1;33m\u001b[0m\u001b[0m\n",
      "\u001b[1;32m~\\Anaconda3\\lib\\site-packages\\sklearn\\utils\\fixes.py\u001b[0m in \u001b[0;36m__call__\u001b[1;34m(self, *args, **kwargs)\u001b[0m\n\u001b[0;32m    214\u001b[0m     \u001b[1;32mdef\u001b[0m \u001b[0m__call__\u001b[0m\u001b[1;33m(\u001b[0m\u001b[0mself\u001b[0m\u001b[1;33m,\u001b[0m \u001b[1;33m*\u001b[0m\u001b[0margs\u001b[0m\u001b[1;33m,\u001b[0m \u001b[1;33m**\u001b[0m\u001b[0mkwargs\u001b[0m\u001b[1;33m)\u001b[0m\u001b[1;33m:\u001b[0m\u001b[1;33m\u001b[0m\u001b[1;33m\u001b[0m\u001b[0m\n\u001b[0;32m    215\u001b[0m         \u001b[1;32mwith\u001b[0m \u001b[0mconfig_context\u001b[0m\u001b[1;33m(\u001b[0m\u001b[1;33m**\u001b[0m\u001b[0mself\u001b[0m\u001b[1;33m.\u001b[0m\u001b[0mconfig\u001b[0m\u001b[1;33m)\u001b[0m\u001b[1;33m:\u001b[0m\u001b[1;33m\u001b[0m\u001b[1;33m\u001b[0m\u001b[0m\n\u001b[1;32m--> 216\u001b[1;33m             \u001b[1;32mreturn\u001b[0m \u001b[0mself\u001b[0m\u001b[1;33m.\u001b[0m\u001b[0mfunction\u001b[0m\u001b[1;33m(\u001b[0m\u001b[1;33m*\u001b[0m\u001b[0margs\u001b[0m\u001b[1;33m,\u001b[0m \u001b[1;33m**\u001b[0m\u001b[0mkwargs\u001b[0m\u001b[1;33m)\u001b[0m\u001b[1;33m\u001b[0m\u001b[1;33m\u001b[0m\u001b[0m\n\u001b[0m\u001b[0;32m    217\u001b[0m \u001b[1;33m\u001b[0m\u001b[0m\n\u001b[0;32m    218\u001b[0m \u001b[1;33m\u001b[0m\u001b[0m\n",
      "\u001b[1;32m~\\Anaconda3\\lib\\site-packages\\sklearn\\ensemble\\_base.py\u001b[0m in \u001b[0;36m_fit_single_estimator\u001b[1;34m(estimator, X, y, sample_weight, message_clsname, message)\u001b[0m\n\u001b[0;32m     40\u001b[0m     \u001b[1;32melse\u001b[0m\u001b[1;33m:\u001b[0m\u001b[1;33m\u001b[0m\u001b[1;33m\u001b[0m\u001b[0m\n\u001b[0;32m     41\u001b[0m         \u001b[1;32mwith\u001b[0m \u001b[0m_print_elapsed_time\u001b[0m\u001b[1;33m(\u001b[0m\u001b[0mmessage_clsname\u001b[0m\u001b[1;33m,\u001b[0m \u001b[0mmessage\u001b[0m\u001b[1;33m)\u001b[0m\u001b[1;33m:\u001b[0m\u001b[1;33m\u001b[0m\u001b[1;33m\u001b[0m\u001b[0m\n\u001b[1;32m---> 42\u001b[1;33m             \u001b[0mestimator\u001b[0m\u001b[1;33m.\u001b[0m\u001b[0mfit\u001b[0m\u001b[1;33m(\u001b[0m\u001b[0mX\u001b[0m\u001b[1;33m,\u001b[0m \u001b[0my\u001b[0m\u001b[1;33m)\u001b[0m\u001b[1;33m\u001b[0m\u001b[1;33m\u001b[0m\u001b[0m\n\u001b[0m\u001b[0;32m     43\u001b[0m     \u001b[1;32mreturn\u001b[0m \u001b[0mestimator\u001b[0m\u001b[1;33m\u001b[0m\u001b[1;33m\u001b[0m\u001b[0m\n\u001b[0;32m     44\u001b[0m \u001b[1;33m\u001b[0m\u001b[0m\n",
      "\u001b[1;32m~\\Anaconda3\\lib\\site-packages\\xgboost\\core.py\u001b[0m in \u001b[0;36minner_f\u001b[1;34m(*args, **kwargs)\u001b[0m\n\u001b[0;32m    504\u001b[0m         \u001b[1;32mfor\u001b[0m \u001b[0mk\u001b[0m\u001b[1;33m,\u001b[0m \u001b[0marg\u001b[0m \u001b[1;32min\u001b[0m \u001b[0mzip\u001b[0m\u001b[1;33m(\u001b[0m\u001b[0msig\u001b[0m\u001b[1;33m.\u001b[0m\u001b[0mparameters\u001b[0m\u001b[1;33m,\u001b[0m \u001b[0margs\u001b[0m\u001b[1;33m)\u001b[0m\u001b[1;33m:\u001b[0m\u001b[1;33m\u001b[0m\u001b[1;33m\u001b[0m\u001b[0m\n\u001b[0;32m    505\u001b[0m             \u001b[0mkwargs\u001b[0m\u001b[1;33m[\u001b[0m\u001b[0mk\u001b[0m\u001b[1;33m]\u001b[0m \u001b[1;33m=\u001b[0m \u001b[0marg\u001b[0m\u001b[1;33m\u001b[0m\u001b[1;33m\u001b[0m\u001b[0m\n\u001b[1;32m--> 506\u001b[1;33m         \u001b[1;32mreturn\u001b[0m \u001b[0mf\u001b[0m\u001b[1;33m(\u001b[0m\u001b[1;33m**\u001b[0m\u001b[0mkwargs\u001b[0m\u001b[1;33m)\u001b[0m\u001b[1;33m\u001b[0m\u001b[1;33m\u001b[0m\u001b[0m\n\u001b[0m\u001b[0;32m    507\u001b[0m \u001b[1;33m\u001b[0m\u001b[0m\n\u001b[0;32m    508\u001b[0m     \u001b[1;32mreturn\u001b[0m \u001b[0minner_f\u001b[0m\u001b[1;33m\u001b[0m\u001b[1;33m\u001b[0m\u001b[0m\n",
      "\u001b[1;32m~\\Anaconda3\\lib\\site-packages\\xgboost\\sklearn.py\u001b[0m in \u001b[0;36mfit\u001b[1;34m(self, X, y, sample_weight, base_margin, eval_set, eval_metric, early_stopping_rounds, verbose, xgb_model, sample_weight_eval_set, base_margin_eval_set, feature_weights, callbacks)\u001b[0m\n\u001b[0;32m   1259\u001b[0m             \u001b[0mverbose_eval\u001b[0m\u001b[1;33m=\u001b[0m\u001b[0mverbose\u001b[0m\u001b[1;33m,\u001b[0m\u001b[1;33m\u001b[0m\u001b[1;33m\u001b[0m\u001b[0m\n\u001b[0;32m   1260\u001b[0m             \u001b[0mxgb_model\u001b[0m\u001b[1;33m=\u001b[0m\u001b[0mmodel\u001b[0m\u001b[1;33m,\u001b[0m\u001b[1;33m\u001b[0m\u001b[1;33m\u001b[0m\u001b[0m\n\u001b[1;32m-> 1261\u001b[1;33m             \u001b[0mcallbacks\u001b[0m\u001b[1;33m=\u001b[0m\u001b[0mcallbacks\u001b[0m\u001b[1;33m,\u001b[0m\u001b[1;33m\u001b[0m\u001b[1;33m\u001b[0m\u001b[0m\n\u001b[0m\u001b[0;32m   1262\u001b[0m         )\n\u001b[0;32m   1263\u001b[0m \u001b[1;33m\u001b[0m\u001b[0m\n",
      "\u001b[1;32m~\\Anaconda3\\lib\\site-packages\\xgboost\\training.py\u001b[0m in \u001b[0;36mtrain\u001b[1;34m(params, dtrain, num_boost_round, evals, obj, feval, maximize, early_stopping_rounds, evals_result, verbose_eval, xgb_model, callbacks)\u001b[0m\n\u001b[0;32m    194\u001b[0m                           \u001b[0mevals_result\u001b[0m\u001b[1;33m=\u001b[0m\u001b[0mevals_result\u001b[0m\u001b[1;33m,\u001b[0m\u001b[1;33m\u001b[0m\u001b[1;33m\u001b[0m\u001b[0m\n\u001b[0;32m    195\u001b[0m                           \u001b[0mmaximize\u001b[0m\u001b[1;33m=\u001b[0m\u001b[0mmaximize\u001b[0m\u001b[1;33m,\u001b[0m\u001b[1;33m\u001b[0m\u001b[1;33m\u001b[0m\u001b[0m\n\u001b[1;32m--> 196\u001b[1;33m                           early_stopping_rounds=early_stopping_rounds)\n\u001b[0m\u001b[0;32m    197\u001b[0m     \u001b[1;32mreturn\u001b[0m \u001b[0mbst\u001b[0m\u001b[1;33m\u001b[0m\u001b[1;33m\u001b[0m\u001b[0m\n\u001b[0;32m    198\u001b[0m \u001b[1;33m\u001b[0m\u001b[0m\n",
      "\u001b[1;32m~\\Anaconda3\\lib\\site-packages\\xgboost\\training.py\u001b[0m in \u001b[0;36m_train_internal\u001b[1;34m(params, dtrain, num_boost_round, evals, obj, feval, xgb_model, callbacks, evals_result, maximize, verbose_eval, early_stopping_rounds)\u001b[0m\n\u001b[0;32m     79\u001b[0m         \u001b[1;32mif\u001b[0m \u001b[0mcallbacks\u001b[0m\u001b[1;33m.\u001b[0m\u001b[0mbefore_iteration\u001b[0m\u001b[1;33m(\u001b[0m\u001b[0mbst\u001b[0m\u001b[1;33m,\u001b[0m \u001b[0mi\u001b[0m\u001b[1;33m,\u001b[0m \u001b[0mdtrain\u001b[0m\u001b[1;33m,\u001b[0m \u001b[0mevals\u001b[0m\u001b[1;33m)\u001b[0m\u001b[1;33m:\u001b[0m\u001b[1;33m\u001b[0m\u001b[1;33m\u001b[0m\u001b[0m\n\u001b[0;32m     80\u001b[0m             \u001b[1;32mbreak\u001b[0m\u001b[1;33m\u001b[0m\u001b[1;33m\u001b[0m\u001b[0m\n\u001b[1;32m---> 81\u001b[1;33m         \u001b[0mbst\u001b[0m\u001b[1;33m.\u001b[0m\u001b[0mupdate\u001b[0m\u001b[1;33m(\u001b[0m\u001b[0mdtrain\u001b[0m\u001b[1;33m,\u001b[0m \u001b[0mi\u001b[0m\u001b[1;33m,\u001b[0m \u001b[0mobj\u001b[0m\u001b[1;33m)\u001b[0m\u001b[1;33m\u001b[0m\u001b[1;33m\u001b[0m\u001b[0m\n\u001b[0m\u001b[0;32m     82\u001b[0m         \u001b[1;32mif\u001b[0m \u001b[0mcallbacks\u001b[0m\u001b[1;33m.\u001b[0m\u001b[0mafter_iteration\u001b[0m\u001b[1;33m(\u001b[0m\u001b[0mbst\u001b[0m\u001b[1;33m,\u001b[0m \u001b[0mi\u001b[0m\u001b[1;33m,\u001b[0m \u001b[0mdtrain\u001b[0m\u001b[1;33m,\u001b[0m \u001b[0mevals\u001b[0m\u001b[1;33m)\u001b[0m\u001b[1;33m:\u001b[0m\u001b[1;33m\u001b[0m\u001b[1;33m\u001b[0m\u001b[0m\n\u001b[0;32m     83\u001b[0m             \u001b[1;32mbreak\u001b[0m\u001b[1;33m\u001b[0m\u001b[1;33m\u001b[0m\u001b[0m\n",
      "\u001b[1;32m~\\Anaconda3\\lib\\site-packages\\xgboost\\core.py\u001b[0m in \u001b[0;36mupdate\u001b[1;34m(self, dtrain, iteration, fobj)\u001b[0m\n\u001b[0;32m   1680\u001b[0m             _check_call(_LIB.XGBoosterUpdateOneIter(self.handle,\n\u001b[0;32m   1681\u001b[0m                                                     \u001b[0mctypes\u001b[0m\u001b[1;33m.\u001b[0m\u001b[0mc_int\u001b[0m\u001b[1;33m(\u001b[0m\u001b[0miteration\u001b[0m\u001b[1;33m)\u001b[0m\u001b[1;33m,\u001b[0m\u001b[1;33m\u001b[0m\u001b[1;33m\u001b[0m\u001b[0m\n\u001b[1;32m-> 1682\u001b[1;33m                                                     dtrain.handle))\n\u001b[0m\u001b[0;32m   1683\u001b[0m         \u001b[1;32melse\u001b[0m\u001b[1;33m:\u001b[0m\u001b[1;33m\u001b[0m\u001b[1;33m\u001b[0m\u001b[0m\n\u001b[0;32m   1684\u001b[0m             \u001b[0mpred\u001b[0m \u001b[1;33m=\u001b[0m \u001b[0mself\u001b[0m\u001b[1;33m.\u001b[0m\u001b[0mpredict\u001b[0m\u001b[1;33m(\u001b[0m\u001b[0mdtrain\u001b[0m\u001b[1;33m,\u001b[0m \u001b[0moutput_margin\u001b[0m\u001b[1;33m=\u001b[0m\u001b[1;32mTrue\u001b[0m\u001b[1;33m,\u001b[0m \u001b[0mtraining\u001b[0m\u001b[1;33m=\u001b[0m\u001b[1;32mTrue\u001b[0m\u001b[1;33m)\u001b[0m\u001b[1;33m\u001b[0m\u001b[1;33m\u001b[0m\u001b[0m\n",
      "\u001b[1;31mKeyboardInterrupt\u001b[0m: "
     ]
    }
   ],
   "source": [
    "final_model = VotingClassifier(estimators=[('cat', cat_model),\n",
    "                                            ('xgb', xgb_model),\n",
    "                                           ('lightgbm', lightgbm_model)], \n",
    "                               voting='soft')\n",
    "\n",
    "results_ensemble = []\n",
    "\n",
    "for i, (train_index, test_index) in enumerate(cv.split(X5, y)):\n",
    "    X_train, X_test = X5.iloc[train_index], X5.iloc[test_index]\n",
    "    y_train, y_test = y[train_index], y[test_index]\n",
    "    \n",
    "    final_model.fit(X_train, y_train)\n",
    "    y_pred = final_model.predict_proba(X_test)[:, 1]\n",
    "    results_ensemble.append(roc_auc_score(y_test, y_pred))\n",
    "\n",
    "print(np.mean(results_ensemble))"
   ]
  },
  {
   "cell_type": "markdown",
   "id": "5f5811a1-22cb-4717-86fa-9f3f7ab76f40",
   "metadata": {},
   "source": [
    "# Model Training"
   ]
  },
  {
   "cell_type": "code",
   "execution_count": null,
   "id": "8ef27e59-f5d4-42f3-930f-cb220f5bbb56",
   "metadata": {},
   "outputs": [],
   "source": [
    "final_model.fit(X5, y)"
   ]
  },
  {
   "cell_type": "markdown",
   "id": "aec71b01-a5c3-4433-9520-7f5d6ec9d887",
   "metadata": {},
   "source": [
    "# Prediction"
   ]
  },
  {
   "cell_type": "code",
   "execution_count": 36,
   "id": "78f457e3-b87e-4610-aa13-98d09d756ed9",
   "metadata": {},
   "outputs": [],
   "source": [
    "y_pred_1 = final_model.predict(test_final)"
   ]
  },
  {
   "cell_type": "markdown",
   "id": "e370a4d9-f6e0-4658-80cb-264723fcfadd",
   "metadata": {},
   "source": [
    "# Submission"
   ]
  },
  {
   "cell_type": "code",
   "execution_count": 37,
   "id": "fb451f03-1dfe-419d-b95c-3642f61d2fbb",
   "metadata": {},
   "outputs": [],
   "source": [
    "sample_submission['Machine failure'] = y_pred_1"
   ]
  },
  {
   "cell_type": "code",
   "execution_count": 38,
   "id": "bb9ddd1a-8a46-4160-add7-a613762aad3e",
   "metadata": {},
   "outputs": [],
   "source": [
    "sample_submission.to_csv('base_submission_oversampled.csv', index=False)"
   ]
  },
  {
   "cell_type": "code",
   "execution_count": null,
   "id": "708e402e-d1a4-4c7b-975d-0269c591837e",
   "metadata": {},
   "outputs": [],
   "source": []
  }
 ],
 "metadata": {
  "kernelspec": {
   "display_name": "Python 3 (ipykernel)",
   "language": "python",
   "name": "python3"
  },
  "language_info": {
   "codemirror_mode": {
    "name": "ipython",
    "version": 3
   },
   "file_extension": ".py",
   "mimetype": "text/x-python",
   "name": "python",
   "nbconvert_exporter": "python",
   "pygments_lexer": "ipython3",
   "version": "3.7.15"
  }
 },
 "nbformat": 4,
 "nbformat_minor": 5
}
