{
 "cells": [
  {
   "cell_type": "markdown",
   "id": "eebae837-9b77-4384-8c52-bb84c2496386",
   "metadata": {},
   "source": [
    "# Import Libraries"
   ]
  },
  {
   "cell_type": "code",
   "execution_count": 1,
   "id": "1446b426-43c1-47bb-899c-f32fe4a15be4",
   "metadata": {},
   "outputs": [],
   "source": [
    "import os\n",
    "import pandas as pd\n",
    "import numpy as np\n",
    "\n",
    "import scipy.stats\n",
    "\n",
    "import matplotlib.pyplot as plt\n",
    "import seaborn as sns\n",
    "\n",
    "from imblearn.over_sampling import SMOTE\n",
    "\n",
    "from sklearn.preprocessing import OneHotEncoder, MinMaxScaler\n",
    "from sklearn.model_selection import train_test_split\n",
    "from sklearn.ensemble import RandomForestClassifier\n",
    "from sklearn.metrics import roc_curve, roc_auc_score\n",
    "\n",
    "from category_encoders import CatBoostEncoder"
   ]
  },
  {
   "cell_type": "markdown",
   "id": "f9d5b41b-40f5-420e-bf63-972bd1501930",
   "metadata": {},
   "source": [
    "# Import data"
   ]
  },
  {
   "cell_type": "code",
   "execution_count": 2,
   "id": "e1aef206-c94a-4a2b-b8b2-43c854b2c4a4",
   "metadata": {},
   "outputs": [],
   "source": [
    "train = pd.read_csv('train.csv')\n",
    "test = pd.read_csv('test.csv')\n",
    "original = pd.read_csv('original.xls')\n",
    "original = original.drop(columns=['UDI'])\n",
    "sample_submission = pd.read_csv('sample_submission.csv')"
   ]
  },
  {
   "cell_type": "markdown",
   "id": "6d01b641-77ee-4c9f-a672-fab8a69ea3cc",
   "metadata": {},
   "source": [
    "# Combine train and original sets"
   ]
  },
  {
   "cell_type": "code",
   "execution_count": 3,
   "id": "99c2a7ea-8746-425d-b1ca-79929df8749a",
   "metadata": {},
   "outputs": [],
   "source": [
    "X = pd.concat([train, original]).reset_index(drop=True)"
   ]
  },
  {
   "cell_type": "markdown",
   "id": "56fbeae4-0aba-47f2-81cf-6ab9343e46bf",
   "metadata": {},
   "source": [
    "# Split into X and target"
   ]
  },
  {
   "cell_type": "code",
   "execution_count": 4,
   "id": "237f6d75-fc1b-4fc1-9704-14003352cd4a",
   "metadata": {},
   "outputs": [],
   "source": [
    "X0 = X.drop('Machine failure', axis=1)\n",
    "y = X['Machine failure']"
   ]
  },
  {
   "cell_type": "markdown",
   "id": "bd72b23a-181b-4a43-89b7-366bbc1ae92a",
   "metadata": {},
   "source": [
    "# Combine train and test sets"
   ]
  },
  {
   "cell_type": "code",
   "execution_count": 5,
   "id": "2af9518d-910c-4a2c-aefb-3c744019018f",
   "metadata": {},
   "outputs": [],
   "source": [
    "X = pd.concat([X0, test]).reset_index(drop=True)"
   ]
  },
  {
   "cell_type": "markdown",
   "id": "8746771a-9330-4149-9265-df816497c040",
   "metadata": {},
   "source": [
    "# Basic Data Exploration"
   ]
  },
  {
   "cell_type": "code",
   "execution_count": 6,
   "id": "6bf32200-0e76-44cc-b8ce-adf6b7fe49a7",
   "metadata": {},
   "outputs": [
    {
     "data": {
      "text/html": [
       "<div>\n",
       "<style scoped>\n",
       "    .dataframe tbody tr th:only-of-type {\n",
       "        vertical-align: middle;\n",
       "    }\n",
       "\n",
       "    .dataframe tbody tr th {\n",
       "        vertical-align: top;\n",
       "    }\n",
       "\n",
       "    .dataframe thead th {\n",
       "        text-align: right;\n",
       "    }\n",
       "</style>\n",
       "<table border=\"1\" class=\"dataframe\">\n",
       "  <thead>\n",
       "    <tr style=\"text-align: right;\">\n",
       "      <th></th>\n",
       "      <th>id</th>\n",
       "      <th>Product ID</th>\n",
       "      <th>Type</th>\n",
       "      <th>Air temperature [K]</th>\n",
       "      <th>Process temperature [K]</th>\n",
       "      <th>Rotational speed [rpm]</th>\n",
       "      <th>Torque [Nm]</th>\n",
       "      <th>Tool wear [min]</th>\n",
       "      <th>TWF</th>\n",
       "      <th>HDF</th>\n",
       "      <th>PWF</th>\n",
       "      <th>OSF</th>\n",
       "      <th>RNF</th>\n",
       "    </tr>\n",
       "  </thead>\n",
       "  <tbody>\n",
       "    <tr>\n",
       "      <th>0</th>\n",
       "      <td>0.0</td>\n",
       "      <td>L50096</td>\n",
       "      <td>L</td>\n",
       "      <td>300.6</td>\n",
       "      <td>309.6</td>\n",
       "      <td>1596</td>\n",
       "      <td>36.1</td>\n",
       "      <td>140</td>\n",
       "      <td>0</td>\n",
       "      <td>0</td>\n",
       "      <td>0</td>\n",
       "      <td>0</td>\n",
       "      <td>0</td>\n",
       "    </tr>\n",
       "    <tr>\n",
       "      <th>1</th>\n",
       "      <td>1.0</td>\n",
       "      <td>M20343</td>\n",
       "      <td>M</td>\n",
       "      <td>302.6</td>\n",
       "      <td>312.1</td>\n",
       "      <td>1759</td>\n",
       "      <td>29.1</td>\n",
       "      <td>200</td>\n",
       "      <td>0</td>\n",
       "      <td>0</td>\n",
       "      <td>0</td>\n",
       "      <td>0</td>\n",
       "      <td>0</td>\n",
       "    </tr>\n",
       "    <tr>\n",
       "      <th>2</th>\n",
       "      <td>2.0</td>\n",
       "      <td>L49454</td>\n",
       "      <td>L</td>\n",
       "      <td>299.3</td>\n",
       "      <td>308.5</td>\n",
       "      <td>1805</td>\n",
       "      <td>26.5</td>\n",
       "      <td>25</td>\n",
       "      <td>0</td>\n",
       "      <td>0</td>\n",
       "      <td>0</td>\n",
       "      <td>0</td>\n",
       "      <td>0</td>\n",
       "    </tr>\n",
       "    <tr>\n",
       "      <th>3</th>\n",
       "      <td>3.0</td>\n",
       "      <td>L53355</td>\n",
       "      <td>L</td>\n",
       "      <td>301.0</td>\n",
       "      <td>310.9</td>\n",
       "      <td>1524</td>\n",
       "      <td>44.3</td>\n",
       "      <td>197</td>\n",
       "      <td>0</td>\n",
       "      <td>0</td>\n",
       "      <td>0</td>\n",
       "      <td>0</td>\n",
       "      <td>0</td>\n",
       "    </tr>\n",
       "    <tr>\n",
       "      <th>4</th>\n",
       "      <td>4.0</td>\n",
       "      <td>M24050</td>\n",
       "      <td>M</td>\n",
       "      <td>298.0</td>\n",
       "      <td>309.0</td>\n",
       "      <td>1641</td>\n",
       "      <td>35.4</td>\n",
       "      <td>34</td>\n",
       "      <td>0</td>\n",
       "      <td>0</td>\n",
       "      <td>0</td>\n",
       "      <td>0</td>\n",
       "      <td>0</td>\n",
       "    </tr>\n",
       "  </tbody>\n",
       "</table>\n",
       "</div>"
      ],
      "text/plain": [
       "    id Product ID Type  Air temperature [K]  Process temperature [K]  \\\n",
       "0  0.0     L50096    L                300.6                    309.6   \n",
       "1  1.0     M20343    M                302.6                    312.1   \n",
       "2  2.0     L49454    L                299.3                    308.5   \n",
       "3  3.0     L53355    L                301.0                    310.9   \n",
       "4  4.0     M24050    M                298.0                    309.0   \n",
       "\n",
       "   Rotational speed [rpm]  Torque [Nm]  Tool wear [min]  TWF  HDF  PWF  OSF  \\\n",
       "0                    1596         36.1              140    0    0    0    0   \n",
       "1                    1759         29.1              200    0    0    0    0   \n",
       "2                    1805         26.5               25    0    0    0    0   \n",
       "3                    1524         44.3              197    0    0    0    0   \n",
       "4                    1641         35.4               34    0    0    0    0   \n",
       "\n",
       "   RNF  \n",
       "0    0  \n",
       "1    0  \n",
       "2    0  \n",
       "3    0  \n",
       "4    0  "
      ]
     },
     "execution_count": 6,
     "metadata": {},
     "output_type": "execute_result"
    }
   ],
   "source": [
    "X.head()"
   ]
  },
  {
   "cell_type": "code",
   "execution_count": 7,
   "id": "d72563f6-4d2e-4d5c-8389-73bebbbde4af",
   "metadata": {},
   "outputs": [
    {
     "data": {
      "text/html": [
       "<div>\n",
       "<style scoped>\n",
       "    .dataframe tbody tr th:only-of-type {\n",
       "        vertical-align: middle;\n",
       "    }\n",
       "\n",
       "    .dataframe tbody tr th {\n",
       "        vertical-align: top;\n",
       "    }\n",
       "\n",
       "    .dataframe thead th {\n",
       "        text-align: right;\n",
       "    }\n",
       "</style>\n",
       "<table border=\"1\" class=\"dataframe\">\n",
       "  <thead>\n",
       "    <tr style=\"text-align: right;\">\n",
       "      <th></th>\n",
       "      <th>id</th>\n",
       "      <th>Product ID</th>\n",
       "      <th>Type</th>\n",
       "      <th>Air temperature [K]</th>\n",
       "      <th>Process temperature [K]</th>\n",
       "      <th>Rotational speed [rpm]</th>\n",
       "      <th>Torque [Nm]</th>\n",
       "      <th>Tool wear [min]</th>\n",
       "      <th>TWF</th>\n",
       "      <th>HDF</th>\n",
       "      <th>PWF</th>\n",
       "      <th>OSF</th>\n",
       "      <th>RNF</th>\n",
       "    </tr>\n",
       "  </thead>\n",
       "  <tbody>\n",
       "    <tr>\n",
       "      <th>237378</th>\n",
       "      <td>227378.0</td>\n",
       "      <td>L51130</td>\n",
       "      <td>L</td>\n",
       "      <td>302.3</td>\n",
       "      <td>311.4</td>\n",
       "      <td>1484</td>\n",
       "      <td>40.4</td>\n",
       "      <td>15</td>\n",
       "      <td>0</td>\n",
       "      <td>0</td>\n",
       "      <td>0</td>\n",
       "      <td>0</td>\n",
       "      <td>0</td>\n",
       "    </tr>\n",
       "    <tr>\n",
       "      <th>237379</th>\n",
       "      <td>227379.0</td>\n",
       "      <td>L47783</td>\n",
       "      <td>L</td>\n",
       "      <td>297.9</td>\n",
       "      <td>309.8</td>\n",
       "      <td>1542</td>\n",
       "      <td>33.8</td>\n",
       "      <td>31</td>\n",
       "      <td>0</td>\n",
       "      <td>0</td>\n",
       "      <td>0</td>\n",
       "      <td>0</td>\n",
       "      <td>0</td>\n",
       "    </tr>\n",
       "    <tr>\n",
       "      <th>237380</th>\n",
       "      <td>227380.0</td>\n",
       "      <td>L48097</td>\n",
       "      <td>L</td>\n",
       "      <td>295.6</td>\n",
       "      <td>306.2</td>\n",
       "      <td>1501</td>\n",
       "      <td>41.4</td>\n",
       "      <td>187</td>\n",
       "      <td>0</td>\n",
       "      <td>0</td>\n",
       "      <td>0</td>\n",
       "      <td>0</td>\n",
       "      <td>0</td>\n",
       "    </tr>\n",
       "    <tr>\n",
       "      <th>237381</th>\n",
       "      <td>227381.0</td>\n",
       "      <td>L48969</td>\n",
       "      <td>L</td>\n",
       "      <td>298.1</td>\n",
       "      <td>307.8</td>\n",
       "      <td>1534</td>\n",
       "      <td>40.3</td>\n",
       "      <td>69</td>\n",
       "      <td>0</td>\n",
       "      <td>0</td>\n",
       "      <td>0</td>\n",
       "      <td>0</td>\n",
       "      <td>0</td>\n",
       "    </tr>\n",
       "    <tr>\n",
       "      <th>237382</th>\n",
       "      <td>227382.0</td>\n",
       "      <td>L52525</td>\n",
       "      <td>L</td>\n",
       "      <td>303.5</td>\n",
       "      <td>312.8</td>\n",
       "      <td>1534</td>\n",
       "      <td>36.1</td>\n",
       "      <td>92</td>\n",
       "      <td>0</td>\n",
       "      <td>0</td>\n",
       "      <td>0</td>\n",
       "      <td>0</td>\n",
       "      <td>0</td>\n",
       "    </tr>\n",
       "  </tbody>\n",
       "</table>\n",
       "</div>"
      ],
      "text/plain": [
       "              id Product ID Type  Air temperature [K]  \\\n",
       "237378  227378.0     L51130    L                302.3   \n",
       "237379  227379.0     L47783    L                297.9   \n",
       "237380  227380.0     L48097    L                295.6   \n",
       "237381  227381.0     L48969    L                298.1   \n",
       "237382  227382.0     L52525    L                303.5   \n",
       "\n",
       "        Process temperature [K]  Rotational speed [rpm]  Torque [Nm]  \\\n",
       "237378                    311.4                    1484         40.4   \n",
       "237379                    309.8                    1542         33.8   \n",
       "237380                    306.2                    1501         41.4   \n",
       "237381                    307.8                    1534         40.3   \n",
       "237382                    312.8                    1534         36.1   \n",
       "\n",
       "        Tool wear [min]  TWF  HDF  PWF  OSF  RNF  \n",
       "237378               15    0    0    0    0    0  \n",
       "237379               31    0    0    0    0    0  \n",
       "237380              187    0    0    0    0    0  \n",
       "237381               69    0    0    0    0    0  \n",
       "237382               92    0    0    0    0    0  "
      ]
     },
     "execution_count": 7,
     "metadata": {},
     "output_type": "execute_result"
    }
   ],
   "source": [
    "X.tail()"
   ]
  },
  {
   "cell_type": "code",
   "execution_count": 8,
   "id": "c7db473c-9af5-4511-9b5b-36e8008151dd",
   "metadata": {},
   "outputs": [
    {
     "data": {
      "text/html": [
       "<div>\n",
       "<style scoped>\n",
       "    .dataframe tbody tr th:only-of-type {\n",
       "        vertical-align: middle;\n",
       "    }\n",
       "\n",
       "    .dataframe tbody tr th {\n",
       "        vertical-align: top;\n",
       "    }\n",
       "\n",
       "    .dataframe thead th {\n",
       "        text-align: right;\n",
       "    }\n",
       "</style>\n",
       "<table border=\"1\" class=\"dataframe\">\n",
       "  <thead>\n",
       "    <tr style=\"text-align: right;\">\n",
       "      <th></th>\n",
       "      <th>id</th>\n",
       "      <th>Air temperature [K]</th>\n",
       "      <th>Process temperature [K]</th>\n",
       "      <th>Rotational speed [rpm]</th>\n",
       "      <th>Torque [Nm]</th>\n",
       "      <th>Tool wear [min]</th>\n",
       "      <th>TWF</th>\n",
       "      <th>HDF</th>\n",
       "      <th>PWF</th>\n",
       "      <th>OSF</th>\n",
       "      <th>RNF</th>\n",
       "    </tr>\n",
       "  </thead>\n",
       "  <tbody>\n",
       "    <tr>\n",
       "      <th>count</th>\n",
       "      <td>227383.000000</td>\n",
       "      <td>237383.000000</td>\n",
       "      <td>237383.000000</td>\n",
       "      <td>237383.000000</td>\n",
       "      <td>237383.000000</td>\n",
       "      <td>237383.000000</td>\n",
       "      <td>237383.000000</td>\n",
       "      <td>237383.000000</td>\n",
       "      <td>237383.000000</td>\n",
       "      <td>237383.000000</td>\n",
       "      <td>237383.000000</td>\n",
       "    </tr>\n",
       "    <tr>\n",
       "      <th>mean</th>\n",
       "      <td>113691.000000</td>\n",
       "      <td>299.867506</td>\n",
       "      <td>309.943138</td>\n",
       "      <td>1521.183632</td>\n",
       "      <td>40.328251</td>\n",
       "      <td>104.514076</td>\n",
       "      <td>0.001651</td>\n",
       "      <td>0.005497</td>\n",
       "      <td>0.002679</td>\n",
       "      <td>0.004170</td>\n",
       "      <td>0.002262</td>\n",
       "    </tr>\n",
       "    <tr>\n",
       "      <th>std</th>\n",
       "      <td>65639.962467</td>\n",
       "      <td>1.866693</td>\n",
       "      <td>1.389569</td>\n",
       "      <td>141.195691</td>\n",
       "      <td>8.570275</td>\n",
       "      <td>63.919806</td>\n",
       "      <td>0.040603</td>\n",
       "      <td>0.073941</td>\n",
       "      <td>0.051692</td>\n",
       "      <td>0.064445</td>\n",
       "      <td>0.047509</td>\n",
       "    </tr>\n",
       "    <tr>\n",
       "      <th>min</th>\n",
       "      <td>0.000000</td>\n",
       "      <td>295.300000</td>\n",
       "      <td>305.700000</td>\n",
       "      <td>1168.000000</td>\n",
       "      <td>3.800000</td>\n",
       "      <td>0.000000</td>\n",
       "      <td>0.000000</td>\n",
       "      <td>0.000000</td>\n",
       "      <td>0.000000</td>\n",
       "      <td>0.000000</td>\n",
       "      <td>0.000000</td>\n",
       "    </tr>\n",
       "    <tr>\n",
       "      <th>25%</th>\n",
       "      <td>56845.500000</td>\n",
       "      <td>298.300000</td>\n",
       "      <td>308.700000</td>\n",
       "      <td>1432.000000</td>\n",
       "      <td>34.600000</td>\n",
       "      <td>49.000000</td>\n",
       "      <td>0.000000</td>\n",
       "      <td>0.000000</td>\n",
       "      <td>0.000000</td>\n",
       "      <td>0.000000</td>\n",
       "      <td>0.000000</td>\n",
       "    </tr>\n",
       "    <tr>\n",
       "      <th>50%</th>\n",
       "      <td>113691.000000</td>\n",
       "      <td>300.000000</td>\n",
       "      <td>310.000000</td>\n",
       "      <td>1493.000000</td>\n",
       "      <td>40.400000</td>\n",
       "      <td>106.000000</td>\n",
       "      <td>0.000000</td>\n",
       "      <td>0.000000</td>\n",
       "      <td>0.000000</td>\n",
       "      <td>0.000000</td>\n",
       "      <td>0.000000</td>\n",
       "    </tr>\n",
       "    <tr>\n",
       "      <th>75%</th>\n",
       "      <td>170536.500000</td>\n",
       "      <td>301.200000</td>\n",
       "      <td>310.900000</td>\n",
       "      <td>1581.000000</td>\n",
       "      <td>46.200000</td>\n",
       "      <td>159.000000</td>\n",
       "      <td>0.000000</td>\n",
       "      <td>0.000000</td>\n",
       "      <td>0.000000</td>\n",
       "      <td>0.000000</td>\n",
       "      <td>0.000000</td>\n",
       "    </tr>\n",
       "    <tr>\n",
       "      <th>max</th>\n",
       "      <td>227382.000000</td>\n",
       "      <td>304.500000</td>\n",
       "      <td>313.800000</td>\n",
       "      <td>2886.000000</td>\n",
       "      <td>76.600000</td>\n",
       "      <td>253.000000</td>\n",
       "      <td>1.000000</td>\n",
       "      <td>1.000000</td>\n",
       "      <td>1.000000</td>\n",
       "      <td>1.000000</td>\n",
       "      <td>1.000000</td>\n",
       "    </tr>\n",
       "  </tbody>\n",
       "</table>\n",
       "</div>"
      ],
      "text/plain": [
       "                  id  Air temperature [K]  Process temperature [K]  \\\n",
       "count  227383.000000        237383.000000            237383.000000   \n",
       "mean   113691.000000           299.867506               309.943138   \n",
       "std     65639.962467             1.866693                 1.389569   \n",
       "min         0.000000           295.300000               305.700000   \n",
       "25%     56845.500000           298.300000               308.700000   \n",
       "50%    113691.000000           300.000000               310.000000   \n",
       "75%    170536.500000           301.200000               310.900000   \n",
       "max    227382.000000           304.500000               313.800000   \n",
       "\n",
       "       Rotational speed [rpm]    Torque [Nm]  Tool wear [min]            TWF  \\\n",
       "count           237383.000000  237383.000000    237383.000000  237383.000000   \n",
       "mean              1521.183632      40.328251       104.514076       0.001651   \n",
       "std                141.195691       8.570275        63.919806       0.040603   \n",
       "min               1168.000000       3.800000         0.000000       0.000000   \n",
       "25%               1432.000000      34.600000        49.000000       0.000000   \n",
       "50%               1493.000000      40.400000       106.000000       0.000000   \n",
       "75%               1581.000000      46.200000       159.000000       0.000000   \n",
       "max               2886.000000      76.600000       253.000000       1.000000   \n",
       "\n",
       "                 HDF            PWF            OSF            RNF  \n",
       "count  237383.000000  237383.000000  237383.000000  237383.000000  \n",
       "mean        0.005497       0.002679       0.004170       0.002262  \n",
       "std         0.073941       0.051692       0.064445       0.047509  \n",
       "min         0.000000       0.000000       0.000000       0.000000  \n",
       "25%         0.000000       0.000000       0.000000       0.000000  \n",
       "50%         0.000000       0.000000       0.000000       0.000000  \n",
       "75%         0.000000       0.000000       0.000000       0.000000  \n",
       "max         1.000000       1.000000       1.000000       1.000000  "
      ]
     },
     "execution_count": 8,
     "metadata": {},
     "output_type": "execute_result"
    }
   ],
   "source": [
    "X.describe()"
   ]
  },
  {
   "cell_type": "code",
   "execution_count": 9,
   "id": "35b634ed-e9b9-4272-bb5b-41ac2d095522",
   "metadata": {},
   "outputs": [
    {
     "data": {
      "text/plain": [
       "(237383, 13)"
      ]
     },
     "execution_count": 9,
     "metadata": {},
     "output_type": "execute_result"
    }
   ],
   "source": [
    "X.shape"
   ]
  },
  {
   "cell_type": "code",
   "execution_count": 10,
   "id": "f375e7b9-02d5-4550-be8d-0bbba4745d6e",
   "metadata": {},
   "outputs": [
    {
     "data": {
      "text/plain": [
       "227383"
      ]
     },
     "execution_count": 10,
     "metadata": {},
     "output_type": "execute_result"
    }
   ],
   "source": [
    "X.id.nunique()"
   ]
  },
  {
   "cell_type": "code",
   "execution_count": 11,
   "id": "e5c1bdf3-d2e7-49e2-bc75-9b772b0f7bff",
   "metadata": {},
   "outputs": [
    {
     "data": {
      "text/plain": [
       "10000"
      ]
     },
     "execution_count": 11,
     "metadata": {},
     "output_type": "execute_result"
    }
   ],
   "source": [
    "X['Product ID'].nunique()"
   ]
  },
  {
   "cell_type": "code",
   "execution_count": 12,
   "id": "4d54ebc0-b8a9-4e51-955d-b3957ac0acf7",
   "metadata": {},
   "outputs": [
    {
     "data": {
      "text/plain": [
       "L    164792\n",
       "M     56684\n",
       "H     15907\n",
       "Name: Type, dtype: int64"
      ]
     },
     "execution_count": 12,
     "metadata": {},
     "output_type": "execute_result"
    }
   ],
   "source": [
    "X.Type.value_counts()"
   ]
  },
  {
   "cell_type": "markdown",
   "id": "037f46b5-6210-40a8-812e-cad194ffef04",
   "metadata": {},
   "source": [
    "# Data Cleaning"
   ]
  },
  {
   "cell_type": "code",
   "execution_count": 13,
   "id": "9a60c116-eadb-4738-baee-9f842a7799e3",
   "metadata": {},
   "outputs": [
    {
     "data": {
      "text/plain": [
       "id                         10000\n",
       "Product ID                     0\n",
       "Type                           0\n",
       "Air temperature [K]            0\n",
       "Process temperature [K]        0\n",
       "Rotational speed [rpm]         0\n",
       "Torque [Nm]                    0\n",
       "Tool wear [min]                0\n",
       "TWF                            0\n",
       "HDF                            0\n",
       "PWF                            0\n",
       "OSF                            0\n",
       "RNF                            0\n",
       "dtype: int64"
      ]
     },
     "execution_count": 13,
     "metadata": {},
     "output_type": "execute_result"
    }
   ],
   "source": [
    "X.isnull().sum()"
   ]
  },
  {
   "cell_type": "code",
   "execution_count": 14,
   "id": "fc907c45-63da-47c5-b347-38ef1444fe30",
   "metadata": {},
   "outputs": [
    {
     "data": {
      "text/plain": [
       "Index(['id', 'Product ID', 'Type', 'Air temperature [K]',\n",
       "       'Process temperature [K]', 'Rotational speed [rpm]', 'Torque [Nm]',\n",
       "       'Tool wear [min]', 'TWF', 'HDF', 'PWF', 'OSF', 'RNF'],\n",
       "      dtype='object')"
      ]
     },
     "execution_count": 14,
     "metadata": {},
     "output_type": "execute_result"
    }
   ],
   "source": [
    "X.columns"
   ]
  },
  {
   "cell_type": "code",
   "execution_count": 15,
   "id": "e4df8af8-603d-4a06-9488-e07319fb42de",
   "metadata": {},
   "outputs": [],
   "source": [
    "X1 = X.copy()\n",
    "\n",
    "X1 = X1.drop(columns=['id']), #'Product ID', 'TWF', 'HDF', 'PWF', 'OSF', 'RNF'])"
   ]
  },
  {
   "cell_type": "markdown",
   "id": "82956f79-c64a-4107-a953-60d70d4655f4",
   "metadata": {},
   "source": [
    "# Data Transformation"
   ]
  },
  {
   "cell_type": "code",
   "execution_count": 18,
   "id": "36add3bd-77b7-40d4-a349-80a50993aadc",
   "metadata": {},
   "outputs": [],
   "source": [
    "# encoder = OneHotEncoder()\n",
    "# encoder.fit(X1.Type.values.reshape(-1, 1))\n",
    "# encoder_type = encoder.transform(X1.Type.values.reshape(-1, 1)).toarray()"
   ]
  },
  {
   "cell_type": "code",
   "execution_count": 16,
   "id": "cc783868-6f0f-48ab-b596-e9a0a5d5ac6b",
   "metadata": {},
   "outputs": [
    {
     "ename": "AttributeError",
     "evalue": "'tuple' object has no attribute 'drop'",
     "output_type": "error",
     "traceback": [
      "\u001b[1;31m---------------------------------------------------------------------------\u001b[0m",
      "\u001b[1;31mAttributeError\u001b[0m                            Traceback (most recent call last)",
      "\u001b[1;32m~\\AppData\\Local\\Temp\\ipykernel_17872\\1525758033.py\u001b[0m in \u001b[0;36m<module>\u001b[1;34m\u001b[0m\n\u001b[0;32m      1\u001b[0m \u001b[0mEnc\u001b[0m \u001b[1;33m=\u001b[0m \u001b[0mCatBoostEncoder\u001b[0m\u001b[1;33m(\u001b[0m\u001b[0mcols\u001b[0m \u001b[1;33m=\u001b[0m \u001b[1;33m[\u001b[0m\u001b[1;34m'Product ID'\u001b[0m\u001b[1;33m,\u001b[0m \u001b[1;34m'Type'\u001b[0m\u001b[1;33m]\u001b[0m\u001b[1;33m)\u001b[0m\u001b[1;33m\u001b[0m\u001b[1;33m\u001b[0m\u001b[0m\n\u001b[0;32m      2\u001b[0m \u001b[1;33m\u001b[0m\u001b[0m\n\u001b[1;32m----> 3\u001b[1;33m \u001b[0mencoded_train\u001b[0m \u001b[1;33m=\u001b[0m \u001b[0mEnc\u001b[0m\u001b[1;33m.\u001b[0m\u001b[0mfit_transform\u001b[0m\u001b[1;33m(\u001b[0m\u001b[0mX1\u001b[0m\u001b[1;33m.\u001b[0m\u001b[0mdrop\u001b[0m\u001b[1;33m(\u001b[0m\u001b[1;34m'Machine failure'\u001b[0m\u001b[1;33m,\u001b[0m \u001b[0maxis\u001b[0m \u001b[1;33m=\u001b[0m \u001b[1;36m1\u001b[0m\u001b[1;33m)\u001b[0m\u001b[1;33m,\u001b[0m \u001b[0my\u001b[0m\u001b[1;33m[\u001b[0m\u001b[1;34m'Machine failure'\u001b[0m\u001b[1;33m]\u001b[0m\u001b[1;33m)\u001b[0m\u001b[1;33m\u001b[0m\u001b[1;33m\u001b[0m\u001b[0m\n\u001b[0m\u001b[0;32m      4\u001b[0m \u001b[0mencoded_orig_train\u001b[0m \u001b[1;33m=\u001b[0m \u001b[0mEnc\u001b[0m\u001b[1;33m.\u001b[0m\u001b[0mtransform\u001b[0m\u001b[1;33m(\u001b[0m\u001b[0morig_train\u001b[0m\u001b[1;33m.\u001b[0m\u001b[0mdrop\u001b[0m\u001b[1;33m(\u001b[0m\u001b[1;34m'Machine failure'\u001b[0m\u001b[1;33m,\u001b[0m \u001b[0maxis\u001b[0m \u001b[1;33m=\u001b[0m \u001b[1;36m1\u001b[0m\u001b[1;33m)\u001b[0m\u001b[1;33m)\u001b[0m\u001b[1;33m\u001b[0m\u001b[1;33m\u001b[0m\u001b[0m\n\u001b[0;32m      5\u001b[0m \u001b[0mencoded_test\u001b[0m \u001b[1;33m=\u001b[0m \u001b[0mEnc\u001b[0m\u001b[1;33m.\u001b[0m\u001b[0mtransform\u001b[0m\u001b[1;33m(\u001b[0m\u001b[0mtest\u001b[0m\u001b[1;33m)\u001b[0m\u001b[1;33m\u001b[0m\u001b[1;33m\u001b[0m\u001b[0m\n",
      "\u001b[1;31mAttributeError\u001b[0m: 'tuple' object has no attribute 'drop'"
     ]
    }
   ],
   "source": [
    "Enc = CatBoostEncoder(cols = ['Product ID', 'Type'])\n",
    "\n",
    "encoded_train = Enc.fit_transform(X1.drop('Machine failure', axis = 1), y['Machine failure'])\n",
    "encoded_orig_train = Enc.transform(orig_train.drop('Machine failure', axis = 1))\n",
    "encoded_test = Enc.transform(test)"
   ]
  },
  {
   "cell_type": "code",
   "execution_count": 19,
   "id": "6e503a68-fc9d-4538-9046-692e632e3312",
   "metadata": {},
   "outputs": [],
   "source": [
    "dummies = pd.get_dummies(X1.Type, prefix='Type', drop_first=True)\n",
    "X1 = pd.concat([X1, dummies], axis='columns')\n",
    "X1 = X1.drop(['Type'], axis='columns')"
   ]
  },
  {
   "cell_type": "code",
   "execution_count": 20,
   "id": "e7d3c768-ff91-499e-b58a-e679f1ecf7e8",
   "metadata": {},
   "outputs": [],
   "source": [
    "X2 = X1.copy()"
   ]
  },
  {
   "cell_type": "code",
   "execution_count": 21,
   "id": "a0a26f4f-96f8-4b64-b3c5-868eb845bd62",
   "metadata": {},
   "outputs": [],
   "source": [
    "scaler = MinMaxScaler()\n",
    "\n",
    "scaler.fit(X2)\n",
    "X2 = pd.DataFrame(scaler.transform(X2), index=X2.index, columns=X2.columns)"
   ]
  },
  {
   "cell_type": "code",
   "execution_count": 22,
   "id": "4e8064d3-b4cd-436c-82a8-4a37440a7d65",
   "metadata": {},
   "outputs": [
    {
     "data": {
      "image/png": "[encoded data removed]",
      "text/plain": [
       "<Figure size 640x480 with 1 Axes>"
      ]
     },
     "metadata": {},
     "output_type": "display_data"
    }
   ],
   "source": [
    "sns.histplot(X2['Rotational speed [rpm]'])\n",
    "plt.show()"
   ]
  },
  {
   "cell_type": "code",
   "execution_count": 23,
   "id": "9950b591-9835-47dc-98f8-e4b55abfe9e7",
   "metadata": {},
   "outputs": [],
   "source": [
    "X3 = X2.copy()"
   ]
  },
  {
   "cell_type": "code",
   "execution_count": 24,
   "id": "84031e90-f1e3-4daa-a921-f422d561d7eb",
   "metadata": {},
   "outputs": [
    {
     "name": "stdout",
     "output_type": "stream",
     "text": [
      "Rotational speed [rpm] skewness: 1.9384098120245954\n"
     ]
    }
   ],
   "source": [
    "skew_cols = []\n",
    "for col in X3.columns.drop(['TWF', 'HDF', 'PWF', 'OSF', 'RNF', 'Type_M']):\n",
    "    if scipy.stats.skew(X3[col])>=1:\n",
    "        print(col, 'skewness:', scipy.stats.skew(X3[col]))\n",
    "        skew_cols.append(col)"
   ]
  },
  {
   "cell_type": "code",
   "execution_count": 25,
   "id": "7fb36950-f65b-4f65-b147-cd4209163500",
   "metadata": {},
   "outputs": [
    {
     "data": {
      "text/plain": [
       "['Rotational speed [rpm]']"
      ]
     },
     "execution_count": 25,
     "metadata": {},
     "output_type": "execute_result"
    }
   ],
   "source": [
    "skew_cols"
   ]
  },
  {
   "cell_type": "code",
   "execution_count": 26,
   "id": "b87d15d0-7f46-4c05-bb51-57a4030400e2",
   "metadata": {},
   "outputs": [],
   "source": [
    "for col in skew_cols:\n",
    "    X3[col] = np.log1p(X3[col])"
   ]
  },
  {
   "cell_type": "markdown",
   "id": "e8447307-fafe-416b-adcd-f77dfd0a3351",
   "metadata": {},
   "source": [
    "# Split train and test sets"
   ]
  },
  {
   "cell_type": "code",
   "execution_count": 29,
   "id": "c57fe491-f250-4acd-b78b-da1870c6ac7d",
   "metadata": {},
   "outputs": [],
   "source": [
    "X4 = X3.iloc[:146429, :]\n",
    "test_final = X3.iloc[146429:, :]"
   ]
  },
  {
   "cell_type": "markdown",
   "id": "06cf2dd6-5b16-4571-a01f-994c0faab808",
   "metadata": {
    "tags": []
   },
   "source": [
    "# Target Variable"
   ]
  },
  {
   "cell_type": "code",
   "execution_count": 30,
   "id": "0fe09d89-575b-4ee7-8b5e-3e901f471f61",
   "metadata": {},
   "outputs": [
    {
     "data": {
      "image/png": "[encoded data removed]",
      "text/plain": [
       "<Figure size 640x480 with 1 Axes>"
      ]
     },
     "metadata": {},
     "output_type": "display_data"
    }
   ],
   "source": [
    "sns.barplot(x=y.unique(), y=y.value_counts())\n",
    "plt.show()"
   ]
  },
  {
   "cell_type": "code",
   "execution_count": 31,
   "id": "489c80e7-af69-493f-86a3-2621bd4ee2d5",
   "metadata": {},
   "outputs": [
    {
     "data": {
      "text/plain": [
       "0    143942\n",
       "1      2487\n",
       "Name: Machine failure, dtype: int64"
      ]
     },
     "execution_count": 31,
     "metadata": {},
     "output_type": "execute_result"
    }
   ],
   "source": [
    "y.value_counts()"
   ]
  },
  {
   "cell_type": "code",
   "execution_count": 32,
   "id": "282ec722-28a3-4661-8d03-022dd5baf674",
   "metadata": {},
   "outputs": [
    {
     "data": {
      "text/plain": [
       "0.983"
      ]
     },
     "execution_count": 32,
     "metadata": {},
     "output_type": "execute_result"
    }
   ],
   "source": [
    "round(y.value_counts()[0]/y.shape[0], 4)"
   ]
  },
  {
   "cell_type": "code",
   "execution_count": 33,
   "id": "a6ab1fa6-e676-43f5-8b1f-11aebf38b07a",
   "metadata": {},
   "outputs": [
    {
     "name": "stdout",
     "output_type": "stream",
     "text": [
      "Shape of train data before oversampling: (146429, 12)\n",
      "Shape of train data after oversampling: (287884, 12)\n"
     ]
    }
   ],
   "source": [
    "print('Shape of train data before oversampling:', X4.shape)\n",
    "sm = SMOTE(random_state=42)\n",
    "X5, y = sm.fit_resample(X4, y)\n",
    "print('Shape of train data after oversampling:', X5.shape)"
   ]
  },
  {
   "cell_type": "markdown",
   "id": "7c29d7ea-cafb-41f2-81b4-7a308971c432",
   "metadata": {},
   "source": [
    "# Base Model"
   ]
  },
  {
   "cell_type": "code",
   "execution_count": 34,
   "id": "4e7cdd88-1d12-4e81-8e13-fd2ddb2bdd23",
   "metadata": {},
   "outputs": [],
   "source": [
    "X_train, X_test, y_train, y_test = train_test_split(X5, y, test_size=.2, random_state=0)"
   ]
  },
  {
   "cell_type": "code",
   "execution_count": 35,
   "id": "bf99e78a-1fb9-43fb-a0e7-1bec658f28d2",
   "metadata": {},
   "outputs": [],
   "source": [
    "model = RandomForestClassifier(random_state=0)"
   ]
  },
  {
   "cell_type": "code",
   "execution_count": 36,
   "id": "8455ed62-44a1-41d3-a375-5f6bff6d2edc",
   "metadata": {},
   "outputs": [
    {
     "data": {
      "text/plain": [
       "RandomForestClassifier(random_state=0)"
      ]
     },
     "execution_count": 36,
     "metadata": {},
     "output_type": "execute_result"
    }
   ],
   "source": [
    "model.fit(X_train, y_train)"
   ]
  },
  {
   "cell_type": "code",
   "execution_count": 37,
   "id": "8e13cee3-938c-4218-8d3d-d7b5211ed23a",
   "metadata": {},
   "outputs": [],
   "source": [
    "y_pred = model.predict_proba(X_test)[:, 1]"
   ]
  },
  {
   "cell_type": "markdown",
   "id": "58c0ee30-1e3a-4104-8712-8d6a09abc505",
   "metadata": {},
   "source": [
    "# Model Evaluation"
   ]
  },
  {
   "cell_type": "code",
   "execution_count": 38,
   "id": "785afb82-3ba2-41b2-8de2-193f78f17501",
   "metadata": {},
   "outputs": [
    {
     "name": "stdout",
     "output_type": "stream",
     "text": [
      "Area under ROC curve: 0.999565909428408\n"
     ]
    }
   ],
   "source": [
    "# Calculate the area under the ROC curve\n",
    "roc_auc = roc_auc_score(y_test, y_pred)\n",
    "print(\"Area under ROC curve:\", roc_auc)"
   ]
  },
  {
   "cell_type": "code",
   "execution_count": 39,
   "id": "6f513cb7-f2d7-40de-9555-5bdfea432f67",
   "metadata": {},
   "outputs": [
    {
     "data": {
      "image/png": "[encoded data removed]",
      "text/plain": [
       "<Figure size 800x600 with 1 Axes>"
      ]
     },
     "metadata": {},
     "output_type": "display_data"
    }
   ],
   "source": [
    "# Compute the false positive rate and true positive rate\n",
    "fpr, tpr, thresholds = roc_curve(y_test, y_pred)\n",
    "\n",
    "# Plot the ROC curve\n",
    "plt.figure(figsize=(8, 6))\n",
    "plt.plot(fpr, tpr, label='ROC Curve (AUC = {:.2f})'.format(roc_auc))\n",
    "plt.plot([0, 1], [0, 1], color='red', linestyle='--', label='Random')\n",
    "plt.xlabel('False Positive Rate')\n",
    "plt.ylabel('True Positive Rate')\n",
    "plt.title('Receiver Operating Characteristic (ROC) Curve')\n",
    "plt.legend(loc='lower right')\n",
    "plt.show()"
   ]
  },
  {
   "cell_type": "markdown",
   "id": "aec71b01-a5c3-4433-9520-7f5d6ec9d887",
   "metadata": {},
   "source": [
    "# Prediction"
   ]
  },
  {
   "cell_type": "code",
   "execution_count": 40,
   "id": "78f457e3-b87e-4610-aa13-98d09d756ed9",
   "metadata": {},
   "outputs": [],
   "source": [
    "y_pred_1 = model.predict(test_final)"
   ]
  },
  {
   "cell_type": "markdown",
   "id": "e370a4d9-f6e0-4658-80cb-264723fcfadd",
   "metadata": {},
   "source": [
    "# Submission"
   ]
  },
  {
   "cell_type": "code",
   "execution_count": 41,
   "id": "fb451f03-1dfe-419d-b95c-3642f61d2fbb",
   "metadata": {},
   "outputs": [],
   "source": [
    "sample_submission['Machine failure'] = y_pred_1"
   ]
  },
  {
   "cell_type": "code",
   "execution_count": 42,
   "id": "bb9ddd1a-8a46-4160-add7-a613762aad3e",
   "metadata": {},
   "outputs": [],
   "source": [
    "sample_submission.to_csv('base_submission_oversampled_original.csv', index=False)"
   ]
  },
  {
   "cell_type": "code",
   "execution_count": null,
   "id": "708e402e-d1a4-4c7b-975d-0269c591837e",
   "metadata": {},
   "outputs": [],
   "source": []
  }
 ],
 "metadata": {
  "kernelspec": {
   "display_name": "Python 3 (ipykernel)",
   "language": "python",
   "name": "python3"
  },
  "language_info": {
   "codemirror_mode": {
    "name": "ipython",
    "version": 3
   },
   "file_extension": ".py",
   "mimetype": "text/x-python",
   "name": "python",
   "nbconvert_exporter": "python",
   "pygments_lexer": "ipython3",
   "version": "3.7.15"
  }
 },
 "nbformat": 4,
 "nbformat_minor": 5
}
