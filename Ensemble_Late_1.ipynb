{
 "cells": [
  {
   "cell_type": "markdown",
   "id": "eebae837-9b77-4384-8c52-bb84c2496386",
   "metadata": {},
   "source": [
    "# Import Libraries"
   ]
  },
  {
   "cell_type": "code",
   "execution_count": 1,
   "id": "1446b426-43c1-47bb-899c-f32fe4a15be4",
   "metadata": {},
   "outputs": [],
   "source": [
    "import os\n",
    "import pandas as pd\n",
    "import numpy as np\n",
    "\n",
    "import scipy.stats\n",
    "\n",
    "import matplotlib.pyplot as plt\n",
    "import seaborn as sns\n",
    "\n",
    "from imblearn.over_sampling import SMOTE\n",
    "\n",
    "from sklearn.preprocessing import OneHotEncoder, MinMaxScaler\n",
    "from sklearn.ensemble import RandomForestClassifier, ExtraTreesClassifier, VotingClassifier\n",
    "from sklearn.neighbors import KNeighborsClassifier\n",
    "from sklearn.model_selection import cross_val_score, StratifiedKFold\n",
    "from sklearn.metrics import roc_auc_score\n",
    "\n",
    "from category_encoders import CatBoostEncoder\n",
    "\n",
    "from lightgbm import LGBMClassifier\n",
    "from xgboost import XGBClassifier\n",
    "from catboost import CatBoostClassifier\n",
    "\n",
    "from pycaret.classification import setup, evaluate_model, compare_models, plot_model\n",
    "import optuna\n",
    "\n",
    "import sys\n",
    "sys.path.append(r'C:\\Users\\Anes3\\OneDrive\\Bureau\\python_utils')\n",
    "import classifier_utils"
   ]
  },
  {
   "cell_type": "markdown",
   "id": "f9d5b41b-40f5-420e-bf63-972bd1501930",
   "metadata": {},
   "source": [
    "# Import data"
   ]
  },
  {
   "cell_type": "code",
   "execution_count": 2,
   "id": "e1aef206-c94a-4a2b-b8b2-43c854b2c4a4",
   "metadata": {},
   "outputs": [],
   "source": [
    "train = pd.read_csv('train.csv')\n",
    "test = pd.read_csv('test.csv')\n",
    "original = pd.read_csv('original.xls')\n",
    "sample_submission = pd.read_csv('sample_submission.csv')\n",
    "\n",
    "train = train.drop(columns=['id'])\n",
    "test = test.drop(columns=['id'])\n",
    "original = original.drop(columns=['UDI'])"
   ]
  },
  {
   "cell_type": "markdown",
   "id": "82956f79-c64a-4107-a953-60d70d4655f4",
   "metadata": {},
   "source": [
    "# Data Transformation"
   ]
  },
  {
   "cell_type": "code",
   "execution_count": 3,
   "id": "cc783868-6f0f-48ab-b596-e9a0a5d5ac6b",
   "metadata": {},
   "outputs": [],
   "source": [
    "Enc = CatBoostEncoder(cols = ['Product ID', 'Type'])\n",
    "\n",
    "encoded_train = Enc.fit_transform(train.drop('Machine failure', axis=1), train['Machine failure'])\n",
    "encoded_original = Enc.transform(original.drop('Machine failure', axis=1))\n",
    "encoded_test = Enc.transform(test)"
   ]
  },
  {
   "cell_type": "code",
   "execution_count": 4,
   "id": "2a73ea9d-0c15-4ca8-8ff8-bdd286f8381c",
   "metadata": {},
   "outputs": [],
   "source": [
    "encoded_train = pd.concat([encoded_train, train['Machine failure']], axis=1)\n",
    "encoded_original = pd.concat([encoded_original, original['Machine failure']], axis=1)"
   ]
  },
  {
   "cell_type": "code",
   "execution_count": 5,
   "id": "a0ea15d8-cf9f-4a84-8e32-bc30b133fef9",
   "metadata": {},
   "outputs": [],
   "source": [
    "combo_train = pd.concat([encoded_train, encoded_original])"
   ]
  },
  {
   "cell_type": "markdown",
   "id": "06cf2dd6-5b16-4571-a01f-994c0faab808",
   "metadata": {
    "tags": []
   },
   "source": [
    "# Oversampling"
   ]
  },
  {
   "cell_type": "code",
   "execution_count": 6,
   "id": "a6ab1fa6-e676-43f5-8b1f-11aebf38b07a",
   "metadata": {},
   "outputs": [
    {
     "name": "stdout",
     "output_type": "stream",
     "text": [
      "Shape of train data before oversampling: (136429, 13)\n",
      "Shape of train data after oversampling: (268562, 12)\n"
     ]
    }
   ],
   "source": [
    "print('Shape of train data before oversampling:', encoded_train.shape)\n",
    "sm = SMOTE(random_state=42)\n",
    "X, y = sm.fit_resample(encoded_train.drop('Machine failure', axis=1), encoded_train['Machine failure'])\n",
    "print('Shape of train data after oversampling:', X.shape)"
   ]
  },
  {
   "cell_type": "markdown",
   "id": "7c29d7ea-cafb-41f2-81b4-7a308971c432",
   "metadata": {},
   "source": [
    "# Model Selection"
   ]
  },
  {
   "cell_type": "code",
   "execution_count": 7,
   "id": "029b7527-1229-43e6-863c-627c3e75ec24",
   "metadata": {},
   "outputs": [],
   "source": [
    "# train_final = pd.concat([X, pd.DataFrame(data=y, columns=['Machine failure'])], axis=1)"
   ]
  },
  {
   "cell_type": "code",
   "execution_count": 8,
   "id": "a2d7edd8-5910-4dc3-b72a-0f2d05fcb338",
   "metadata": {},
   "outputs": [],
   "source": [
    "# _ = setup(data=train_final, target='Machine failure')"
   ]
  },
  {
   "cell_type": "code",
   "execution_count": 9,
   "id": "47413c1a-57ca-404a-be74-151f2f298053",
   "metadata": {},
   "outputs": [],
   "source": [
    "# best = compare_models(sort='AUC')"
   ]
  },
  {
   "cell_type": "markdown",
   "id": "ccf778a1-392d-4414-a3f3-b37e9682fc95",
   "metadata": {},
   "source": [
    "# Rename Columns"
   ]
  },
  {
   "cell_type": "code",
   "execution_count": 11,
   "id": "10addf58-2e5e-4d73-a2ee-54141bd8baa6",
   "metadata": {},
   "outputs": [],
   "source": [
    "X = X.rename(columns={'Product ID': 'Product_ID', \n",
    "                      'Air temperature [K]': 'Air_temperature_K', \n",
    "                      'Process temperature [K]': 'Process_temperature_K',\n",
    "                      'Rotational speed [rpm]': 'Rotational_speed_rpm', \n",
    "                      'Torque [Nm]': 'Torque_Nm', \n",
    "                      'Tool wear [min]': 'Tool_wear_min'})\n",
    "\n",
    "test_final = encoded_test.rename(columns={'Product ID': 'Product_ID', \n",
    "                                          'Air temperature [K]': 'Air_temperature_K', \n",
    "                                          'Process temperature [K]': 'Process_temperature_K',\n",
    "                                          'Rotational speed [rpm]': 'Rotational_speed_rpm', \n",
    "                                          'Torque [Nm]': 'Torque_Nm', \n",
    "                                          'Tool wear [min]': 'Tool_wear_min'})"
   ]
  },
  {
   "cell_type": "code",
   "execution_count": 12,
   "id": "b36673c2-17ab-4421-a60e-b1c637f602de",
   "metadata": {},
   "outputs": [],
   "source": [
    "catboost = lambda trial: classifier_utils.catboost(trial, X=X, y=y, scoring='roc_auc')\n",
    "xgboost = lambda trial: classifier_utils.xgb(trial, X=X, y=y, scoring='roc_auc')\n",
    "et = lambda trial: classifier_utils.et(trial, X=X, y=y, scoring='roc_auc')\n",
    "rf = lambda trial: classifier_utils.rf(trial, X=X, y=y, scoring='roc_auc')\n",
    "lightgbm = lambda trial: classifier_utils.lightgbm_binary(trial, X=X, y=y, scoring='roc_auc')"
   ]
  },
  {
   "cell_type": "code",
   "execution_count": 13,
   "id": "017fff30-3246-4ac8-b63f-7e077aad5f27",
   "metadata": {},
   "outputs": [
    {
     "name": "stderr",
     "output_type": "stream",
     "text": [
      "\u001b[32m[I 2023-06-28 16:22:59,739]\u001b[0m A new study created in memory with name: no-name-4132f79b-19c3-44c9-a46d-173df475672c\u001b[0m\n"
     ]
    },
    {
     "data": {
      "text/plain": [
       "{'iterations': 958,\n",
       " 'depth': 8,\n",
       " 'learning_rate': 0.08680079283148483,\n",
       " 'l2_leaf_reg': 1.306080940677865}"
      ]
     },
     "execution_count": 13,
     "metadata": {},
     "output_type": "execute_result"
    }
   ],
   "source": [
    "# study = optuna.create_study(direction='maximize')\n",
    "# optuna.logging.set_verbosity(optuna.logging.WARNING)\n",
    "# study.optimize(catboost, n_trials=10)\n",
    "# study.best_params"
   ]
  },
  {
   "cell_type": "code",
   "execution_count": 14,
   "id": "292332d3-5c7f-4b71-9603-2de5fb31870b",
   "metadata": {},
   "outputs": [
    {
     "data": {
      "text/plain": [
       "{'max_depth': 79,\n",
       " 'n_estimators': 166,\n",
       " 'min_samples_leaf': 7,\n",
       " 'min_samples_split': 80}"
      ]
     },
     "execution_count": 14,
     "metadata": {},
     "output_type": "execute_result"
    }
   ],
   "source": [
    "# study = optuna.create_study(direction='maximize')\n",
    "# optuna.logging.set_verbosity(optuna.logging.WARNING)\n",
    "# study.optimize(rf, n_trials=10)\n",
    "# study.best_params"
   ]
  },
  {
   "cell_type": "code",
   "execution_count": 15,
   "id": "270eabf0-d5ba-480c-8913-abfbd1d877e6",
   "metadata": {},
   "outputs": [
    {
     "data": {
      "text/plain": [
       "{'max_depth': 54,\n",
       " 'n_estimators': 125,\n",
       " 'min_samples_leaf': 50,\n",
       " 'min_samples_split': 76,\n",
       " 'max_features': None}"
      ]
     },
     "execution_count": 15,
     "metadata": {},
     "output_type": "execute_result"
    }
   ],
   "source": [
    "# study = optuna.create_study(direction='maximize')\n",
    "# optuna.logging.set_verbosity(optuna.logging.WARNING)\n",
    "# study.optimize(et, n_trials=10)\n",
    "# study.best_params"
   ]
  },
  {
   "cell_type": "code",
   "execution_count": 16,
   "id": "0827c238-1e3f-490d-90b2-3e1b84f85c70",
   "metadata": {},
   "outputs": [
    {
     "data": {
      "text/plain": [
       "{'n_estimators': 820,\n",
       " 'max_depth': 6,\n",
       " 'learning_rate': 0.059547775708231415,\n",
       " 'subsample': 0.9373367199852446,\n",
       " 'colsample_bytree': 0.47284101372584764,\n",
       " 'reg_alpha': 1.140156329269644e-08,\n",
       " 'reg_lambda': 1.0632393778773188e-07,\n",
       " 'gamma': 5.870378459213762e-08,\n",
       " 'min_child_weight': 6}"
      ]
     },
     "execution_count": 16,
     "metadata": {},
     "output_type": "execute_result"
    }
   ],
   "source": [
    "# study = optuna.create_study(direction='maximize')\n",
    "# optuna.logging.set_verbosity(optuna.logging.WARNING)\n",
    "# study.optimize(xgboost, n_trials=10)\n",
    "# study.best_params"
   ]
  },
  {
   "cell_type": "code",
   "execution_count": 17,
   "id": "71c075af-f139-4bed-82e5-34653311b645",
   "metadata": {},
   "outputs": [
    {
     "data": {
      "text/plain": [
       "{'n_estimators': 305,\n",
       " 'max_depth': 11,\n",
       " 'num_leaves': 41,\n",
       " 'learning_rate': 0.04960022092726908,\n",
       " 'min_child_samples': 22,\n",
       " 'subsample': 0.8196117141025535,\n",
       " 'colsample_bytree': 0.6291492182080078,\n",
       " 'reg_alpha': 1.1444487016750517e-05,\n",
       " 'reg_lambda': 3.935106524522179e-05}"
      ]
     },
     "execution_count": 17,
     "metadata": {},
     "output_type": "execute_result"
    }
   ],
   "source": [
    "# study = optuna.create_study(direction='maximize')\n",
    "# optuna.logging.set_verbosity(optuna.logging.WARNING)\n",
    "# study.optimize(lightgbm, n_trials=10)\n",
    "# study.best_params"
   ]
  },
  {
   "cell_type": "code",
   "execution_count": 21,
   "id": "6bba32b8-195d-4cb4-8cbe-3934a21d6061",
   "metadata": {},
   "outputs": [],
   "source": [
    "catboost_params = {\n",
    "    'iterations': 958,\n",
    "    'depth': 8,\n",
    "    'learning_rate': 0.08680079283148483,\n",
    "    'l2_leaf_reg': 1.306080940677865,\n",
    "    'logging_level': 'Silent'\n",
    "}\n",
    "\n",
    "rf_params = {\n",
    "    'max_depth': 79,\n",
    "    'n_estimators': 166,\n",
    "    'min_samples_leaf': 7,\n",
    "    'min_samples_split': 80,\n",
    "    'verbose': 0\n",
    "}\n",
    "\n",
    "et_params = {\n",
    "    'max_depth': 54,\n",
    "    'n_estimators': 125,\n",
    "    'min_samples_leaf': 50,\n",
    "    'min_samples_split': 76,\n",
    "    'max_features': None,\n",
    "    'verbose': 0\n",
    "}\n",
    "\n",
    "xgb_params = {\n",
    "    'n_estimators': 820,\n",
    "    'max_depth': 6,\n",
    "    'learning_rate': 0.059547775708231415,\n",
    "    'subsample': 0.9373367199852446,\n",
    "    'colsample_bytree': 0.47284101372584764,\n",
    "    'reg_alpha': 1.140156329269644e-08,\n",
    "    'reg_lambda': 1.0632393778773188e-07,\n",
    "    'gamma': 5.870378459213762e-08,\n",
    "    'min_child_weight': 6,\n",
    "    'objective': 'binary:logistic', \n",
    "    'eval_metric': 'logloss',\n",
    "    'verbosity': 0\n",
    "}\n",
    "\n",
    "lightgbm_params = {\n",
    "    'n_estimators': 305,\n",
    "    'max_depth': 11,\n",
    "    'num_leaves': 41,\n",
    "    'learning_rate': 0.04960022092726908,\n",
    "    'min_child_samples': 22,\n",
    "    'subsample': 0.8196117141025535,\n",
    "    'colsample_bytree': 0.6291492182080078,\n",
    "    'reg_alpha': 1.1444487016750517e-05,\n",
    "    'reg_lambda': 3.935106524522179e-05,\n",
    "    'verbose': -1\n",
    "}"
   ]
  },
  {
   "cell_type": "code",
   "execution_count": 22,
   "id": "ae019e37-1aa5-4337-b23b-d840fb0eea26",
   "metadata": {},
   "outputs": [],
   "source": [
    "cat_model = CatBoostClassifier(**catboost_params)\n",
    "rf_model = RandomForestClassifier(**rf_params)\n",
    "et_model = ExtraTreesClassifier(**et_params)\n",
    "xgb_model = XGBClassifier(**xgb_params)\n",
    "lightgbm_model = LGBMClassifier(**lightgbm_params)"
   ]
  },
  {
   "cell_type": "markdown",
   "id": "3060b89a-a8a8-4fc3-82c9-0dd6e86eda6b",
   "metadata": {},
   "source": [
    "# Models Evaluation"
   ]
  },
  {
   "cell_type": "code",
   "execution_count": 23,
   "id": "8c4ef5a1-2827-40d9-bf45-0e226e35e9f2",
   "metadata": {},
   "outputs": [],
   "source": [
    "models = {\n",
    "    'cat': cat_model,\n",
    "    'rf': rf_model,\n",
    "    'et': et_model,\n",
    "    'xgb': xgb_model,\n",
    "    'lightgbm': lightgbm_model\n",
    "}"
   ]
  },
  {
   "cell_type": "code",
   "execution_count": 24,
   "id": "8019204f-30ff-48af-a0fc-de432dbc01ca",
   "metadata": {},
   "outputs": [],
   "source": [
    "results_ensemble_models = {}\n",
    "\n",
    "cv = StratifiedKFold(n_splits=10, shuffle=True, random_state=0)\n",
    "\n",
    "for name, model in models.items():\n",
    "    res=[]\n",
    "    for i, (train_index, test_index) in enumerate(cv.split(X, y)):\n",
    "        X_train, X_test = X.iloc[train_index], X.iloc[test_index]\n",
    "        y_train, y_test = y[train_index], y[test_index]\n",
    "\n",
    "        model.fit(X_train, y_train)\n",
    "        y_pred = model.predict_proba(X_test)[:, 1]\n",
    "        res.append(roc_auc_score(y_test, y_pred))\n",
    "    results_ensemble_models[name] = res"
   ]
  },
  {
   "cell_type": "code",
   "execution_count": 25,
   "id": "16383f5b-eb46-4ff1-b997-6aed8af4c514",
   "metadata": {},
   "outputs": [
    {
     "name": "stdout",
     "output_type": "stream",
     "text": [
      "----------\n",
      "cat\n",
      "0.9996860975484216\n",
      "6.343712455224433e-05\n",
      "----------\n",
      "rf\n",
      "0.9940120573357978\n",
      "0.0003685570913911628\n",
      "----------\n",
      "et\n",
      "0.9870239386166645\n",
      "0.0006556740180882242\n",
      "----------\n",
      "xgb\n",
      "0.9996184200223925\n",
      "8.291416503034048e-05\n",
      "----------\n",
      "lightgbm\n",
      "0.9993383709144087\n",
      "0.0001063998572408514\n"
     ]
    }
   ],
   "source": [
    "for name, result in results_ensemble_models.items():\n",
    "    print(\"----------\\n\" + name)\n",
    "    print(np.mean(result))\n",
    "    print(np.std(result))"
   ]
  },
  {
   "cell_type": "code",
   "execution_count": 27,
   "id": "ec568320-1b75-4be3-8842-c3b061084258",
   "metadata": {},
   "outputs": [
    {
     "name": "stdout",
     "output_type": "stream",
     "text": [
      "0.9995349337808486\n"
     ]
    }
   ],
   "source": [
    "final_model = VotingClassifier(estimators=[('cat', cat_model),\n",
    "                                           ('rf', rf_model),\n",
    "                                           ('et', et_model),\n",
    "                                           ('xgb', xgb_model),\n",
    "                                           ('lightgbm', lightgbm_model)], \n",
    "                               voting='soft')\n",
    "\n",
    "results_ensemble = []\n",
    "\n",
    "for i, (train_index, test_index) in enumerate(cv.split(X, y)):\n",
    "    X_train, X_test = X.iloc[train_index], X.iloc[test_index]\n",
    "    y_train, y_test = y[train_index], y[test_index]\n",
    "    \n",
    "    final_model.fit(X_train, y_train)\n",
    "    y_pred = final_model.predict_proba(X_test)[:, 1]\n",
    "    results_ensemble.append(roc_auc_score(y_test, y_pred))\n",
    "\n",
    "print(np.mean(results_ensemble))"
   ]
  },
  {
   "cell_type": "markdown",
   "id": "a71bbe38-668a-4de0-9461-142843c83df0",
   "metadata": {},
   "source": [
    "# Model Training"
   ]
  },
  {
   "cell_type": "code",
   "execution_count": 28,
   "id": "b9971706-5386-4522-8951-4e2c50a7adbc",
   "metadata": {},
   "outputs": [
    {
     "data": {
      "text/plain": [
       "VotingClassifier(estimators=[('cat',\n",
       "                              <catboost.core.CatBoostClassifier object at 0x0000024505358BC8>),\n",
       "                             ('rf',\n",
       "                              RandomForestClassifier(max_depth=79,\n",
       "                                                     min_samples_leaf=7,\n",
       "                                                     min_samples_split=80,\n",
       "                                                     n_estimators=166)),\n",
       "                             ('et',\n",
       "                              ExtraTreesClassifier(max_depth=54,\n",
       "                                                   max_features=None,\n",
       "                                                   min_samples_leaf=50,\n",
       "                                                   min_samples_split=76,\n",
       "                                                   n_estimators=125)),\n",
       "                             ('xgb',\n",
       "                              XGBClassifier(base_score=0...\n",
       "                                            subsample=0.9373367199852446,\n",
       "                                            tree_method='exact',\n",
       "                                            validate_parameters=1,\n",
       "                                            verbosity=0)),\n",
       "                             ('lightgbm',\n",
       "                              LGBMClassifier(colsample_bytree=0.6291492182080078,\n",
       "                                             learning_rate=0.04960022092726908,\n",
       "                                             max_depth=11, min_child_samples=22,\n",
       "                                             n_estimators=305, num_leaves=41,\n",
       "                                             reg_alpha=1.1444487016750517e-05,\n",
       "                                             reg_lambda=3.935106524522179e-05,\n",
       "                                             subsample=0.8196117141025535,\n",
       "                                             verbose=-1))],\n",
       "                 voting='soft')"
      ]
     },
     "execution_count": 28,
     "metadata": {},
     "output_type": "execute_result"
    }
   ],
   "source": [
    "final_model.fit(X, y)"
   ]
  },
  {
   "cell_type": "markdown",
   "id": "93cb045c-2d4a-4260-a5b0-45ffe445da0c",
   "metadata": {},
   "source": [
    "# Prediction"
   ]
  },
  {
   "cell_type": "code",
   "execution_count": 29,
   "id": "5ef9214a-ee68-434e-9a9f-02fbda8732b4",
   "metadata": {},
   "outputs": [],
   "source": [
    "y_pred_1 = final_model.predict(test_final)"
   ]
  },
  {
   "cell_type": "markdown",
   "id": "f57ad9f5-8c1d-44ff-9705-56267ba1a306",
   "metadata": {},
   "source": [
    "# Submission"
   ]
  },
  {
   "cell_type": "code",
   "execution_count": 30,
   "id": "d50e4d05-7cac-4bb2-9295-088372b42e90",
   "metadata": {},
   "outputs": [],
   "source": [
    "sample_submission['Machine failure'] = y_pred_1"
   ]
  },
  {
   "cell_type": "code",
   "execution_count": 31,
   "id": "8e13cee3-938c-4218-8d3d-d7b5211ed23a",
   "metadata": {},
   "outputs": [],
   "source": [
    "sample_submission.to_csv('bagging_submission_late_1.csv', index=False)"
   ]
  },
  {
   "cell_type": "code",
   "execution_count": null,
   "id": "db3a57ea-2066-418b-bf87-4c4d6d7f6220",
   "metadata": {},
   "outputs": [],
   "source": []
  }
 ],
 "metadata": {
  "kernelspec": {
   "display_name": "Python 3 (ipykernel)",
   "language": "python",
   "name": "python3"
  },
  "language_info": {
   "codemirror_mode": {
    "name": "ipython",
    "version": 3
   },
   "file_extension": ".py",
   "mimetype": "text/x-python",
   "name": "python",
   "nbconvert_exporter": "python",
   "pygments_lexer": "ipython3",
   "version": "3.7.15"
  }
 },
 "nbformat": 4,
 "nbformat_minor": 5
}
