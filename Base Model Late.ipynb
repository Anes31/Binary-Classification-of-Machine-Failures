{
 "cells": [
  {
   "cell_type": "markdown",
   "id": "eebae837-9b77-4384-8c52-bb84c2496386",
   "metadata": {},
   "source": [
    "# Import Libraries"
   ]
  },
  {
   "cell_type": "code",
   "execution_count": 1,
   "id": "1446b426-43c1-47bb-899c-f32fe4a15be4",
   "metadata": {},
   "outputs": [],
   "source": [
    "import os\n",
    "import pandas as pd\n",
    "import numpy as np\n",
    "\n",
    "import scipy.stats\n",
    "\n",
    "import matplotlib.pyplot as plt\n",
    "import seaborn as sns\n",
    "\n",
    "from imblearn.over_sampling import SMOTE\n",
    "\n",
    "from sklearn.preprocessing import OneHotEncoder, MinMaxScaler\n",
    "from sklearn.model_selection import train_test_split\n",
    "from sklearn.ensemble import RandomForestClassifier\n",
    "from sklearn.metrics import roc_curve, roc_auc_score\n",
    "\n",
    "from category_encoders import CatBoostEncoder"
   ]
  },
  {
   "cell_type": "markdown",
   "id": "f9d5b41b-40f5-420e-bf63-972bd1501930",
   "metadata": {},
   "source": [
    "# Import data"
   ]
  },
  {
   "cell_type": "code",
   "execution_count": 2,
   "id": "e1aef206-c94a-4a2b-b8b2-43c854b2c4a4",
   "metadata": {},
   "outputs": [],
   "source": [
    "train = pd.read_csv('train.csv')\n",
    "test = pd.read_csv('test.csv')\n",
    "original = pd.read_csv('original.xls')\n",
    "sample_submission = pd.read_csv('sample_submission.csv')\n",
    "\n",
    "train = train.drop(columns=['id'])\n",
    "test = test.drop(columns=['id'])\n",
    "original = original.drop(columns=['UDI'])"
   ]
  },
  {
   "cell_type": "markdown",
   "id": "037f46b5-6210-40a8-812e-cad194ffef04",
   "metadata": {},
   "source": [
    "# Data Cleaning"
   ]
  },
  {
   "cell_type": "code",
   "execution_count": 3,
   "id": "9a60c116-eadb-4738-baee-9f842a7799e3",
   "metadata": {},
   "outputs": [
    {
     "data": {
      "text/plain": [
       "Product ID                 0\n",
       "Type                       0\n",
       "Air temperature [K]        0\n",
       "Process temperature [K]    0\n",
       "Rotational speed [rpm]     0\n",
       "Torque [Nm]                0\n",
       "Tool wear [min]            0\n",
       "Machine failure            0\n",
       "TWF                        0\n",
       "HDF                        0\n",
       "PWF                        0\n",
       "OSF                        0\n",
       "RNF                        0\n",
       "dtype: int64"
      ]
     },
     "execution_count": 3,
     "metadata": {},
     "output_type": "execute_result"
    }
   ],
   "source": [
    "train.isnull().sum()"
   ]
  },
  {
   "cell_type": "markdown",
   "id": "82956f79-c64a-4107-a953-60d70d4655f4",
   "metadata": {},
   "source": [
    "# Data Transformation"
   ]
  },
  {
   "cell_type": "code",
   "execution_count": 4,
   "id": "cc783868-6f0f-48ab-b596-e9a0a5d5ac6b",
   "metadata": {},
   "outputs": [],
   "source": [
    "Enc = CatBoostEncoder(cols = ['Product ID', 'Type'])\n",
    "\n",
    "encoded_train = Enc.fit_transform(train.drop('Machine failure', axis=1), train['Machine failure'])\n",
    "encoded_original = Enc.transform(original.drop('Machine failure', axis=1))\n",
    "encoded_test = Enc.transform(test)"
   ]
  },
  {
   "cell_type": "code",
   "execution_count": 5,
   "id": "2a73ea9d-0c15-4ca8-8ff8-bdd286f8381c",
   "metadata": {},
   "outputs": [],
   "source": [
    "encoded_train = pd.concat([encoded_train, train['Machine failure']], axis=1)\n",
    "encoded_original = pd.concat([encoded_original, original['Machine failure']], axis=1)"
   ]
  },
  {
   "cell_type": "code",
   "execution_count": 6,
   "id": "a0ea15d8-cf9f-4a84-8e32-bc30b133fef9",
   "metadata": {},
   "outputs": [],
   "source": [
    "combo_train = pd.concat([encoded_train, encoded_original])"
   ]
  },
  {
   "cell_type": "markdown",
   "id": "06cf2dd6-5b16-4571-a01f-994c0faab808",
   "metadata": {
    "tags": []
   },
   "source": [
    "# Oversampling"
   ]
  },
  {
   "cell_type": "code",
   "execution_count": 7,
   "id": "a6ab1fa6-e676-43f5-8b1f-11aebf38b07a",
   "metadata": {},
   "outputs": [
    {
     "name": "stdout",
     "output_type": "stream",
     "text": [
      "Shape of train data before oversampling: (136429, 13)\n",
      "Shape of train data after oversampling: (268562, 12)\n"
     ]
    }
   ],
   "source": [
    "print('Shape of train data before oversampling:', encoded_train.shape)\n",
    "sm = SMOTE(random_state=42)\n",
    "X, y = sm.fit_resample(encoded_train.drop('Machine failure', axis=1), encoded_train['Machine failure'])\n",
    "print('Shape of train data after oversampling:', X.shape)"
   ]
  },
  {
   "cell_type": "markdown",
   "id": "7c29d7ea-cafb-41f2-81b4-7a308971c432",
   "metadata": {},
   "source": [
    "# Base Model"
   ]
  },
  {
   "cell_type": "code",
   "execution_count": 9,
   "id": "4e7cdd88-1d12-4e81-8e13-fd2ddb2bdd23",
   "metadata": {},
   "outputs": [],
   "source": [
    "X_train, X_test, y_train, y_test = train_test_split(X, y, test_size=.2, random_state=0)"
   ]
  },
  {
   "cell_type": "code",
   "execution_count": 10,
   "id": "bf99e78a-1fb9-43fb-a0e7-1bec658f28d2",
   "metadata": {},
   "outputs": [],
   "source": [
    "model = RandomForestClassifier(random_state=0)"
   ]
  },
  {
   "cell_type": "code",
   "execution_count": 11,
   "id": "8455ed62-44a1-41d3-a375-5f6bff6d2edc",
   "metadata": {},
   "outputs": [
    {
     "data": {
      "text/plain": [
       "RandomForestClassifier(random_state=0)"
      ]
     },
     "execution_count": 11,
     "metadata": {},
     "output_type": "execute_result"
    }
   ],
   "source": [
    "model.fit(X_train, y_train)"
   ]
  },
  {
   "cell_type": "code",
   "execution_count": 12,
   "id": "8e13cee3-938c-4218-8d3d-d7b5211ed23a",
   "metadata": {},
   "outputs": [],
   "source": [
    "y_pred = model.predict_proba(X_test)[:, 1]"
   ]
  },
  {
   "cell_type": "markdown",
   "id": "58c0ee30-1e3a-4104-8712-8d6a09abc505",
   "metadata": {},
   "source": [
    "# Model Evaluation"
   ]
  },
  {
   "cell_type": "code",
   "execution_count": 13,
   "id": "785afb82-3ba2-41b2-8de2-193f78f17501",
   "metadata": {},
   "outputs": [
    {
     "name": "stdout",
     "output_type": "stream",
     "text": [
      "Area under ROC curve: 0.9993607849279302\n"
     ]
    }
   ],
   "source": [
    "# Calculate the area under the ROC curve\n",
    "roc_auc = roc_auc_score(y_test, y_pred)\n",
    "print(\"Area under ROC curve:\", roc_auc)"
   ]
  },
  {
   "cell_type": "markdown",
   "id": "aec71b01-a5c3-4433-9520-7f5d6ec9d887",
   "metadata": {},
   "source": [
    "# Prediction"
   ]
  },
  {
   "cell_type": "code",
   "execution_count": 14,
   "id": "b9c9e4ed-f862-4849-bfd5-b8de609b4037",
   "metadata": {},
   "outputs": [
    {
     "data": {
      "text/plain": [
       "RandomForestClassifier(random_state=0)"
      ]
     },
     "execution_count": 14,
     "metadata": {},
     "output_type": "execute_result"
    }
   ],
   "source": [
    "model = RandomForestClassifier(random_state=0)\n",
    "model.fit(X, y)"
   ]
  },
  {
   "cell_type": "code",
   "execution_count": 16,
   "id": "78f457e3-b87e-4610-aa13-98d09d756ed9",
   "metadata": {},
   "outputs": [],
   "source": [
    "# test_final = pd.DataFrame(scaler.transform(encoded_test), index=encoded_test.index, columns=encoded_test.columns)\n",
    "y_pred_1 = model.predict(encoded_test)"
   ]
  },
  {
   "cell_type": "markdown",
   "id": "e370a4d9-f6e0-4658-80cb-264723fcfadd",
   "metadata": {},
   "source": [
    "# Submission"
   ]
  },
  {
   "cell_type": "code",
   "execution_count": 17,
   "id": "fb451f03-1dfe-419d-b95c-3642f61d2fbb",
   "metadata": {},
   "outputs": [],
   "source": [
    "sample_submission['Machine failure'] = y_pred_1"
   ]
  },
  {
   "cell_type": "code",
   "execution_count": 18,
   "id": "bb9ddd1a-8a46-4160-add7-a613762aad3e",
   "metadata": {},
   "outputs": [],
   "source": [
    "sample_submission.to_csv('base_submission_late_4.csv', index=False)"
   ]
  },
  {
   "cell_type": "code",
   "execution_count": 19,
   "id": "07a60dce-5d90-4f51-9dfb-b2dbdedcc19c",
   "metadata": {},
   "outputs": [],
   "source": [
    "# late_1 no scaling and no oversampling                       Private: 0.90572    Public: 0.91618\n",
    "# late_2 oversampling and no scaling                          Private: 0.918      Public: 0.9216\n",
    "# late_3 oversampling and scaling                             Private: 0.83053    Public: 0.8364\n",
    "# late_4 oversampling and no scaling, train on all data       Private: 0.91963    Public: 0.91317"
   ]
  }
 ],
 "metadata": {
  "kernelspec": {
   "display_name": "Python 3 (ipykernel)",
   "language": "python",
   "name": "python3"
  },
  "language_info": {
   "codemirror_mode": {
    "name": "ipython",
    "version": 3
   },
   "file_extension": ".py",
   "mimetype": "text/x-python",
   "name": "python",
   "nbconvert_exporter": "python",
   "pygments_lexer": "ipython3",
   "version": "3.7.15"
  }
 },
 "nbformat": 4,
 "nbformat_minor": 5
}
